{
 "cells": [
  {
   "cell_type": "markdown",
   "metadata": {},
   "source": [
    "# 14.32 final paper\n",
    "\n",
    "## Setup"
   ]
  },
  {
   "cell_type": "code",
   "execution_count": 1,
   "metadata": {},
   "outputs": [],
   "source": [
    "import pandas as pd\n",
    "import numpy as np\n",
<<<<<<< HEAD
    "import microdf as mdf"
=======
    "import statsmodels.api as sm\n",
    "import microdf as mdf\n",
    "import matplotlib.pyplot as plt\n",
    "from linearmodels.panel import PanelOLS"
>>>>>>> 268b46f040d456086c7d7709ade9a8342855215a
   ]
  },
  {
   "cell_type": "code",
   "execution_count": 2,
   "metadata": {},
   "outputs": [],
   "source": [
    "mdf.set_plot_style()"
   ]
  },
  {
   "cell_type": "markdown",
   "metadata": {},
   "source": [
    "## Load data"
   ]
  },
  {
   "cell_type": "code",
   "execution_count": 3,
   "metadata": {},
   "outputs": [],
   "source": [
    "cases_raw = pd.read_csv('https://github.com/nytimes/covid-19-data/raw/master/us-counties.csv')"
   ]
  },
  {
   "cell_type": "code",
<<<<<<< HEAD
   "execution_count": 4,
=======
   "execution_count": 92,
>>>>>>> 268b46f040d456086c7d7709ade9a8342855215a
   "metadata": {},
   "outputs": [],
   "source": [
    "closures_raw = pd.read_csv('https://raw.githubusercontent.com/Keystone-Strategy/covid19-intervention-data/master/complete_npis_inherited_policies.csv')"
   ]
  },
  {
   "cell_type": "code",
   "execution_count": 5,
   "metadata": {},
   "outputs": [],
   "source": [
    "pop_raw = pd.read_csv('https://www2.census.gov/programs-surveys/popest/datasets/2010-2019/counties/totals/co-est2019-alldata.csv',\n",
    "                      usecols=['STATE', 'COUNTY', 'POPESTIMATE2019'])"
   ]
  },
  {
   "cell_type": "code",
   "execution_count": 6,
   "metadata": {},
   "outputs": [],
   "source": [
    "cps_raw = pd.read_csv('cps.csv.gz')"
   ]
  },
  {
   "cell_type": "markdown",
   "metadata": {},
   "source": [
    "## Preprocess"
   ]
  },
  {
   "cell_type": "markdown",
   "metadata": {},
   "source": [
    "### Population"
   ]
  },
  {
   "cell_type": "code",
   "execution_count": 7,
   "metadata": {},
   "outputs": [],
   "source": [
    "pop = pop_raw.copy(deep=True)\n",
    "pop['county_padded'] = pop.COUNTY.apply(lambda x: str(x).zfill(3))\n",
    "pop['fips'] = (pop.STATE.astype(str) + pop.county_padded).astype(int)"
   ]
  },
  {
   "cell_type": "code",
   "execution_count": 8,
   "metadata": {},
   "outputs": [],
   "source": [
    "county_pop = pop[pop.COUNTY > 0][['fips', 'POPESTIMATE2019']]\n",
    "state_pop = pop[pop.COUNTY == 0][['STATE', 'POPESTIMATE2019']]\n",
    "state_pop.rename({'STATE': 'fips'}, axis=1, inplace=True)"
   ]
  },
  {
   "cell_type": "markdown",
   "metadata": {},
   "source": [
    "### School closures"
   ]
  },
  {
   "cell_type": "code",
<<<<<<< HEAD
   "execution_count": 9,
=======
   "execution_count": 36,
>>>>>>> 268b46f040d456086c7d7709ade9a8342855215a
   "metadata": {},
   "outputs": [],
   "source": [
    "closures = closures_raw[\n",
    "    (closures_raw.npi == 'school_closure') & ~closures_raw.county.isna()][\n",
    "    ['fip_code', 'start_date']]"
   ]
  },
  {
   "cell_type": "code",
<<<<<<< HEAD
   "execution_count": 10,
=======
   "execution_count": 37,
>>>>>>> 268b46f040d456086c7d7709ade9a8342855215a
   "metadata": {},
   "outputs": [],
   "source": [
    "closures.start_date = pd.to_datetime(closures.start_date)\n",
    "closures.columns = ['fips', 'school_closure_date']"
   ]
  },
  {
   "cell_type": "code",
<<<<<<< HEAD
   "execution_count": 11,
=======
   "execution_count": 38,
>>>>>>> 268b46f040d456086c7d7709ade9a8342855215a
   "metadata": {},
   "outputs": [
    {
     "name": "stdout",
     "output_type": "stream",
     "text": [
      "Schools closed between 2020-03-12 00:00:00 and 2020-04-02 00:00:00\n"
     ]
    }
   ],
   "source": [
    "first_closure_date = closures.school_closure_date.min()\n",
    "last_closure_date = closures.school_closure_date.max()\n",
    "print(\"Schools closed between \" + str(first_closure_date) + \" and \" + \n",
    "      str(last_closure_date))"
   ]
  },
  {
   "cell_type": "code",
<<<<<<< HEAD
   "execution_count": 12,
=======
   "execution_count": 40,
>>>>>>> 268b46f040d456086c7d7709ade9a8342855215a
   "metadata": {},
   "outputs": [],
   "source": [
    "county = county_pop.merge(closures, how='left', on='fips')"
   ]
  },
  {
   "cell_type": "code",
<<<<<<< HEAD
   "execution_count": 13,
=======
   "execution_count": 45,
>>>>>>> 268b46f040d456086c7d7709ade9a8342855215a
   "metadata": {},
   "outputs": [],
   "source": [
    "county.to_csv('data/county.csv', index=False)"
   ]
  },
  {
   "cell_type": "markdown",
   "metadata": {},
   "source": [
    "### Cases"
   ]
  },
  {
   "cell_type": "code",
<<<<<<< HEAD
   "execution_count": 14,
=======
   "execution_count": 95,
>>>>>>> 268b46f040d456086c7d7709ade9a8342855215a
   "metadata": {},
   "outputs": [],
   "source": [
    "cases = cases_raw[cases_raw.date >= '2020-03-01'][\n",
    "    ['date', 'fips', 'cases', 'deaths']].copy(deep=True)"
   ]
  },
  {
   "cell_type": "code",
<<<<<<< HEAD
   "execution_count": 15,
=======
   "execution_count": 96,
>>>>>>> 268b46f040d456086c7d7709ade9a8342855215a
   "metadata": {},
   "outputs": [],
   "source": [
    "cases.date = pd.to_datetime(cases.date)"
   ]
  },
  {
   "cell_type": "code",
<<<<<<< HEAD
   "execution_count": 16,
=======
   "execution_count": 97,
>>>>>>> 268b46f040d456086c7d7709ade9a8342855215a
   "metadata": {},
   "outputs": [],
   "source": [
    "county_date = cases.merge(county, on='fips')"
   ]
  },
  {
   "cell_type": "code",
<<<<<<< HEAD
   "execution_count": 17,
=======
   "execution_count": 98,
>>>>>>> 268b46f040d456086c7d7709ade9a8342855215a
   "metadata": {},
   "outputs": [],
   "source": [
    "county_date['cases_pc'] = (1e6 * county_date.cases /\n",
    "                           county_date.POPESTIMATE2019)\n",
    "county_date['deaths_pc'] = (1e6 * county_date.deaths /\n",
    "                            county_date.POPESTIMATE2019)"
   ]
  },
  {
   "cell_type": "markdown",
   "metadata": {},
   "source": [
    "Add 1 since deaths are zero sometimes, and multiply by 1 million for variation in the feature."
   ]
  },
  {
   "cell_type": "code",
<<<<<<< HEAD
   "execution_count": 18,
=======
   "execution_count": 22,
>>>>>>> 268b46f040d456086c7d7709ade9a8342855215a
   "metadata": {},
   "outputs": [],
   "source": [
    "county_date['log_cases_pc'] = np.log(county_date.cases_pc + 1)\n",
    "county_date['log_deaths_pc'] = np.log(county_date.deaths_pc + 1)"
   ]
  },
  {
   "cell_type": "code",
<<<<<<< HEAD
   "execution_count": 19,
=======
   "execution_count": 99,
>>>>>>> 268b46f040d456086c7d7709ade9a8342855215a
   "metadata": {},
   "outputs": [],
   "source": [
    "county_date.to_csv('data/county_date.csv', index=False)"
   ]
  },
  {
   "cell_type": "markdown",
   "metadata": {},
   "source": [
    "### Merge"
   ]
  },
  {
   "cell_type": "code",
<<<<<<< HEAD
   "execution_count": 20,
   "metadata": {},
   "outputs": [],
   "source": [
    "cps = cps_raw.merge(county.rename({'fips': 'COUNTY'}, axis=1),\n",
    "                    how='left', on='COUNTY')"
=======
   "execution_count": 53,
   "metadata": {},
   "outputs": [],
   "source": [
    "cps = cps_raw.merge(county.rename({'fips': 'COUNTY'}, axis=1), on='COUNTY')"
>>>>>>> 268b46f040d456086c7d7709ade9a8342855215a
   ]
  },
  {
   "cell_type": "code",
<<<<<<< HEAD
   "execution_count": 21,
=======
   "execution_count": 54,
>>>>>>> 268b46f040d456086c7d7709ade9a8342855215a
   "metadata": {},
   "outputs": [],
   "source": [
    "cps['female'] = cps.SEX == 2"
   ]
  },
  {
   "cell_type": "markdown",
   "metadata": {},
   "source": [
    "Add date corresponding to the end of each month's survey week."
   ]
  },
  {
   "cell_type": "code",
<<<<<<< HEAD
   "execution_count": 22,
=======
   "execution_count": 69,
>>>>>>> 268b46f040d456086c7d7709ade9a8342855215a
   "metadata": {},
   "outputs": [],
   "source": [
    "cps['day'] = 12\n",
    "cps['cps_date'] = pd.to_datetime(cps[['YEAR', 'MONTH', 'day']])\n",
    "# Day of the week to find the following Saturday.\n",
    "# Series.dt.weekday is 0 for Monday, 6 for Sunday.\n",
    "cps['cps_weekday'] = cps.cps_date.dt.weekday\n",
    "cps['days_to_sat'] = np.where(cps.cps_weekday == 6, 12, 5) - cps.cps_weekday\n",
    "cps['cps_end_date'] = cps.cps_date + cps.days_to_sat.astype('timedelta64[D]')\n",
    "cps['cps_start_date'] = cps.cps_end_date - pd.DateOffset(days=6)\n",
    "# Drop unnecessary intermediate columns.\n",
    "cps.drop(['day', 'cps_date', 'cps_weekday', 'days_to_sat'], axis=1, inplace=True)"
   ]
  },
  {
   "cell_type": "markdown",
   "metadata": {},
   "source": [
<<<<<<< HEAD
    "Find two most recent CPS survey weeks."
=======
    "Check range for relevant periods."
>>>>>>> 268b46f040d456086c7d7709ade9a8342855215a
   ]
  },
  {
   "cell_type": "code",
<<<<<<< HEAD
   "execution_count": 23,
=======
   "execution_count": 71,
>>>>>>> 268b46f040d456086c7d7709ade9a8342855215a
   "metadata": {},
   "outputs": [
    {
     "data": {
      "text/html": [
       "<div>\n",
       "<style scoped>\n",
       "    .dataframe tbody tr th:only-of-type {\n",
       "        vertical-align: middle;\n",
       "    }\n",
       "\n",
       "    .dataframe tbody tr th {\n",
       "        vertical-align: top;\n",
       "    }\n",
       "\n",
       "    .dataframe thead th {\n",
       "        text-align: right;\n",
       "    }\n",
       "</style>\n",
       "<table border=\"1\" class=\"dataframe\">\n",
       "  <thead>\n",
       "    <tr style=\"text-align: right;\">\n",
       "      <th></th>\n",
<<<<<<< HEAD
       "      <th>cps_start_date</th>\n",
       "      <th>cps_end_date</th>\n",
=======
       "      <th>YEAR</th>\n",
       "      <th>SERIAL</th>\n",
       "      <th>MONTH</th>\n",
       "      <th>HWTFINL</th>\n",
       "      <th>CPSID</th>\n",
       "      <th>COUNTY</th>\n",
       "      <th>FAMINC</th>\n",
       "      <th>WTFINL</th>\n",
       "      <th>CPSIDP</th>\n",
       "      <th>AGE</th>\n",
       "      <th>...</th>\n",
       "      <th>NCHILD</th>\n",
       "      <th>NCHLT5</th>\n",
       "      <th>EMPSTAT</th>\n",
       "      <th>AHRSWORKT</th>\n",
       "      <th>EARNWEEK</th>\n",
       "      <th>POPESTIMATE2019</th>\n",
       "      <th>school_closure_date</th>\n",
       "      <th>female</th>\n",
       "      <th>cps_end_date</th>\n",
       "      <th>cps_start_date</th>\n",
>>>>>>> 268b46f040d456086c7d7709ade9a8342855215a
       "    </tr>\n",
       "  </thead>\n",
       "  <tbody>\n",
       "    <tr>\n",
<<<<<<< HEAD
       "      <th>1001950</th>\n",
       "      <td>2020-03-08</td>\n",
       "      <td>2020-03-14</td>\n",
       "    </tr>\n",
       "    <tr>\n",
       "      <th>1040952</th>\n",
       "      <td>2020-04-12</td>\n",
       "      <td>2020-04-18</td>\n",
       "    </tr>\n",
       "  </tbody>\n",
       "</table>\n",
       "</div>"
      ],
      "text/plain": [
       "        cps_start_date cps_end_date\n",
       "1001950     2020-03-08   2020-03-14\n",
       "1040952     2020-04-12   2020-04-18"
      ]
     },
     "execution_count": 23,
=======
       "      <th>0</th>\n",
       "      <td>2018</td>\n",
       "      <td>8</td>\n",
       "      <td>5</td>\n",
       "      <td>1824.9622</td>\n",
       "      <td>20180300001500</td>\n",
       "      <td>1097</td>\n",
       "      <td>830</td>\n",
       "      <td>1824.9622</td>\n",
       "      <td>20180300001501</td>\n",
       "      <td>36</td>\n",
       "      <td>...</td>\n",
       "      <td>0</td>\n",
       "      <td>0</td>\n",
       "      <td>10</td>\n",
       "      <td>40</td>\n",
       "      <td>9999.99</td>\n",
       "      <td>413210</td>\n",
       "      <td>2020-03-17</td>\n",
       "      <td>True</td>\n",
       "      <td>2018-05-12</td>\n",
       "      <td>2018-05-06</td>\n",
       "    </tr>\n",
       "    <tr>\n",
       "      <th>58</th>\n",
       "      <td>2018</td>\n",
       "      <td>6</td>\n",
       "      <td>6</td>\n",
       "      <td>2212.9501</td>\n",
       "      <td>20180300001500</td>\n",
       "      <td>1097</td>\n",
       "      <td>830</td>\n",
       "      <td>2212.9501</td>\n",
       "      <td>20180300001501</td>\n",
       "      <td>36</td>\n",
       "      <td>...</td>\n",
       "      <td>0</td>\n",
       "      <td>0</td>\n",
       "      <td>10</td>\n",
       "      <td>40</td>\n",
       "      <td>900.00</td>\n",
       "      <td>413210</td>\n",
       "      <td>2020-03-17</td>\n",
       "      <td>True</td>\n",
       "      <td>2018-06-16</td>\n",
       "      <td>2018-06-10</td>\n",
       "    </tr>\n",
       "    <tr>\n",
       "      <th>118</th>\n",
       "      <td>2018</td>\n",
       "      <td>14</td>\n",
       "      <td>7</td>\n",
       "      <td>2033.0179</td>\n",
       "      <td>20170700001100</td>\n",
       "      <td>1097</td>\n",
       "      <td>600</td>\n",
       "      <td>2033.0179</td>\n",
       "      <td>20170700001101</td>\n",
       "      <td>38</td>\n",
       "      <td>...</td>\n",
       "      <td>0</td>\n",
       "      <td>0</td>\n",
       "      <td>10</td>\n",
       "      <td>40</td>\n",
       "      <td>9999.99</td>\n",
       "      <td>413210</td>\n",
       "      <td>2020-03-17</td>\n",
       "      <td>False</td>\n",
       "      <td>2018-07-14</td>\n",
       "      <td>2018-07-08</td>\n",
       "    </tr>\n",
       "    <tr>\n",
       "      <th>181</th>\n",
       "      <td>2018</td>\n",
       "      <td>15</td>\n",
       "      <td>8</td>\n",
       "      <td>1996.3438</td>\n",
       "      <td>20170700001100</td>\n",
       "      <td>1097</td>\n",
       "      <td>600</td>\n",
       "      <td>1996.3438</td>\n",
       "      <td>20170700001101</td>\n",
       "      <td>38</td>\n",
       "      <td>...</td>\n",
       "      <td>0</td>\n",
       "      <td>0</td>\n",
       "      <td>10</td>\n",
       "      <td>40</td>\n",
       "      <td>9999.99</td>\n",
       "      <td>413210</td>\n",
       "      <td>2020-03-17</td>\n",
       "      <td>False</td>\n",
       "      <td>2018-08-18</td>\n",
       "      <td>2018-08-12</td>\n",
       "    </tr>\n",
       "    <tr>\n",
       "      <th>239</th>\n",
       "      <td>2018</td>\n",
       "      <td>15</td>\n",
       "      <td>9</td>\n",
       "      <td>1587.9000</td>\n",
       "      <td>20170700001100</td>\n",
       "      <td>1097</td>\n",
       "      <td>600</td>\n",
       "      <td>1587.9000</td>\n",
       "      <td>20170700001101</td>\n",
       "      <td>38</td>\n",
       "      <td>...</td>\n",
       "      <td>0</td>\n",
       "      <td>0</td>\n",
       "      <td>10</td>\n",
       "      <td>40</td>\n",
       "      <td>9999.99</td>\n",
       "      <td>413210</td>\n",
       "      <td>2020-03-17</td>\n",
       "      <td>False</td>\n",
       "      <td>2018-09-15</td>\n",
       "      <td>2018-09-09</td>\n",
       "    </tr>\n",
       "    <tr>\n",
       "      <th>299</th>\n",
       "      <td>2018</td>\n",
       "      <td>17</td>\n",
       "      <td>10</td>\n",
       "      <td>1860.0436</td>\n",
       "      <td>20170700001100</td>\n",
       "      <td>1097</td>\n",
       "      <td>600</td>\n",
       "      <td>1860.0436</td>\n",
       "      <td>20170700001101</td>\n",
       "      <td>38</td>\n",
       "      <td>...</td>\n",
       "      <td>0</td>\n",
       "      <td>0</td>\n",
       "      <td>10</td>\n",
       "      <td>40</td>\n",
       "      <td>590.00</td>\n",
       "      <td>413210</td>\n",
       "      <td>2020-03-17</td>\n",
       "      <td>False</td>\n",
       "      <td>2018-10-13</td>\n",
       "      <td>2018-10-07</td>\n",
       "    </tr>\n",
       "    <tr>\n",
       "      <th>355</th>\n",
       "      <td>2018</td>\n",
       "      <td>15</td>\n",
       "      <td>11</td>\n",
       "      <td>3135.4388</td>\n",
       "      <td>20171100002000</td>\n",
       "      <td>1097</td>\n",
       "      <td>500</td>\n",
       "      <td>3135.4388</td>\n",
       "      <td>20171100002001</td>\n",
       "      <td>28</td>\n",
       "      <td>...</td>\n",
       "      <td>0</td>\n",
       "      <td>0</td>\n",
       "      <td>21</td>\n",
       "      <td>999</td>\n",
       "      <td>9999.99</td>\n",
       "      <td>413210</td>\n",
       "      <td>2020-03-17</td>\n",
       "      <td>True</td>\n",
       "      <td>2018-11-17</td>\n",
       "      <td>2018-11-11</td>\n",
       "    </tr>\n",
       "    <tr>\n",
       "      <th>413</th>\n",
       "      <td>2018</td>\n",
       "      <td>20</td>\n",
       "      <td>12</td>\n",
       "      <td>3232.8779</td>\n",
       "      <td>20171100002000</td>\n",
       "      <td>1097</td>\n",
       "      <td>500</td>\n",
       "      <td>3232.8779</td>\n",
       "      <td>20171100002001</td>\n",
       "      <td>28</td>\n",
       "      <td>...</td>\n",
       "      <td>0</td>\n",
       "      <td>0</td>\n",
       "      <td>21</td>\n",
       "      <td>999</td>\n",
       "      <td>9999.99</td>\n",
       "      <td>413210</td>\n",
       "      <td>2020-03-17</td>\n",
       "      <td>True</td>\n",
       "      <td>2018-12-15</td>\n",
       "      <td>2018-12-09</td>\n",
       "    </tr>\n",
       "    <tr>\n",
       "      <th>473</th>\n",
       "      <td>2019</td>\n",
       "      <td>18</td>\n",
       "      <td>1</td>\n",
       "      <td>3096.2052</td>\n",
       "      <td>20171100002000</td>\n",
       "      <td>1097</td>\n",
       "      <td>500</td>\n",
       "      <td>3096.2052</td>\n",
       "      <td>20171100002001</td>\n",
       "      <td>28</td>\n",
       "      <td>...</td>\n",
       "      <td>0</td>\n",
       "      <td>0</td>\n",
       "      <td>21</td>\n",
       "      <td>999</td>\n",
       "      <td>9999.99</td>\n",
       "      <td>413210</td>\n",
       "      <td>2020-03-17</td>\n",
       "      <td>True</td>\n",
       "      <td>2019-01-12</td>\n",
       "      <td>2019-01-06</td>\n",
       "    </tr>\n",
       "    <tr>\n",
       "      <th>538</th>\n",
       "      <td>2019</td>\n",
       "      <td>21</td>\n",
       "      <td>2</td>\n",
       "      <td>2083.3589</td>\n",
       "      <td>20190200002100</td>\n",
       "      <td>1097</td>\n",
       "      <td>841</td>\n",
       "      <td>2675.3417</td>\n",
       "      <td>20190200002102</td>\n",
       "      <td>45</td>\n",
       "      <td>...</td>\n",
       "      <td>0</td>\n",
       "      <td>0</td>\n",
       "      <td>10</td>\n",
       "      <td>40</td>\n",
       "      <td>9999.99</td>\n",
       "      <td>413210</td>\n",
       "      <td>2020-03-17</td>\n",
       "      <td>False</td>\n",
       "      <td>2019-02-16</td>\n",
       "      <td>2019-02-10</td>\n",
       "    </tr>\n",
       "    <tr>\n",
       "      <th>605</th>\n",
       "      <td>2019</td>\n",
       "      <td>24</td>\n",
       "      <td>3</td>\n",
       "      <td>1949.2236</td>\n",
       "      <td>20190200002100</td>\n",
       "      <td>1097</td>\n",
       "      <td>841</td>\n",
       "      <td>2243.8641</td>\n",
       "      <td>20190200002102</td>\n",
       "      <td>45</td>\n",
       "      <td>...</td>\n",
       "      <td>0</td>\n",
       "      <td>0</td>\n",
       "      <td>10</td>\n",
       "      <td>40</td>\n",
       "      <td>9999.99</td>\n",
       "      <td>413210</td>\n",
       "      <td>2020-03-17</td>\n",
       "      <td>False</td>\n",
       "      <td>2019-03-16</td>\n",
       "      <td>2019-03-10</td>\n",
       "    </tr>\n",
       "    <tr>\n",
       "      <th>679</th>\n",
       "      <td>2019</td>\n",
       "      <td>17</td>\n",
       "      <td>4</td>\n",
       "      <td>1971.3554</td>\n",
       "      <td>20190200002100</td>\n",
       "      <td>1097</td>\n",
       "      <td>841</td>\n",
       "      <td>2253.8232</td>\n",
       "      <td>20190200002102</td>\n",
       "      <td>45</td>\n",
       "      <td>...</td>\n",
       "      <td>0</td>\n",
       "      <td>0</td>\n",
       "      <td>10</td>\n",
       "      <td>48</td>\n",
       "      <td>9999.99</td>\n",
       "      <td>413210</td>\n",
       "      <td>2020-03-17</td>\n",
       "      <td>False</td>\n",
       "      <td>2019-04-13</td>\n",
       "      <td>2019-04-07</td>\n",
       "    </tr>\n",
       "    <tr>\n",
       "      <th>743</th>\n",
       "      <td>2019</td>\n",
       "      <td>21</td>\n",
       "      <td>5</td>\n",
       "      <td>2005.9898</td>\n",
       "      <td>20190200002100</td>\n",
       "      <td>1097</td>\n",
       "      <td>841</td>\n",
       "      <td>2470.4187</td>\n",
       "      <td>20190200002102</td>\n",
       "      <td>45</td>\n",
       "      <td>...</td>\n",
       "      <td>0</td>\n",
       "      <td>0</td>\n",
       "      <td>10</td>\n",
       "      <td>50</td>\n",
       "      <td>1248.00</td>\n",
       "      <td>413210</td>\n",
       "      <td>2020-03-17</td>\n",
       "      <td>False</td>\n",
       "      <td>2019-05-18</td>\n",
       "      <td>2019-05-12</td>\n",
       "    </tr>\n",
       "    <tr>\n",
       "      <th>809</th>\n",
       "      <td>2019</td>\n",
       "      <td>19</td>\n",
       "      <td>6</td>\n",
       "      <td>1774.3838</td>\n",
       "      <td>20190600001900</td>\n",
       "      <td>1097</td>\n",
       "      <td>841</td>\n",
       "      <td>3571.5550</td>\n",
       "      <td>20190600001903</td>\n",
       "      <td>29</td>\n",
       "      <td>...</td>\n",
       "      <td>0</td>\n",
       "      <td>0</td>\n",
       "      <td>10</td>\n",
       "      <td>40</td>\n",
       "      <td>9999.99</td>\n",
       "      <td>413210</td>\n",
       "      <td>2020-03-17</td>\n",
       "      <td>True</td>\n",
       "      <td>2019-06-15</td>\n",
       "      <td>2019-06-09</td>\n",
       "    </tr>\n",
       "    <tr>\n",
       "      <th>873</th>\n",
       "      <td>2019</td>\n",
       "      <td>17</td>\n",
       "      <td>7</td>\n",
       "      <td>2103.1036</td>\n",
       "      <td>20190700001700</td>\n",
       "      <td>1097</td>\n",
       "      <td>842</td>\n",
       "      <td>2313.6888</td>\n",
       "      <td>20190700001701</td>\n",
       "      <td>29</td>\n",
       "      <td>...</td>\n",
       "      <td>1</td>\n",
       "      <td>1</td>\n",
       "      <td>10</td>\n",
       "      <td>45</td>\n",
       "      <td>9999.99</td>\n",
       "      <td>413210</td>\n",
       "      <td>2020-03-17</td>\n",
       "      <td>False</td>\n",
       "      <td>2019-07-13</td>\n",
       "      <td>2019-07-07</td>\n",
       "    </tr>\n",
       "    <tr>\n",
       "      <th>944</th>\n",
       "      <td>2019</td>\n",
       "      <td>16</td>\n",
       "      <td>8</td>\n",
       "      <td>1912.3640</td>\n",
       "      <td>20190700001700</td>\n",
       "      <td>1097</td>\n",
       "      <td>842</td>\n",
       "      <td>2245.8693</td>\n",
       "      <td>20190700001701</td>\n",
       "      <td>29</td>\n",
       "      <td>...</td>\n",
       "      <td>1</td>\n",
       "      <td>1</td>\n",
       "      <td>10</td>\n",
       "      <td>40</td>\n",
       "      <td>9999.99</td>\n",
       "      <td>413210</td>\n",
       "      <td>2020-03-17</td>\n",
       "      <td>False</td>\n",
       "      <td>2019-08-17</td>\n",
       "      <td>2019-08-11</td>\n",
       "    </tr>\n",
       "    <tr>\n",
       "      <th>1019</th>\n",
       "      <td>2019</td>\n",
       "      <td>12</td>\n",
       "      <td>9</td>\n",
       "      <td>1888.6757</td>\n",
       "      <td>20190800001700</td>\n",
       "      <td>1097</td>\n",
       "      <td>842</td>\n",
       "      <td>1888.6757</td>\n",
       "      <td>20190800001701</td>\n",
       "      <td>44</td>\n",
       "      <td>...</td>\n",
       "      <td>0</td>\n",
       "      <td>0</td>\n",
       "      <td>10</td>\n",
       "      <td>56</td>\n",
       "      <td>9999.99</td>\n",
       "      <td>413210</td>\n",
       "      <td>2020-03-17</td>\n",
       "      <td>True</td>\n",
       "      <td>2019-09-14</td>\n",
       "      <td>2019-09-08</td>\n",
       "    </tr>\n",
       "    <tr>\n",
       "      <th>1089</th>\n",
       "      <td>2019</td>\n",
       "      <td>11</td>\n",
       "      <td>10</td>\n",
       "      <td>1934.0831</td>\n",
       "      <td>20190800001700</td>\n",
       "      <td>1097</td>\n",
       "      <td>842</td>\n",
       "      <td>1934.0831</td>\n",
       "      <td>20190800001701</td>\n",
       "      <td>44</td>\n",
       "      <td>...</td>\n",
       "      <td>0</td>\n",
       "      <td>0</td>\n",
       "      <td>10</td>\n",
       "      <td>32</td>\n",
       "      <td>9999.99</td>\n",
       "      <td>413210</td>\n",
       "      <td>2020-03-17</td>\n",
       "      <td>True</td>\n",
       "      <td>2019-10-12</td>\n",
       "      <td>2019-10-06</td>\n",
       "    </tr>\n",
       "    <tr>\n",
       "      <th>1151</th>\n",
       "      <td>2019</td>\n",
       "      <td>12</td>\n",
       "      <td>11</td>\n",
       "      <td>1887.3580</td>\n",
       "      <td>20190800001700</td>\n",
       "      <td>1097</td>\n",
       "      <td>842</td>\n",
       "      <td>1887.3580</td>\n",
       "      <td>20190800001701</td>\n",
       "      <td>44</td>\n",
       "      <td>...</td>\n",
       "      <td>0</td>\n",
       "      <td>0</td>\n",
       "      <td>10</td>\n",
       "      <td>32</td>\n",
       "      <td>1363.84</td>\n",
       "      <td>413210</td>\n",
       "      <td>2020-03-17</td>\n",
       "      <td>True</td>\n",
       "      <td>2019-11-16</td>\n",
       "      <td>2019-11-10</td>\n",
       "    </tr>\n",
       "    <tr>\n",
       "      <th>1201</th>\n",
       "      <td>2019</td>\n",
       "      <td>18</td>\n",
       "      <td>12</td>\n",
       "      <td>2328.8528</td>\n",
       "      <td>20191100001300</td>\n",
       "      <td>1097</td>\n",
       "      <td>843</td>\n",
       "      <td>2328.8528</td>\n",
       "      <td>20191100001301</td>\n",
       "      <td>38</td>\n",
       "      <td>...</td>\n",
       "      <td>2</td>\n",
       "      <td>1</td>\n",
       "      <td>10</td>\n",
       "      <td>40</td>\n",
       "      <td>9999.99</td>\n",
       "      <td>413210</td>\n",
       "      <td>2020-03-17</td>\n",
       "      <td>True</td>\n",
       "      <td>2019-12-14</td>\n",
       "      <td>2019-12-08</td>\n",
       "    </tr>\n",
       "    <tr>\n",
       "      <th>1258</th>\n",
       "      <td>2020</td>\n",
       "      <td>20</td>\n",
       "      <td>1</td>\n",
       "      <td>2238.6301</td>\n",
       "      <td>20191100001300</td>\n",
       "      <td>1097</td>\n",
       "      <td>843</td>\n",
       "      <td>2238.6301</td>\n",
       "      <td>20191100001301</td>\n",
       "      <td>38</td>\n",
       "      <td>...</td>\n",
       "      <td>2</td>\n",
       "      <td>1</td>\n",
       "      <td>10</td>\n",
       "      <td>40</td>\n",
       "      <td>9999.99</td>\n",
       "      <td>413210</td>\n",
       "      <td>2020-03-17</td>\n",
       "      <td>True</td>\n",
       "      <td>2020-01-18</td>\n",
       "      <td>2020-01-12</td>\n",
       "    </tr>\n",
       "    <tr>\n",
       "      <th>1319</th>\n",
       "      <td>2020</td>\n",
       "      <td>23</td>\n",
       "      <td>2</td>\n",
       "      <td>2145.3602</td>\n",
       "      <td>20191100001300</td>\n",
       "      <td>1097</td>\n",
       "      <td>843</td>\n",
       "      <td>2145.3602</td>\n",
       "      <td>20191100001301</td>\n",
       "      <td>39</td>\n",
       "      <td>...</td>\n",
       "      <td>2</td>\n",
       "      <td>0</td>\n",
       "      <td>10</td>\n",
       "      <td>40</td>\n",
       "      <td>1153.00</td>\n",
       "      <td>413210</td>\n",
       "      <td>2020-03-17</td>\n",
       "      <td>True</td>\n",
       "      <td>2020-02-15</td>\n",
       "      <td>2020-02-09</td>\n",
       "    </tr>\n",
       "    <tr>\n",
       "      <th>1388</th>\n",
       "      <td>2020</td>\n",
       "      <td>13</td>\n",
       "      <td>3</td>\n",
       "      <td>3013.6296</td>\n",
       "      <td>20200300001300</td>\n",
       "      <td>1097</td>\n",
       "      <td>720</td>\n",
       "      <td>3013.6296</td>\n",
       "      <td>20200300001301</td>\n",
       "      <td>43</td>\n",
       "      <td>...</td>\n",
       "      <td>1</td>\n",
       "      <td>0</td>\n",
       "      <td>10</td>\n",
       "      <td>40</td>\n",
       "      <td>9999.99</td>\n",
       "      <td>413210</td>\n",
       "      <td>2020-03-17</td>\n",
       "      <td>True</td>\n",
       "      <td>2020-03-14</td>\n",
       "      <td>2020-03-08</td>\n",
       "    </tr>\n",
       "    <tr>\n",
       "      <th>1475</th>\n",
       "      <td>2020</td>\n",
       "      <td>9</td>\n",
       "      <td>4</td>\n",
       "      <td>3407.3006</td>\n",
       "      <td>20200300001300</td>\n",
       "      <td>1097</td>\n",
       "      <td>720</td>\n",
       "      <td>3407.3006</td>\n",
       "      <td>20200300001301</td>\n",
       "      <td>44</td>\n",
       "      <td>...</td>\n",
       "      <td>1</td>\n",
       "      <td>0</td>\n",
       "      <td>10</td>\n",
       "      <td>40</td>\n",
       "      <td>9999.99</td>\n",
       "      <td>413210</td>\n",
       "      <td>2020-03-17</td>\n",
       "      <td>True</td>\n",
       "      <td>2020-04-18</td>\n",
       "      <td>2020-04-12</td>\n",
       "    </tr>\n",
       "  </tbody>\n",
       "</table>\n",
       "<p>24 rows × 22 columns</p>\n",
       "</div>"
      ],
      "text/plain": [
       "      YEAR  SERIAL  MONTH    HWTFINL           CPSID  COUNTY  FAMINC  \\\n",
       "0     2018       8      5  1824.9622  20180300001500    1097     830   \n",
       "58    2018       6      6  2212.9501  20180300001500    1097     830   \n",
       "118   2018      14      7  2033.0179  20170700001100    1097     600   \n",
       "181   2018      15      8  1996.3438  20170700001100    1097     600   \n",
       "239   2018      15      9  1587.9000  20170700001100    1097     600   \n",
       "299   2018      17     10  1860.0436  20170700001100    1097     600   \n",
       "355   2018      15     11  3135.4388  20171100002000    1097     500   \n",
       "413   2018      20     12  3232.8779  20171100002000    1097     500   \n",
       "473   2019      18      1  3096.2052  20171100002000    1097     500   \n",
       "538   2019      21      2  2083.3589  20190200002100    1097     841   \n",
       "605   2019      24      3  1949.2236  20190200002100    1097     841   \n",
       "679   2019      17      4  1971.3554  20190200002100    1097     841   \n",
       "743   2019      21      5  2005.9898  20190200002100    1097     841   \n",
       "809   2019      19      6  1774.3838  20190600001900    1097     841   \n",
       "873   2019      17      7  2103.1036  20190700001700    1097     842   \n",
       "944   2019      16      8  1912.3640  20190700001700    1097     842   \n",
       "1019  2019      12      9  1888.6757  20190800001700    1097     842   \n",
       "1089  2019      11     10  1934.0831  20190800001700    1097     842   \n",
       "1151  2019      12     11  1887.3580  20190800001700    1097     842   \n",
       "1201  2019      18     12  2328.8528  20191100001300    1097     843   \n",
       "1258  2020      20      1  2238.6301  20191100001300    1097     843   \n",
       "1319  2020      23      2  2145.3602  20191100001300    1097     843   \n",
       "1388  2020      13      3  3013.6296  20200300001300    1097     720   \n",
       "1475  2020       9      4  3407.3006  20200300001300    1097     720   \n",
       "\n",
       "         WTFINL          CPSIDP  AGE  ...  NCHILD  NCHLT5  EMPSTAT  AHRSWORKT  \\\n",
       "0     1824.9622  20180300001501   36  ...       0       0       10         40   \n",
       "58    2212.9501  20180300001501   36  ...       0       0       10         40   \n",
       "118   2033.0179  20170700001101   38  ...       0       0       10         40   \n",
       "181   1996.3438  20170700001101   38  ...       0       0       10         40   \n",
       "239   1587.9000  20170700001101   38  ...       0       0       10         40   \n",
       "299   1860.0436  20170700001101   38  ...       0       0       10         40   \n",
       "355   3135.4388  20171100002001   28  ...       0       0       21        999   \n",
       "413   3232.8779  20171100002001   28  ...       0       0       21        999   \n",
       "473   3096.2052  20171100002001   28  ...       0       0       21        999   \n",
       "538   2675.3417  20190200002102   45  ...       0       0       10         40   \n",
       "605   2243.8641  20190200002102   45  ...       0       0       10         40   \n",
       "679   2253.8232  20190200002102   45  ...       0       0       10         48   \n",
       "743   2470.4187  20190200002102   45  ...       0       0       10         50   \n",
       "809   3571.5550  20190600001903   29  ...       0       0       10         40   \n",
       "873   2313.6888  20190700001701   29  ...       1       1       10         45   \n",
       "944   2245.8693  20190700001701   29  ...       1       1       10         40   \n",
       "1019  1888.6757  20190800001701   44  ...       0       0       10         56   \n",
       "1089  1934.0831  20190800001701   44  ...       0       0       10         32   \n",
       "1151  1887.3580  20190800001701   44  ...       0       0       10         32   \n",
       "1201  2328.8528  20191100001301   38  ...       2       1       10         40   \n",
       "1258  2238.6301  20191100001301   38  ...       2       1       10         40   \n",
       "1319  2145.3602  20191100001301   39  ...       2       0       10         40   \n",
       "1388  3013.6296  20200300001301   43  ...       1       0       10         40   \n",
       "1475  3407.3006  20200300001301   44  ...       1       0       10         40   \n",
       "\n",
       "      EARNWEEK  POPESTIMATE2019  school_closure_date  female cps_end_date  \\\n",
       "0      9999.99           413210           2020-03-17    True   2018-05-12   \n",
       "58      900.00           413210           2020-03-17    True   2018-06-16   \n",
       "118    9999.99           413210           2020-03-17   False   2018-07-14   \n",
       "181    9999.99           413210           2020-03-17   False   2018-08-18   \n",
       "239    9999.99           413210           2020-03-17   False   2018-09-15   \n",
       "299     590.00           413210           2020-03-17   False   2018-10-13   \n",
       "355    9999.99           413210           2020-03-17    True   2018-11-17   \n",
       "413    9999.99           413210           2020-03-17    True   2018-12-15   \n",
       "473    9999.99           413210           2020-03-17    True   2019-01-12   \n",
       "538    9999.99           413210           2020-03-17   False   2019-02-16   \n",
       "605    9999.99           413210           2020-03-17   False   2019-03-16   \n",
       "679    9999.99           413210           2020-03-17   False   2019-04-13   \n",
       "743    1248.00           413210           2020-03-17   False   2019-05-18   \n",
       "809    9999.99           413210           2020-03-17    True   2019-06-15   \n",
       "873    9999.99           413210           2020-03-17   False   2019-07-13   \n",
       "944    9999.99           413210           2020-03-17   False   2019-08-17   \n",
       "1019   9999.99           413210           2020-03-17    True   2019-09-14   \n",
       "1089   9999.99           413210           2020-03-17    True   2019-10-12   \n",
       "1151   1363.84           413210           2020-03-17    True   2019-11-16   \n",
       "1201   9999.99           413210           2020-03-17    True   2019-12-14   \n",
       "1258   9999.99           413210           2020-03-17    True   2020-01-18   \n",
       "1319   1153.00           413210           2020-03-17    True   2020-02-15   \n",
       "1388   9999.99           413210           2020-03-17    True   2020-03-14   \n",
       "1475   9999.99           413210           2020-03-17    True   2020-04-18   \n",
       "\n",
       "      cps_start_date  \n",
       "0         2018-05-06  \n",
       "58        2018-06-10  \n",
       "118       2018-07-08  \n",
       "181       2018-08-12  \n",
       "239       2018-09-09  \n",
       "299       2018-10-07  \n",
       "355       2018-11-11  \n",
       "413       2018-12-09  \n",
       "473       2019-01-06  \n",
       "538       2019-02-10  \n",
       "605       2019-03-10  \n",
       "679       2019-04-07  \n",
       "743       2019-05-12  \n",
       "809       2019-06-09  \n",
       "873       2019-07-07  \n",
       "944       2019-08-11  \n",
       "1019      2019-09-08  \n",
       "1089      2019-10-06  \n",
       "1151      2019-11-10  \n",
       "1201      2019-12-08  \n",
       "1258      2020-01-12  \n",
       "1319      2020-02-09  \n",
       "1388      2020-03-08  \n",
       "1475      2020-04-12  \n",
       "\n",
       "[24 rows x 22 columns]"
      ]
     },
     "execution_count": 71,
>>>>>>> 268b46f040d456086c7d7709ade9a8342855215a
     "metadata": {},
     "output_type": "execute_result"
    }
   ],
   "source": [
<<<<<<< HEAD
    "cps.drop_duplicates('cps_end_date').sort_values('cps_end_date').tail(\n",
    "    2)[['cps_start_date', 'cps_end_date']]"
=======
    "cps.drop_duplicates('cps_end_date')"
>>>>>>> 268b46f040d456086c7d7709ade9a8342855215a
   ]
  },
  {
   "cell_type": "markdown",
   "metadata": {},
   "source": [
    "https://cps.ipums.org/cps-action/variables/EMPSTAT#codes_section"
   ]
  },
  {
   "cell_type": "code",
<<<<<<< HEAD
   "execution_count": 24,
=======
   "execution_count": 62,
>>>>>>> 268b46f040d456086c7d7709ade9a8342855215a
   "metadata": {},
   "outputs": [],
   "source": [
    "cps['unemp'] = cps.EMPSTAT.isin([20, 21, 22])\n",
    "cps['emp'] = cps.EMPSTAT.isin([10, 12])\n",
    "cps['lf'] = cps.unemp | cps.emp"
   ]
  },
  {
<<<<<<< HEAD
   "cell_type": "markdown",
   "metadata": {},
   "source": [
    "Some oversampled people have zero weight."
   ]
  },
  {
   "cell_type": "code",
   "execution_count": 25,
=======
   "cell_type": "code",
   "execution_count": 64,
>>>>>>> 268b46f040d456086c7d7709ade9a8342855215a
   "metadata": {},
   "outputs": [],
   "source": [
    "cps = cps[cps.WTFINL > 0]"
   ]
  },
  {
<<<<<<< HEAD
   "cell_type": "markdown",
   "metadata": {},
   "source": [
    "Define kids age 6 to 18."
   ]
  },
  {
   "cell_type": "code",
   "execution_count": 26,
=======
   "cell_type": "code",
   "execution_count": 68,
>>>>>>> 268b46f040d456086c7d7709ade9a8342855215a
   "metadata": {},
   "outputs": [],
   "source": [
    "cps['has_k6'] = cps.NCHILD > cps.NCHLT5"
   ]
  },
  {
<<<<<<< HEAD
   "cell_type": "markdown",
   "metadata": {},
   "source": [
    "Define days since schools closed (based on the end of the period) and post\n",
    "flag from that.\n",
    "\n",
    "*NB: This will not be the `post` flag used for the simple DDs, where the only\n",
    "flag is April and all CPS persons are included, not only those with valid counties.*"
=======
   "cell_type": "code",
   "execution_count": 67,
   "metadata": {},
   "outputs": [],
   "source": [
    "cps['post'] = cps.cps_date >= cps.school_closure_date"
>>>>>>> 268b46f040d456086c7d7709ade9a8342855215a
   ]
  },
  {
   "cell_type": "code",
<<<<<<< HEAD
   "execution_count": 27,
   "metadata": {},
   "outputs": [],
   "source": [
    "cps['days_sc'] = np.maximum(\n",
    "    (cps.cps_end_date - cps.school_closure_date).dt.days, 0)\n",
    "cps['days_sc_has_k6'] = cps.days_sc * cps.has_k6"
=======
   "execution_count": 70,
   "metadata": {},
   "outputs": [],
   "source": [
    "cps['post_has_k6'] = cps.post & cps.has_k6"
>>>>>>> 268b46f040d456086c7d7709ade9a8342855215a
   ]
  },
  {
   "cell_type": "code",
<<<<<<< HEAD
   "execution_count": 28,
   "metadata": {},
   "outputs": [],
   "source": [
    "cps['post'] = cps.days_sc > 0\n",
    "cps['post_has_k6'] = cps.post & cps.has_k6"
=======
   "execution_count": 73,
   "metadata": {},
   "outputs": [],
   "source": [
    "cps['cps_date_float'] = cps.cps_date.values.astype(float)"
>>>>>>> 268b46f040d456086c7d7709ade9a8342855215a
   ]
  },
  {
   "cell_type": "code",
<<<<<<< HEAD
   "execution_count": 29,
   "metadata": {},
   "outputs": [],
   "source": [
    "cps['days_since_2000'] = (\n",
    "    cps.cps_end_date - pd.to_datetime('2000-01-01')).dt.days"
=======
   "execution_count": 65,
   "metadata": {},
   "outputs": [],
   "source": [
    "cps = sm.add_constant(cps)"
>>>>>>> 268b46f040d456086c7d7709ade9a8342855215a
   ]
  },
  {
   "cell_type": "markdown",
   "metadata": {},
   "source": [
<<<<<<< HEAD
    "Needs to be mapped per\n",
    "https://cps.ipums.org/cps-action/variables/FAMINC#codes_section."
=======
    "## Exploration"
>>>>>>> 268b46f040d456086c7d7709ade9a8342855215a
   ]
  },
  {
   "cell_type": "code",
<<<<<<< HEAD
   "execution_count": 30,
   "metadata": {},
   "outputs": [],
   "source": [
    "#cps['other_faminc'] = cps.FAMINC - cps.EARNWEEK * 52 # * UHRSWORKT / AHRSWORKT\n",
    "#cps['log_other_faminc'] = "
=======
   "execution_count": null,
   "metadata": {},
   "outputs": [],
   "source": [
    "min_"
>>>>>>> 268b46f040d456086c7d7709ade9a8342855215a
   ]
  },
  {
   "cell_type": "code",
<<<<<<< HEAD
   "execution_count": 31,
=======
   "execution_count": 27,
>>>>>>> 268b46f040d456086c7d7709ade9a8342855215a
   "metadata": {},
   "outputs": [
    {
     "data": {
<<<<<<< HEAD
      "text/plain": [
       "842    184392\n",
       "843    174936\n",
       "841    155480\n",
       "830    117775\n",
       "820     87045\n",
       "740     76839\n",
       "720     49796\n",
       "730     49559\n",
       "710     38010\n",
       "600     37382\n",
       "500     25751\n",
       "100     20133\n",
       "430     16837\n",
       "470     15062\n",
       "300     12252\n",
       "210      9422\n",
       "Name: FAMINC, dtype: int64"
      ]
     },
     "execution_count": 31,
=======
      "text/html": [
       "<div>\n",
       "<style scoped>\n",
       "    .dataframe tbody tr th:only-of-type {\n",
       "        vertical-align: middle;\n",
       "    }\n",
       "\n",
       "    .dataframe tbody tr th {\n",
       "        vertical-align: top;\n",
       "    }\n",
       "\n",
       "    .dataframe thead th {\n",
       "        text-align: right;\n",
       "    }\n",
       "</style>\n",
       "<table border=\"1\" class=\"dataframe\">\n",
       "  <thead>\n",
       "    <tr style=\"text-align: right;\">\n",
       "      <th></th>\n",
       "      <th>fip_code</th>\n",
       "      <th>county</th>\n",
       "      <th>state</th>\n",
       "      <th>npi</th>\n",
       "      <th>start_date</th>\n",
       "      <th>end_date</th>\n",
       "      <th>citation</th>\n",
       "      <th>note</th>\n",
       "    </tr>\n",
       "  </thead>\n",
       "  <tbody>\n",
       "    <tr>\n",
       "      <th>4025</th>\n",
       "      <td>51107</td>\n",
       "      <td>Loudoun</td>\n",
       "      <td>Virginia</td>\n",
       "      <td>school_closure</td>\n",
       "      <td>2020-03-12</td>\n",
       "      <td>NaN</td>\n",
       "      <td>https://www.loudountimes.com/news/updateloudou...</td>\n",
       "      <td>NaN</td>\n",
       "    </tr>\n",
       "    <tr>\n",
       "      <th>1769</th>\n",
       "      <td>19113</td>\n",
       "      <td>Linn</td>\n",
       "      <td>Iowa</td>\n",
       "      <td>school_closure</td>\n",
       "      <td>2020-03-12</td>\n",
       "      <td>NaN</td>\n",
       "      <td>https://www.thegazette.com/subject/news/educat...</td>\n",
       "      <td>NaN</td>\n",
       "    </tr>\n",
       "    <tr>\n",
       "      <th>3299</th>\n",
       "      <td>41047</td>\n",
       "      <td>Marion</td>\n",
       "      <td>Oregon</td>\n",
       "      <td>school_closure</td>\n",
       "      <td>2020-03-12</td>\n",
       "      <td>NaN</td>\n",
       "      <td>https://www.theindychannel.com/coronavirus/all...</td>\n",
       "      <td>NaN</td>\n",
       "    </tr>\n",
       "    <tr>\n",
       "      <th>3662</th>\n",
       "      <td>47037</td>\n",
       "      <td>Davidson</td>\n",
       "      <td>Tennessee</td>\n",
       "      <td>school_closure</td>\n",
       "      <td>2020-03-12</td>\n",
       "      <td>NaN</td>\n",
       "      <td>https://www.tennessean.com/story/news/educatio...</td>\n",
       "      <td>NaN</td>\n",
       "    </tr>\n",
       "    <tr>\n",
       "      <th>4102</th>\n",
       "      <td>53033</td>\n",
       "      <td>King</td>\n",
       "      <td>Washington</td>\n",
       "      <td>school_closure</td>\n",
       "      <td>2020-03-12</td>\n",
       "      <td>NaN</td>\n",
       "      <td>https://www.seattletimes.com/educationlab/insl...</td>\n",
       "      <td>NaN</td>\n",
       "    </tr>\n",
       "    <tr>\n",
       "      <th>...</th>\n",
       "      <td>...</td>\n",
       "      <td>...</td>\n",
       "      <td>...</td>\n",
       "      <td>...</td>\n",
       "      <td>...</td>\n",
       "      <td>...</td>\n",
       "      <td>...</td>\n",
       "      <td>...</td>\n",
       "    </tr>\n",
       "    <tr>\n",
       "      <th>1593</th>\n",
       "      <td>16027</td>\n",
       "      <td>Canyon</td>\n",
       "      <td>Idaho</td>\n",
       "      <td>school_closure</td>\n",
       "      <td>2020-03-23</td>\n",
       "      <td>NaN</td>\n",
       "      <td>https://boardofed.idaho.gov/resources/boardapp...</td>\n",
       "      <td>NaN</td>\n",
       "    </tr>\n",
       "    <tr>\n",
       "      <th>214</th>\n",
       "      <td>23</td>\n",
       "      <td>NaN</td>\n",
       "      <td>Maine</td>\n",
       "      <td>school_closure</td>\n",
       "      <td>2020-04-02</td>\n",
       "      <td>NaN</td>\n",
       "      <td>https://www.maine.gov/governor/mills/sites/mai...</td>\n",
       "      <td>*this is the only official order signifying sc...</td>\n",
       "    </tr>\n",
       "    <tr>\n",
       "      <th>2066</th>\n",
       "      <td>23005</td>\n",
       "      <td>Cumberland</td>\n",
       "      <td>Maine</td>\n",
       "      <td>school_closure</td>\n",
       "      <td>2020-04-02</td>\n",
       "      <td>NaN</td>\n",
       "      <td>https://www.maine.gov/governor/mills/sites/mai...</td>\n",
       "      <td>*this is the only official order signifying sc...</td>\n",
       "    </tr>\n",
       "    <tr>\n",
       "      <th>2077</th>\n",
       "      <td>23031</td>\n",
       "      <td>York</td>\n",
       "      <td>Maine</td>\n",
       "      <td>school_closure</td>\n",
       "      <td>2020-04-02</td>\n",
       "      <td>NaN</td>\n",
       "      <td>https://www.maine.gov/governor/mills/sites/mai...</td>\n",
       "      <td>*this is the only official order signifying sc...</td>\n",
       "    </tr>\n",
       "    <tr>\n",
       "      <th>307</th>\n",
       "      <td>31</td>\n",
       "      <td>NaN</td>\n",
       "      <td>Nebraska</td>\n",
       "      <td>school_closure</td>\n",
       "      <td>2020-04-03</td>\n",
       "      <td>NaN</td>\n",
       "      <td>http://dhhs.ne.gov/Pages/Gov-Ricketts-Announce...</td>\n",
       "      <td>NaN</td>\n",
       "    </tr>\n",
       "  </tbody>\n",
       "</table>\n",
       "<p>384 rows × 8 columns</p>\n",
       "</div>"
      ],
      "text/plain": [
       "      fip_code      county       state             npi  start_date  end_date  \\\n",
       "4025     51107     Loudoun    Virginia  school_closure  2020-03-12       NaN   \n",
       "1769     19113        Linn        Iowa  school_closure  2020-03-12       NaN   \n",
       "3299     41047      Marion      Oregon  school_closure  2020-03-12       NaN   \n",
       "3662     47037    Davidson   Tennessee  school_closure  2020-03-12       NaN   \n",
       "4102     53033        King  Washington  school_closure  2020-03-12       NaN   \n",
       "...        ...         ...         ...             ...         ...       ...   \n",
       "1593     16027      Canyon       Idaho  school_closure  2020-03-23       NaN   \n",
       "214         23         NaN       Maine  school_closure  2020-04-02       NaN   \n",
       "2066     23005  Cumberland       Maine  school_closure  2020-04-02       NaN   \n",
       "2077     23031        York       Maine  school_closure  2020-04-02       NaN   \n",
       "307         31         NaN    Nebraska  school_closure  2020-04-03       NaN   \n",
       "\n",
       "                                               citation  \\\n",
       "4025  https://www.loudountimes.com/news/updateloudou...   \n",
       "1769  https://www.thegazette.com/subject/news/educat...   \n",
       "3299  https://www.theindychannel.com/coronavirus/all...   \n",
       "3662  https://www.tennessean.com/story/news/educatio...   \n",
       "4102  https://www.seattletimes.com/educationlab/insl...   \n",
       "...                                                 ...   \n",
       "1593  https://boardofed.idaho.gov/resources/boardapp...   \n",
       "214   https://www.maine.gov/governor/mills/sites/mai...   \n",
       "2066  https://www.maine.gov/governor/mills/sites/mai...   \n",
       "2077  https://www.maine.gov/governor/mills/sites/mai...   \n",
       "307   http://dhhs.ne.gov/Pages/Gov-Ricketts-Announce...   \n",
       "\n",
       "                                                   note  \n",
       "4025                                                NaN  \n",
       "1769                                                NaN  \n",
       "3299                                                NaN  \n",
       "3662                                                NaN  \n",
       "4102                                                NaN  \n",
       "...                                                 ...  \n",
       "1593                                                NaN  \n",
       "214   *this is the only official order signifying sc...  \n",
       "2066  *this is the only official order signifying sc...  \n",
       "2077  *this is the only official order signifying sc...  \n",
       "307                                                 NaN  \n",
       "\n",
       "[384 rows x 8 columns]"
      ]
     },
     "execution_count": 27,
>>>>>>> 268b46f040d456086c7d7709ade9a8342855215a
     "metadata": {},
     "output_type": "execute_result"
    }
   ],
   "source": [
<<<<<<< HEAD
    "cps.FAMINC.value_counts()"
   ]
  },
  {
   "cell_type": "markdown",
   "metadata": {},
   "source": [
    "For easier analysis."
=======
    "closures_raw[closures_raw.npi == 'school_closure'].sort_values('start_date')"
>>>>>>> 268b46f040d456086c7d7709ade9a8342855215a
   ]
  },
  {
   "cell_type": "code",
<<<<<<< HEAD
   "execution_count": 33,
   "metadata": {},
   "outputs": [],
   "source": [
    "cps.rename({'WTFINL': 'w', 'AHRSWORKT': 'hours', 'AGE': 'age'}, \n",
    "           axis=1, inplace=True)"
   ]
  },
  {
   "cell_type": "markdown",
   "metadata": {},
   "source": [
    "Set NIUs to null."
=======
   "execution_count": 24,
   "metadata": {},
   "outputs": [
    {
     "data": {
      "text/html": [
       "<div>\n",
       "<style scoped>\n",
       "    .dataframe tbody tr th:only-of-type {\n",
       "        vertical-align: middle;\n",
       "    }\n",
       "\n",
       "    .dataframe tbody tr th {\n",
       "        vertical-align: top;\n",
       "    }\n",
       "\n",
       "    .dataframe thead th {\n",
       "        text-align: right;\n",
       "    }\n",
       "</style>\n",
       "<table border=\"1\" class=\"dataframe\">\n",
       "  <thead>\n",
       "    <tr style=\"text-align: right;\">\n",
       "      <th></th>\n",
       "      <th>COUNTY</th>\n",
       "      <th>school_closure_date</th>\n",
       "    </tr>\n",
       "  </thead>\n",
       "  <tbody>\n",
       "    <tr>\n",
       "      <th>4102</th>\n",
       "      <td>53033</td>\n",
       "      <td>2020-03-12</td>\n",
       "    </tr>\n",
       "    <tr>\n",
       "      <th>3662</th>\n",
       "      <td>47037</td>\n",
       "      <td>2020-03-12</td>\n",
       "    </tr>\n",
       "    <tr>\n",
       "      <th>4025</th>\n",
       "      <td>51107</td>\n",
       "      <td>2020-03-12</td>\n",
       "    </tr>\n",
       "    <tr>\n",
       "      <th>1769</th>\n",
       "      <td>19113</td>\n",
       "      <td>2020-03-12</td>\n",
       "    </tr>\n",
       "    <tr>\n",
       "      <th>3299</th>\n",
       "      <td>41047</td>\n",
       "      <td>2020-03-12</td>\n",
       "    </tr>\n",
       "    <tr>\n",
       "      <th>...</th>\n",
       "      <td>...</td>\n",
       "      <td>...</td>\n",
       "    </tr>\n",
       "    <tr>\n",
       "      <th>2517</th>\n",
       "      <td>29095</td>\n",
       "      <td>2020-03-23</td>\n",
       "    </tr>\n",
       "    <tr>\n",
       "      <th>2528</th>\n",
       "      <td>29183</td>\n",
       "      <td>2020-03-23</td>\n",
       "    </tr>\n",
       "    <tr>\n",
       "      <th>1065</th>\n",
       "      <td>8069</td>\n",
       "      <td>2020-03-23</td>\n",
       "    </tr>\n",
       "    <tr>\n",
       "      <th>2066</th>\n",
       "      <td>23005</td>\n",
       "      <td>2020-04-02</td>\n",
       "    </tr>\n",
       "    <tr>\n",
       "      <th>2077</th>\n",
       "      <td>23031</td>\n",
       "      <td>2020-04-02</td>\n",
       "    </tr>\n",
       "  </tbody>\n",
       "</table>\n",
       "<p>331 rows × 2 columns</p>\n",
       "</div>"
      ],
      "text/plain": [
       "      COUNTY school_closure_date\n",
       "4102   53033          2020-03-12\n",
       "3662   47037          2020-03-12\n",
       "4025   51107          2020-03-12\n",
       "1769   19113          2020-03-12\n",
       "3299   41047          2020-03-12\n",
       "...      ...                 ...\n",
       "2517   29095          2020-03-23\n",
       "2528   29183          2020-03-23\n",
       "1065    8069          2020-03-23\n",
       "2066   23005          2020-04-02\n",
       "2077   23031          2020-04-02\n",
       "\n",
       "[331 rows x 2 columns]"
      ]
     },
     "execution_count": 24,
     "metadata": {},
     "output_type": "execute_result"
    }
   ],
   "source": [
    "closures.sort_values('school_closure_date')"
>>>>>>> 268b46f040d456086c7d7709ade9a8342855215a
   ]
  },
  {
   "cell_type": "code",
<<<<<<< HEAD
   "execution_count": 34,
   "metadata": {},
   "outputs": [],
   "source": [
    "cps.EARNWEEK = np.where(cps.EARNWEEK == 9999.99, np.nan, cps.EARNWEEK)\n",
    "cps.hours = np.where(cps.hours == 999, np.nan, cps.hours)\n",
    "# If excluding NILF.\n",
    "cps['emp_of_lf'] = np.where(cps.lf, cps.emp, np.nan)"
   ]
  },
  {
   "cell_type": "markdown",
   "metadata": {},
   "source": [
    "Log weekly earnings."
=======
   "execution_count": null,
   "metadata": {},
   "outputs": [],
   "source": [
    "cps.NCHLT5.value_counts()"
   ]
  },
  {
   "cell_type": "code",
   "execution_count": 79,
   "metadata": {},
   "outputs": [
    {
     "data": {
      "text/plain": [
       "False    349666\n",
       "True      14102\n",
       "Name: post, dtype: int64"
      ]
     },
     "execution_count": 79,
     "metadata": {},
     "output_type": "execute_result"
    }
   ],
   "source": [
    "cps.post.value_counts()"
>>>>>>> 268b46f040d456086c7d7709ade9a8342855215a
   ]
  },
  {
   "cell_type": "code",
<<<<<<< HEAD
   "execution_count": 35,
   "metadata": {},
   "outputs": [],
   "source": [
    "cps['lwe'] = np.log(cps.EARNWEEK)"
   ]
  },
  {
   "cell_type": "markdown",
   "metadata": {},
   "source": [
    "Flags for simple unclustered regression."
=======
   "execution_count": 97,
   "metadata": {},
   "outputs": [
    {
     "data": {
      "text/plain": [
       "2020-03-16    188517\n",
       "2020-03-17     39050\n",
       "2020-03-19     34718\n",
       "2020-03-13     32064\n",
       "2020-03-18     23075\n",
       "2020-03-15     21516\n",
       "2020-03-23     12397\n",
       "2020-03-12      5137\n",
       "2020-03-20      3041\n",
       "2020-04-02      2146\n",
       "2020-03-14      2107\n",
       "Name: school_closure_date, dtype: int64"
      ]
     },
     "execution_count": 97,
     "metadata": {},
     "output_type": "execute_result"
    }
   ],
   "source": [
    "cps.school_closure_date.value_counts()"
   ]
  },
  {
   "cell_type": "code",
   "execution_count": 78,
   "metadata": {},
   "outputs": [
    {
     "data": {
      "text/plain": [
       "1.539389e+18    16035\n",
       "1.536970e+18    16028\n",
       "1.542413e+18    15932\n",
       "1.544832e+18    15757\n",
       "1.547251e+18    15743\n",
       "1.529107e+18    15738\n",
       "1.526083e+18    15736\n",
       "1.531526e+18    15678\n",
       "1.534550e+18    15668\n",
       "1.550275e+18    15513\n",
       "1.555114e+18    15341\n",
       "1.581725e+18    15230\n",
       "1.552694e+18    15112\n",
       "1.558138e+18    15032\n",
       "1.560557e+18    15012\n",
       "1.576282e+18    15005\n",
       "1.566000e+18    14992\n",
       "1.579306e+18    14955\n",
       "1.573862e+18    14876\n",
       "1.568419e+18    14852\n",
       "1.570838e+18    14801\n",
       "1.562976e+18    14785\n",
       "1.584144e+18    13324\n",
       "1.587168e+18    12623\n",
       "Name: cps_date_float, dtype: int64"
      ]
     },
     "execution_count": 78,
     "metadata": {},
     "output_type": "execute_result"
    }
   ],
   "source": [
    "cps.cps_date_float.value_counts()"
>>>>>>> 268b46f040d456086c7d7709ade9a8342855215a
   ]
  },
  {
   "cell_type": "code",
<<<<<<< HEAD
   "execution_count": 36,
   "metadata": {},
   "outputs": [],
   "source": [
    "cps['apr2020'] = (cps.YEAR == 2020) & (cps.MONTH == 4)\n",
    "cps['apr2020_has_k6'] = cps.apr2020 & cps.has_k6"
   ]
  },
  {
   "cell_type": "markdown",
   "metadata": {},
   "source": [
    "Triple difference fields and associated sub-interactions."
=======
   "execution_count": 91,
   "metadata": {},
   "outputs": [
    {
     "data": {
      "text/plain": [
       "MONTH  post \n",
       "1      False    30698\n",
       "2      False    30743\n",
       "3      False    26957\n",
       "       True      1479\n",
       "4      False    15341\n",
       "       True     12623\n",
       "5      False    30768\n",
       "6      False    30750\n",
       "7      False    30463\n",
       "8      False    30660\n",
       "9      False    30880\n",
       "10     False    30836\n",
       "11     False    30808\n",
       "12     False    30762\n",
       "dtype: int64"
      ]
     },
     "execution_count": 91,
     "metadata": {},
     "output_type": "execute_result"
    }
   ],
   "source": [
    "cps.groupby(['MONTH', 'post']).size()"
>>>>>>> 268b46f040d456086c7d7709ade9a8342855215a
   ]
  },
  {
   "cell_type": "code",
<<<<<<< HEAD
   "execution_count": 40,
   "metadata": {},
   "outputs": [],
   "source": [
    "cps['apr2020_has_k6_female'] = cps.apr2020_has_k6 & cps.female\n",
    "cps['apr2020_female'] = cps.apr2020 & cps.female\n",
    "cps['has_k6_female'] = cps.has_k6 & cps.female\n",
    "\n",
    "cps['days_sc_has_k6_female'] = cps.days_sc_has_k6 * cps.female\n",
    "cps['days_sc_female'] = cps.days_sc * cps.female"
   ]
  },
  {
   "cell_type": "code",
   "execution_count": 38,
   "metadata": {},
   "outputs": [],
   "source": [
    "# Do with other_faminc\n",
    "\n",
    "# cps['apr2020_has_k6_female'] = cps.apr2020_has_k6 * cps.female\n",
    "# cps['apr2020_female'] = cps.apr2020 * cps.female\n",
    "# cps['has_k6_female'] = cps.has_k6 * cps.female\n",
    "\n",
    "# cps['days_sc_has_k6_female'] = cps.days_sc_has_k6 * cps.female\n",
    "# cps['days_sc_female'] = cps.days_sc * cps.female"
   ]
  },
  {
   "cell_type": "markdown",
   "metadata": {},
   "source": [
    "Age squared."
   ]
  },
  {
   "cell_type": "code",
   "execution_count": 41,
   "metadata": {},
   "outputs": [],
   "source": [
    "cps['age2'] = cps.age * cps.age"
   ]
  },
  {
   "cell_type": "markdown",
   "metadata": {},
   "source": [
    "Set married flag per https://cps.ipums.org/cps-action/variables/MARST#codes_section."
   ]
  },
  {
   "cell_type": "code",
   "execution_count": 42,
   "metadata": {},
   "outputs": [],
   "source": [
    "cps['married'] = cps.MARST.isin([1, 2])"
   ]
  },
  {
   "cell_type": "markdown",
   "metadata": {},
   "source": [
    "Export."
   ]
  },
  {
   "cell_type": "code",
   "execution_count": 45,
   "metadata": {},
   "outputs": [],
   "source": [
    "OUTCOLS = ['YEAR', 'MONTH', 'COUNTY', 'w', 'age', 'age2', 'female', 'married',\n",
    "           'hours', 'POPESTIMATE2019', 'school_closure_date', \n",
    "           'cps_start_date', 'cps_end_date', 'unemp', 'emp', 'lf', 'emp_of_lf',\n",
    "           'has_k6', 'days_sc', 'post', 'post_has_k6', 'lwe',\n",
    "           'days_since_2000', 'apr2020', 'apr2020_has_k6', 'days_sc_has_k6',\n",
    "           'apr2020_has_k6_female', 'apr2020_female', 'has_k6_female',\n",
    "           'days_sc_has_k6_female', 'days_sc_female']"
   ]
  },
  {
   "cell_type": "code",
   "execution_count": 47,
   "metadata": {},
   "outputs": [],
   "source": [
    "cps[OUTCOLS].to_csv('data/cps.csv.gz', index=False)"
=======
   "execution_count": 101,
   "metadata": {
    "scrolled": true
   },
   "outputs": [
    {
     "data": {
      "text/plain": [
       "MONTH  post   cps_date  \n",
       "3      False  2019-03-16    15112\n",
       "              2020-03-14    11845\n",
       "       True   2020-03-14     1479\n",
       "4      False  2019-04-13    15341\n",
       "       True   2020-04-18    12623\n",
       "dtype: int64"
      ]
     },
     "execution_count": 101,
     "metadata": {},
     "output_type": "execute_result"
    }
   ],
   "source": [
    "cps[cps.MONTH.isin([3,4])].groupby(['MONTH', 'post', 'cps_date']).size()"
>>>>>>> 268b46f040d456086c7d7709ade9a8342855215a
   ]
  },
  {
   "cell_type": "markdown",
   "metadata": {},
   "source": [
    "## First stage"
   ]
  },
  {
   "cell_type": "code",
<<<<<<< HEAD
   "execution_count": null,
=======
   "execution_count": 390,
>>>>>>> 268b46f040d456086c7d7709ade9a8342855215a
   "metadata": {},
   "outputs": [],
   "source": [
    "cases['school_closure_date_num'] = (\n",
    "    cases.school_closure_date - first_closure_date).dt.days\n",
    "cases = sm.add_constant(cases)"
   ]
  },
  {
   "cell_type": "code",
<<<<<<< HEAD
   "execution_count": null,
=======
   "execution_count": 391,
>>>>>>> 268b46f040d456086c7d7709ade9a8342855215a
   "metadata": {},
   "outputs": [],
   "source": [
    "def get_t(cases, var):\n",
    "    regs = sm.WLS(cases.school_closure_date_num,\n",
    "                  cases[[var, 'const']],\n",
    "                  weights=cases.POPESTIMATE2019).fit().summary()\n",
    "    return float(regs.tables[1][1].data[3])"
   ]
  },
  {
   "cell_type": "code",
<<<<<<< HEAD
   "execution_count": null,
=======
   "execution_count": 392,
>>>>>>> 268b46f040d456086c7d7709ade9a8342855215a
   "metadata": {},
   "outputs": [],
   "source": [
    "def get_ts(cases):\n",
    "    return pd.Series([get_t(cases, 'cases'), get_t(cases, 'deaths'),\n",
    "                      get_t(cases, 'cases_pc'), get_t(cases, 'deaths_pc'),\n",
    "                      get_t(cases, 'log_cases_pc'),\n",
    "                      get_t(cases, 'log_deaths_pc')],\n",
    "                     index=['cases', 'deaths', 'cases_pc', 'deaths_pc',\n",
    "                            'log_cases_pc', 'log_deaths_pc'])"
   ]
  },
  {
   "cell_type": "code",
<<<<<<< HEAD
   "execution_count": null,
=======
   "execution_count": 393,
>>>>>>> 268b46f040d456086c7d7709ade9a8342855215a
   "metadata": {},
   "outputs": [],
   "source": [
    "fs_df = cases[cases.date.between('2020-03-01', '2020-03-31')].groupby(\n",
    "    'date').apply(get_ts)"
   ]
  },
  {
   "cell_type": "code",
<<<<<<< HEAD
   "execution_count": null,
   "metadata": {},
   "outputs": [],
=======
   "execution_count": 394,
   "metadata": {},
   "outputs": [
    {
     "data": {
      "text/html": [
       "<div>\n",
       "<style scoped>\n",
       "    .dataframe tbody tr th:only-of-type {\n",
       "        vertical-align: middle;\n",
       "    }\n",
       "\n",
       "    .dataframe tbody tr th {\n",
       "        vertical-align: top;\n",
       "    }\n",
       "\n",
       "    .dataframe thead th {\n",
       "        text-align: right;\n",
       "    }\n",
       "</style>\n",
       "<table border=\"1\" class=\"dataframe\">\n",
       "  <thead>\n",
       "    <tr style=\"text-align: right;\">\n",
       "      <th></th>\n",
       "      <th>cases</th>\n",
       "      <th>deaths</th>\n",
       "      <th>cases_pc</th>\n",
       "      <th>deaths_pc</th>\n",
       "      <th>log_cases_pc</th>\n",
       "      <th>log_deaths_pc</th>\n",
       "    </tr>\n",
       "    <tr>\n",
       "      <th>date</th>\n",
       "      <th></th>\n",
       "      <th></th>\n",
       "      <th></th>\n",
       "      <th></th>\n",
       "      <th></th>\n",
       "      <th></th>\n",
       "    </tr>\n",
       "  </thead>\n",
       "  <tbody>\n",
       "    <tr>\n",
       "      <th>2020-03-01</th>\n",
       "      <td>-2.411</td>\n",
       "      <td>-2.246</td>\n",
       "      <td>-1.574</td>\n",
       "      <td>-2.246</td>\n",
       "      <td>-2.623</td>\n",
       "      <td>-2.246</td>\n",
       "    </tr>\n",
       "    <tr>\n",
       "      <th>2020-03-02</th>\n",
       "      <td>-2.497</td>\n",
       "      <td>-2.327</td>\n",
       "      <td>-1.952</td>\n",
       "      <td>-2.327</td>\n",
       "      <td>-2.978</td>\n",
       "      <td>-2.327</td>\n",
       "    </tr>\n",
       "    <tr>\n",
       "      <th>2020-03-03</th>\n",
       "      <td>-3.172</td>\n",
       "      <td>-2.426</td>\n",
       "      <td>-2.567</td>\n",
       "      <td>-2.426</td>\n",
       "      <td>-3.914</td>\n",
       "      <td>-2.426</td>\n",
       "    </tr>\n",
       "    <tr>\n",
       "      <th>2020-03-04</th>\n",
       "      <td>-1.519</td>\n",
       "      <td>-2.564</td>\n",
       "      <td>-2.465</td>\n",
       "      <td>-2.511</td>\n",
       "      <td>-2.655</td>\n",
       "      <td>-2.457</td>\n",
       "    </tr>\n",
       "    <tr>\n",
       "      <th>2020-03-05</th>\n",
       "      <td>-1.435</td>\n",
       "      <td>-2.704</td>\n",
       "      <td>-2.672</td>\n",
       "      <td>-2.663</td>\n",
       "      <td>-2.490</td>\n",
       "      <td>-2.614</td>\n",
       "    </tr>\n",
       "    <tr>\n",
       "      <th>2020-03-06</th>\n",
       "      <td>-1.013</td>\n",
       "      <td>-3.026</td>\n",
       "      <td>-2.211</td>\n",
       "      <td>-2.973</td>\n",
       "      <td>-2.232</td>\n",
       "      <td>-2.866</td>\n",
       "    </tr>\n",
       "    <tr>\n",
       "      <th>2020-03-07</th>\n",
       "      <td>-0.925</td>\n",
       "      <td>-3.120</td>\n",
       "      <td>-1.518</td>\n",
       "      <td>-3.094</td>\n",
       "      <td>-2.213</td>\n",
       "      <td>-2.991</td>\n",
       "    </tr>\n",
       "    <tr>\n",
       "      <th>2020-03-08</th>\n",
       "      <td>-0.945</td>\n",
       "      <td>-3.032</td>\n",
       "      <td>-1.462</td>\n",
       "      <td>-3.004</td>\n",
       "      <td>-2.023</td>\n",
       "      <td>-2.899</td>\n",
       "    </tr>\n",
       "    <tr>\n",
       "      <th>2020-03-09</th>\n",
       "      <td>-1.110</td>\n",
       "      <td>-3.021</td>\n",
       "      <td>-1.655</td>\n",
       "      <td>-3.001</td>\n",
       "      <td>-2.118</td>\n",
       "      <td>-2.816</td>\n",
       "    </tr>\n",
       "    <tr>\n",
       "      <th>2020-03-10</th>\n",
       "      <td>-1.808</td>\n",
       "      <td>-3.221</td>\n",
       "      <td>-2.270</td>\n",
       "      <td>-3.158</td>\n",
       "      <td>-2.147</td>\n",
       "      <td>-2.793</td>\n",
       "    </tr>\n",
       "    <tr>\n",
       "      <th>2020-03-11</th>\n",
       "      <td>-1.949</td>\n",
       "      <td>-3.029</td>\n",
       "      <td>-2.616</td>\n",
       "      <td>-3.354</td>\n",
       "      <td>-2.431</td>\n",
       "      <td>-2.889</td>\n",
       "    </tr>\n",
       "    <tr>\n",
       "      <th>2020-03-12</th>\n",
       "      <td>-2.114</td>\n",
       "      <td>-3.343</td>\n",
       "      <td>-2.806</td>\n",
       "      <td>-3.716</td>\n",
       "      <td>-2.651</td>\n",
       "      <td>-3.155</td>\n",
       "    </tr>\n",
       "    <tr>\n",
       "      <th>2020-03-13</th>\n",
       "      <td>-2.204</td>\n",
       "      <td>-3.242</td>\n",
       "      <td>-3.026</td>\n",
       "      <td>-3.543</td>\n",
       "      <td>-3.015</td>\n",
       "      <td>-2.986</td>\n",
       "    </tr>\n",
       "    <tr>\n",
       "      <th>2020-03-14</th>\n",
       "      <td>-2.233</td>\n",
       "      <td>-3.413</td>\n",
       "      <td>-3.289</td>\n",
       "      <td>-3.746</td>\n",
       "      <td>-2.918</td>\n",
       "      <td>-3.099</td>\n",
       "    </tr>\n",
       "    <tr>\n",
       "      <th>2020-03-15</th>\n",
       "      <td>-2.107</td>\n",
       "      <td>-3.605</td>\n",
       "      <td>-3.285</td>\n",
       "      <td>-3.992</td>\n",
       "      <td>-3.095</td>\n",
       "      <td>-3.348</td>\n",
       "    </tr>\n",
       "    <tr>\n",
       "      <th>2020-03-16</th>\n",
       "      <td>-1.965</td>\n",
       "      <td>-3.706</td>\n",
       "      <td>-3.312</td>\n",
       "      <td>-4.071</td>\n",
       "      <td>-2.952</td>\n",
       "      <td>-3.262</td>\n",
       "    </tr>\n",
       "    <tr>\n",
       "      <th>2020-03-17</th>\n",
       "      <td>-1.142</td>\n",
       "      <td>-3.708</td>\n",
       "      <td>-2.619</td>\n",
       "      <td>-4.200</td>\n",
       "      <td>-2.589</td>\n",
       "      <td>-3.517</td>\n",
       "    </tr>\n",
       "    <tr>\n",
       "      <th>2020-03-18</th>\n",
       "      <td>-0.550</td>\n",
       "      <td>-3.854</td>\n",
       "      <td>-2.179</td>\n",
       "      <td>-4.431</td>\n",
       "      <td>-2.125</td>\n",
       "      <td>-4.082</td>\n",
       "    </tr>\n",
       "    <tr>\n",
       "      <th>2020-03-19</th>\n",
       "      <td>-0.475</td>\n",
       "      <td>-3.750</td>\n",
       "      <td>-1.890</td>\n",
       "      <td>-4.461</td>\n",
       "      <td>-2.619</td>\n",
       "      <td>-3.945</td>\n",
       "    </tr>\n",
       "    <tr>\n",
       "      <th>2020-03-20</th>\n",
       "      <td>-0.272</td>\n",
       "      <td>-3.795</td>\n",
       "      <td>-1.709</td>\n",
       "      <td>-4.239</td>\n",
       "      <td>-2.751</td>\n",
       "      <td>-3.620</td>\n",
       "    </tr>\n",
       "    <tr>\n",
       "      <th>2020-03-21</th>\n",
       "      <td>-0.198</td>\n",
       "      <td>-3.649</td>\n",
       "      <td>-1.510</td>\n",
       "      <td>-4.480</td>\n",
       "      <td>-2.887</td>\n",
       "      <td>-3.816</td>\n",
       "    </tr>\n",
       "    <tr>\n",
       "      <th>2020-03-22</th>\n",
       "      <td>0.029</td>\n",
       "      <td>-3.635</td>\n",
       "      <td>-1.090</td>\n",
       "      <td>-4.659</td>\n",
       "      <td>-2.857</td>\n",
       "      <td>-4.304</td>\n",
       "    </tr>\n",
       "    <tr>\n",
       "      <th>2020-03-23</th>\n",
       "      <td>0.263</td>\n",
       "      <td>-3.496</td>\n",
       "      <td>-0.748</td>\n",
       "      <td>-4.790</td>\n",
       "      <td>-2.883</td>\n",
       "      <td>-4.507</td>\n",
       "    </tr>\n",
       "    <tr>\n",
       "      <th>2020-03-24</th>\n",
       "      <td>0.418</td>\n",
       "      <td>-3.078</td>\n",
       "      <td>-0.675</td>\n",
       "      <td>-4.671</td>\n",
       "      <td>-3.020</td>\n",
       "      <td>-4.153</td>\n",
       "    </tr>\n",
       "    <tr>\n",
       "      <th>2020-03-25</th>\n",
       "      <td>0.616</td>\n",
       "      <td>-3.050</td>\n",
       "      <td>-0.579</td>\n",
       "      <td>-4.475</td>\n",
       "      <td>-2.826</td>\n",
       "      <td>-4.093</td>\n",
       "    </tr>\n",
       "    <tr>\n",
       "      <th>2020-03-26</th>\n",
       "      <td>1.055</td>\n",
       "      <td>-2.352</td>\n",
       "      <td>-0.453</td>\n",
       "      <td>-4.122</td>\n",
       "      <td>-2.601</td>\n",
       "      <td>-3.166</td>\n",
       "    </tr>\n",
       "    <tr>\n",
       "      <th>2020-03-27</th>\n",
       "      <td>1.055</td>\n",
       "      <td>-2.359</td>\n",
       "      <td>-0.426</td>\n",
       "      <td>-4.077</td>\n",
       "      <td>-2.623</td>\n",
       "      <td>-3.264</td>\n",
       "    </tr>\n",
       "    <tr>\n",
       "      <th>2020-03-28</th>\n",
       "      <td>1.331</td>\n",
       "      <td>-1.947</td>\n",
       "      <td>-0.371</td>\n",
       "      <td>-3.580</td>\n",
       "      <td>-2.132</td>\n",
       "      <td>-2.549</td>\n",
       "    </tr>\n",
       "    <tr>\n",
       "      <th>2020-03-29</th>\n",
       "      <td>1.444</td>\n",
       "      <td>-1.703</td>\n",
       "      <td>-0.367</td>\n",
       "      <td>-3.647</td>\n",
       "      <td>-2.046</td>\n",
       "      <td>-2.500</td>\n",
       "    </tr>\n",
       "    <tr>\n",
       "      <th>2020-03-30</th>\n",
       "      <td>1.493</td>\n",
       "      <td>-1.292</td>\n",
       "      <td>-0.339</td>\n",
       "      <td>-3.272</td>\n",
       "      <td>-2.086</td>\n",
       "      <td>-2.295</td>\n",
       "    </tr>\n",
       "    <tr>\n",
       "      <th>2020-03-31</th>\n",
       "      <td>1.716</td>\n",
       "      <td>-0.851</td>\n",
       "      <td>-0.351</td>\n",
       "      <td>-2.846</td>\n",
       "      <td>-1.803</td>\n",
       "      <td>-1.762</td>\n",
       "    </tr>\n",
       "  </tbody>\n",
       "</table>\n",
       "</div>"
      ],
      "text/plain": [
       "            cases  deaths  cases_pc  deaths_pc  log_cases_pc  log_deaths_pc\n",
       "date                                                                       \n",
       "2020-03-01 -2.411  -2.246    -1.574     -2.246        -2.623         -2.246\n",
       "2020-03-02 -2.497  -2.327    -1.952     -2.327        -2.978         -2.327\n",
       "2020-03-03 -3.172  -2.426    -2.567     -2.426        -3.914         -2.426\n",
       "2020-03-04 -1.519  -2.564    -2.465     -2.511        -2.655         -2.457\n",
       "2020-03-05 -1.435  -2.704    -2.672     -2.663        -2.490         -2.614\n",
       "2020-03-06 -1.013  -3.026    -2.211     -2.973        -2.232         -2.866\n",
       "2020-03-07 -0.925  -3.120    -1.518     -3.094        -2.213         -2.991\n",
       "2020-03-08 -0.945  -3.032    -1.462     -3.004        -2.023         -2.899\n",
       "2020-03-09 -1.110  -3.021    -1.655     -3.001        -2.118         -2.816\n",
       "2020-03-10 -1.808  -3.221    -2.270     -3.158        -2.147         -2.793\n",
       "2020-03-11 -1.949  -3.029    -2.616     -3.354        -2.431         -2.889\n",
       "2020-03-12 -2.114  -3.343    -2.806     -3.716        -2.651         -3.155\n",
       "2020-03-13 -2.204  -3.242    -3.026     -3.543        -3.015         -2.986\n",
       "2020-03-14 -2.233  -3.413    -3.289     -3.746        -2.918         -3.099\n",
       "2020-03-15 -2.107  -3.605    -3.285     -3.992        -3.095         -3.348\n",
       "2020-03-16 -1.965  -3.706    -3.312     -4.071        -2.952         -3.262\n",
       "2020-03-17 -1.142  -3.708    -2.619     -4.200        -2.589         -3.517\n",
       "2020-03-18 -0.550  -3.854    -2.179     -4.431        -2.125         -4.082\n",
       "2020-03-19 -0.475  -3.750    -1.890     -4.461        -2.619         -3.945\n",
       "2020-03-20 -0.272  -3.795    -1.709     -4.239        -2.751         -3.620\n",
       "2020-03-21 -0.198  -3.649    -1.510     -4.480        -2.887         -3.816\n",
       "2020-03-22  0.029  -3.635    -1.090     -4.659        -2.857         -4.304\n",
       "2020-03-23  0.263  -3.496    -0.748     -4.790        -2.883         -4.507\n",
       "2020-03-24  0.418  -3.078    -0.675     -4.671        -3.020         -4.153\n",
       "2020-03-25  0.616  -3.050    -0.579     -4.475        -2.826         -4.093\n",
       "2020-03-26  1.055  -2.352    -0.453     -4.122        -2.601         -3.166\n",
       "2020-03-27  1.055  -2.359    -0.426     -4.077        -2.623         -3.264\n",
       "2020-03-28  1.331  -1.947    -0.371     -3.580        -2.132         -2.549\n",
       "2020-03-29  1.444  -1.703    -0.367     -3.647        -2.046         -2.500\n",
       "2020-03-30  1.493  -1.292    -0.339     -3.272        -2.086         -2.295\n",
       "2020-03-31  1.716  -0.851    -0.351     -2.846        -1.803         -1.762"
      ]
     },
     "execution_count": 394,
     "metadata": {},
     "output_type": "execute_result"
    }
   ],
>>>>>>> 268b46f040d456086c7d7709ade9a8342855215a
   "source": [
    "fs_df"
   ]
  },
  {
   "cell_type": "code",
<<<<<<< HEAD
   "execution_count": null,
   "metadata": {
    "scrolled": false
   },
   "outputs": [],
=======
   "execution_count": 406,
   "metadata": {
    "scrolled": false
   },
   "outputs": [
    {
     "data": {
      "image/png": "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\n",
      "text/plain": [
       "<Figure size 1280x960 with 1 Axes>"
      ]
     },
     "metadata": {},
     "output_type": "display_data"
    }
   ],
>>>>>>> 268b46f040d456086c7d7709ade9a8342855215a
   "source": [
    "ax = fs_df.plot()\n",
    "plt.title('t statistic of county regressions of Covid-19 on school closure date')\n",
    "ax.axvline('2020-03-12', c='lightgray')\n",
    "plt.xlabel('Date of cumulative Covid-19 cases and deaths')\n",
    "plt.ylabel('t statistic of county regressions on school closure date')\n",
    "plt.legend(['Covid-19 cases', 'Covid-19 deaths',\n",
    "            'Cases per capita', 'Deaths per capita',\n",
    "            'Log cases per capita', 'Log deaths per capita'])\n",
    "plt.show()"
   ]
  },
  {
   "cell_type": "code",
<<<<<<< HEAD
   "execution_count": null,
   "metadata": {},
   "outputs": [],
=======
   "execution_count": 422,
   "metadata": {},
   "outputs": [
    {
     "data": {
      "text/html": [
       "<div>\n",
       "<style scoped>\n",
       "    .dataframe tbody tr th:only-of-type {\n",
       "        vertical-align: middle;\n",
       "    }\n",
       "\n",
       "    .dataframe tbody tr th {\n",
       "        vertical-align: top;\n",
       "    }\n",
       "\n",
       "    .dataframe thead th {\n",
       "        text-align: right;\n",
       "    }\n",
       "</style>\n",
       "<table border=\"1\" class=\"dataframe\">\n",
       "  <thead>\n",
       "    <tr style=\"text-align: right;\">\n",
       "      <th></th>\n",
       "      <th>cases</th>\n",
       "      <th>deaths</th>\n",
       "      <th>cases_pc</th>\n",
       "      <th>deaths_pc</th>\n",
       "      <th>log_cases_pc</th>\n",
       "      <th>log_deaths_pc</th>\n",
       "    </tr>\n",
       "    <tr>\n",
       "      <th>date</th>\n",
       "      <th></th>\n",
       "      <th></th>\n",
       "      <th></th>\n",
       "      <th></th>\n",
       "      <th></th>\n",
       "      <th></th>\n",
       "    </tr>\n",
       "  </thead>\n",
       "  <tbody>\n",
       "    <tr>\n",
       "      <th>2020-03-01</th>\n",
       "      <td>-2.411</td>\n",
       "      <td>-2.246</td>\n",
       "      <td>-1.574</td>\n",
       "      <td>-2.246</td>\n",
       "      <td>-2.623</td>\n",
       "      <td>-2.246</td>\n",
       "    </tr>\n",
       "    <tr>\n",
       "      <th>2020-03-02</th>\n",
       "      <td>-2.497</td>\n",
       "      <td>-2.327</td>\n",
       "      <td>-1.952</td>\n",
       "      <td>-2.327</td>\n",
       "      <td>-2.978</td>\n",
       "      <td>-2.327</td>\n",
       "    </tr>\n",
       "    <tr>\n",
       "      <th>2020-03-03</th>\n",
       "      <td>-3.172</td>\n",
       "      <td>-2.426</td>\n",
       "      <td>-2.567</td>\n",
       "      <td>-2.426</td>\n",
       "      <td>-3.914</td>\n",
       "      <td>-2.426</td>\n",
       "    </tr>\n",
       "    <tr>\n",
       "      <th>2020-03-04</th>\n",
       "      <td>-1.519</td>\n",
       "      <td>-2.564</td>\n",
       "      <td>-2.465</td>\n",
       "      <td>-2.511</td>\n",
       "      <td>-2.655</td>\n",
       "      <td>-2.457</td>\n",
       "    </tr>\n",
       "    <tr>\n",
       "      <th>2020-03-05</th>\n",
       "      <td>-1.435</td>\n",
       "      <td>-2.704</td>\n",
       "      <td>-2.672</td>\n",
       "      <td>-2.663</td>\n",
       "      <td>-2.490</td>\n",
       "      <td>-2.614</td>\n",
       "    </tr>\n",
       "    <tr>\n",
       "      <th>2020-03-06</th>\n",
       "      <td>-1.013</td>\n",
       "      <td>-3.026</td>\n",
       "      <td>-2.211</td>\n",
       "      <td>-2.973</td>\n",
       "      <td>-2.232</td>\n",
       "      <td>-2.866</td>\n",
       "    </tr>\n",
       "    <tr>\n",
       "      <th>2020-03-07</th>\n",
       "      <td>-0.925</td>\n",
       "      <td>-3.120</td>\n",
       "      <td>-1.518</td>\n",
       "      <td>-3.094</td>\n",
       "      <td>-2.213</td>\n",
       "      <td>-2.991</td>\n",
       "    </tr>\n",
       "    <tr>\n",
       "      <th>2020-03-08</th>\n",
       "      <td>-0.945</td>\n",
       "      <td>-3.032</td>\n",
       "      <td>-1.462</td>\n",
       "      <td>-3.004</td>\n",
       "      <td>-2.023</td>\n",
       "      <td>-2.899</td>\n",
       "    </tr>\n",
       "    <tr>\n",
       "      <th>2020-03-09</th>\n",
       "      <td>-1.110</td>\n",
       "      <td>-3.021</td>\n",
       "      <td>-1.655</td>\n",
       "      <td>-3.001</td>\n",
       "      <td>-2.118</td>\n",
       "      <td>-2.816</td>\n",
       "    </tr>\n",
       "    <tr>\n",
       "      <th>2020-03-10</th>\n",
       "      <td>-1.808</td>\n",
       "      <td>-3.221</td>\n",
       "      <td>-2.270</td>\n",
       "      <td>-3.158</td>\n",
       "      <td>-2.147</td>\n",
       "      <td>-2.793</td>\n",
       "    </tr>\n",
       "    <tr>\n",
       "      <th>2020-03-11</th>\n",
       "      <td>-1.949</td>\n",
       "      <td>-3.029</td>\n",
       "      <td>-2.616</td>\n",
       "      <td>-3.354</td>\n",
       "      <td>-2.431</td>\n",
       "      <td>-2.889</td>\n",
       "    </tr>\n",
       "  </tbody>\n",
       "</table>\n",
       "</div>"
      ],
      "text/plain": [
       "            cases  deaths  cases_pc  deaths_pc  log_cases_pc  log_deaths_pc\n",
       "date                                                                       \n",
       "2020-03-01 -2.411  -2.246    -1.574     -2.246        -2.623         -2.246\n",
       "2020-03-02 -2.497  -2.327    -1.952     -2.327        -2.978         -2.327\n",
       "2020-03-03 -3.172  -2.426    -2.567     -2.426        -3.914         -2.426\n",
       "2020-03-04 -1.519  -2.564    -2.465     -2.511        -2.655         -2.457\n",
       "2020-03-05 -1.435  -2.704    -2.672     -2.663        -2.490         -2.614\n",
       "2020-03-06 -1.013  -3.026    -2.211     -2.973        -2.232         -2.866\n",
       "2020-03-07 -0.925  -3.120    -1.518     -3.094        -2.213         -2.991\n",
       "2020-03-08 -0.945  -3.032    -1.462     -3.004        -2.023         -2.899\n",
       "2020-03-09 -1.110  -3.021    -1.655     -3.001        -2.118         -2.816\n",
       "2020-03-10 -1.808  -3.221    -2.270     -3.158        -2.147         -2.793\n",
       "2020-03-11 -1.949  -3.029    -2.616     -3.354        -2.431         -2.889"
      ]
     },
     "execution_count": 422,
     "metadata": {},
     "output_type": "execute_result"
    }
   ],
>>>>>>> 268b46f040d456086c7d7709ade9a8342855215a
   "source": [
    "fs_df.loc[:first_closure_date].iloc[:-1]"
   ]
  },
  {
   "cell_type": "markdown",
   "metadata": {},
   "source": [
    "Use Covid-19 deaths per capita on the date before the first school closure."
   ]
  },
  {
   "cell_type": "code",
<<<<<<< HEAD
   "execution_count": null,
=======
   "execution_count": 424,
>>>>>>> 268b46f040d456086c7d7709ade9a8342855215a
   "metadata": {},
   "outputs": [],
   "source": [
    "COVID_DT = '2020-03-11'"
   ]
  },
  {
   "cell_type": "code",
<<<<<<< HEAD
   "execution_count": null,
=======
   "execution_count": 425,
>>>>>>> 268b46f040d456086c7d7709ade9a8342855215a
   "metadata": {},
   "outputs": [],
   "source": [
    "cases_covid_dt = cases[cases.date == COVID_DT]"
   ]
  },
  {
   "cell_type": "code",
<<<<<<< HEAD
   "execution_count": null,
   "metadata": {},
   "outputs": [],
=======
   "execution_count": 429,
   "metadata": {},
   "outputs": [
    {
     "data": {
      "text/html": [
       "<table class=\"simpletable\">\n",
       "<caption>WLS Regression Results</caption>\n",
       "<tr>\n",
       "  <th>Dep. Variable:</th>    <td>school_closure_date_num</td> <th>  R-squared:         </th> <td>   0.075</td>\n",
       "</tr>\n",
       "<tr>\n",
       "  <th>Model:</th>                      <td>WLS</td>           <th>  Adj. R-squared:    </th> <td>   0.068</td>\n",
       "</tr>\n",
       "<tr>\n",
       "  <th>Method:</th>                <td>Least Squares</td>      <th>  F-statistic:       </th> <td>   11.25</td>\n",
       "</tr>\n",
       "<tr>\n",
       "  <th>Date:</th>                <td>Fri, 29 May 2020</td>     <th>  Prob (F-statistic):</th>  <td>0.00103</td>\n",
       "</tr>\n",
       "<tr>\n",
       "  <th>Time:</th>                    <td>10:00:09</td>         <th>  Log-Likelihood:    </th> <td> -322.35</td>\n",
       "</tr>\n",
       "<tr>\n",
       "  <th>No. Observations:</th>         <td>   141</td>          <th>  AIC:               </th> <td>   648.7</td>\n",
       "</tr>\n",
       "<tr>\n",
       "  <th>Df Residuals:</th>             <td>   139</td>          <th>  BIC:               </th> <td>   654.6</td>\n",
       "</tr>\n",
       "<tr>\n",
       "  <th>Df Model:</th>                 <td>     1</td>          <th>                     </th>     <td> </td>   \n",
       "</tr>\n",
       "<tr>\n",
       "  <th>Covariance Type:</th>         <td>nonrobust</td>        <th>                     </th>     <td> </td>   \n",
       "</tr>\n",
       "</table>\n",
       "<table class=\"simpletable\">\n",
       "<tr>\n",
       "      <td></td>         <th>coef</th>     <th>std err</th>      <th>t</th>      <th>P>|t|</th>  <th>[0.025</th>    <th>0.975]</th>  \n",
       "</tr>\n",
       "<tr>\n",
       "  <th>deaths_pc</th> <td>   -0.3491</td> <td>    0.104</td> <td>   -3.354</td> <td> 0.001</td> <td>   -0.555</td> <td>   -0.143</td>\n",
       "</tr>\n",
       "<tr>\n",
       "  <th>const</th>     <td>    4.3101</td> <td>    0.165</td> <td>   26.124</td> <td> 0.000</td> <td>    3.984</td> <td>    4.636</td>\n",
       "</tr>\n",
       "</table>\n",
       "<table class=\"simpletable\">\n",
       "<tr>\n",
       "  <th>Omnibus:</th>       <td>54.730</td> <th>  Durbin-Watson:     </th> <td>   1.702</td>\n",
       "</tr>\n",
       "<tr>\n",
       "  <th>Prob(Omnibus):</th> <td> 0.000</td> <th>  Jarque-Bera (JB):  </th> <td> 275.721</td>\n",
       "</tr>\n",
       "<tr>\n",
       "  <th>Skew:</th>          <td> 1.266</td> <th>  Prob(JB):          </th> <td>1.34e-60</td>\n",
       "</tr>\n",
       "<tr>\n",
       "  <th>Kurtosis:</th>      <td> 9.366</td> <th>  Cond. No.          </th> <td>    1.63</td>\n",
       "</tr>\n",
       "</table><br/><br/>Warnings:<br/>[1] Standard Errors assume that the covariance matrix of the errors is correctly specified."
      ],
      "text/plain": [
       "<class 'statsmodels.iolib.summary.Summary'>\n",
       "\"\"\"\n",
       "                               WLS Regression Results                              \n",
       "===================================================================================\n",
       "Dep. Variable:     school_closure_date_num   R-squared:                       0.075\n",
       "Model:                                 WLS   Adj. R-squared:                  0.068\n",
       "Method:                      Least Squares   F-statistic:                     11.25\n",
       "Date:                     Fri, 29 May 2020   Prob (F-statistic):            0.00103\n",
       "Time:                             10:00:09   Log-Likelihood:                -322.35\n",
       "No. Observations:                      141   AIC:                             648.7\n",
       "Df Residuals:                          139   BIC:                             654.6\n",
       "Df Model:                                1                                         \n",
       "Covariance Type:                 nonrobust                                         \n",
       "==============================================================================\n",
       "                 coef    std err          t      P>|t|      [0.025      0.975]\n",
       "------------------------------------------------------------------------------\n",
       "deaths_pc     -0.3491      0.104     -3.354      0.001      -0.555      -0.143\n",
       "const          4.3101      0.165     26.124      0.000       3.984       4.636\n",
       "==============================================================================\n",
       "Omnibus:                       54.730   Durbin-Watson:                   1.702\n",
       "Prob(Omnibus):                  0.000   Jarque-Bera (JB):              275.721\n",
       "Skew:                           1.266   Prob(JB):                     1.34e-60\n",
       "Kurtosis:                       9.366   Cond. No.                         1.63\n",
       "==============================================================================\n",
       "\n",
       "Warnings:\n",
       "[1] Standard Errors assume that the covariance matrix of the errors is correctly specified.\n",
       "\"\"\""
      ]
     },
     "execution_count": 429,
     "metadata": {},
     "output_type": "execute_result"
    }
   ],
>>>>>>> 268b46f040d456086c7d7709ade9a8342855215a
   "source": [
    "sm.WLS(cases_covid_dt.school_closure_date_num,\n",
    "       cases_covid_dt[['deaths_pc', 'const']],\n",
    "       cases_covid_dt.POPESTIMATE2019).fit().summary()"
   ]
  },
  {
   "cell_type": "markdown",
   "metadata": {},
   "source": [
    "That is, each Covid-19 death per million population as of 2020-03-11 is\n",
    "associated with schools being closed 0.35 days earlier."
   ]
  },
  {
   "cell_type": "markdown",
   "metadata": {},
   "source": [
    "Look at full set of Covid features to consider multiple instruments."
   ]
  },
  {
   "cell_type": "code",
<<<<<<< HEAD
   "execution_count": null,
   "metadata": {},
   "outputs": [],
=======
   "execution_count": 430,
   "metadata": {},
   "outputs": [
    {
     "data": {
      "text/html": [
       "<table class=\"simpletable\">\n",
       "<caption>WLS Regression Results</caption>\n",
       "<tr>\n",
       "  <th>Dep. Variable:</th>    <td>school_closure_date_num</td> <th>  R-squared:         </th> <td>   0.234</td>\n",
       "</tr>\n",
       "<tr>\n",
       "  <th>Model:</th>                      <td>WLS</td>           <th>  Adj. R-squared:    </th> <td>   0.200</td>\n",
       "</tr>\n",
       "<tr>\n",
       "  <th>Method:</th>                <td>Least Squares</td>      <th>  F-statistic:       </th> <td>   6.840</td>\n",
       "</tr>\n",
       "<tr>\n",
       "  <th>Date:</th>                <td>Fri, 29 May 2020</td>     <th>  Prob (F-statistic):</th> <td>2.39e-06</td>\n",
       "</tr>\n",
       "<tr>\n",
       "  <th>Time:</th>                    <td>10:00:39</td>         <th>  Log-Likelihood:    </th> <td> -309.00</td>\n",
       "</tr>\n",
       "<tr>\n",
       "  <th>No. Observations:</th>         <td>   141</td>          <th>  AIC:               </th> <td>   632.0</td>\n",
       "</tr>\n",
       "<tr>\n",
       "  <th>Df Residuals:</th>             <td>   134</td>          <th>  BIC:               </th> <td>   652.7</td>\n",
       "</tr>\n",
       "<tr>\n",
       "  <th>Df Model:</th>                 <td>     6</td>          <th>                     </th>     <td> </td>   \n",
       "</tr>\n",
       "<tr>\n",
       "  <th>Covariance Type:</th>         <td>nonrobust</td>        <th>                     </th>     <td> </td>   \n",
       "</tr>\n",
       "</table>\n",
       "<table class=\"simpletable\">\n",
       "<tr>\n",
       "        <td></td>           <th>coef</th>     <th>std err</th>      <th>t</th>      <th>P>|t|</th>  <th>[0.025</th>    <th>0.975]</th>  \n",
       "</tr>\n",
       "<tr>\n",
       "  <th>cases</th>         <td>    0.0464</td> <td>    0.022</td> <td>    2.103</td> <td> 0.037</td> <td>    0.003</td> <td>    0.090</td>\n",
       "</tr>\n",
       "<tr>\n",
       "  <th>cases_pc</th>      <td>   -0.0204</td> <td>    0.024</td> <td>   -0.857</td> <td> 0.393</td> <td>   -0.068</td> <td>    0.027</td>\n",
       "</tr>\n",
       "<tr>\n",
       "  <th>log_cases_pc</th>  <td>   -0.4775</td> <td>    0.280</td> <td>   -1.704</td> <td> 0.091</td> <td>   -1.032</td> <td>    0.077</td>\n",
       "</tr>\n",
       "<tr>\n",
       "  <th>deaths</th>        <td>    1.1235</td> <td>    0.670</td> <td>    1.676</td> <td> 0.096</td> <td>   -0.202</td> <td>    2.449</td>\n",
       "</tr>\n",
       "<tr>\n",
       "  <th>deaths_pc</th>     <td>   -4.7484</td> <td>    1.721</td> <td>   -2.760</td> <td> 0.007</td> <td>   -8.151</td> <td>   -1.345</td>\n",
       "</tr>\n",
       "<tr>\n",
       "  <th>log_deaths_pc</th> <td>    6.0478</td> <td>    2.287</td> <td>    2.645</td> <td> 0.009</td> <td>    1.525</td> <td>   10.571</td>\n",
       "</tr>\n",
       "<tr>\n",
       "  <th>const</th>         <td>    4.5789</td> <td>    0.367</td> <td>   12.474</td> <td> 0.000</td> <td>    3.853</td> <td>    5.305</td>\n",
       "</tr>\n",
       "</table>\n",
       "<table class=\"simpletable\">\n",
       "<tr>\n",
       "  <th>Omnibus:</th>       <td>27.141</td> <th>  Durbin-Watson:     </th> <td>   1.583</td>\n",
       "</tr>\n",
       "<tr>\n",
       "  <th>Prob(Omnibus):</th> <td> 0.000</td> <th>  Jarque-Bera (JB):  </th> <td> 118.368</td>\n",
       "</tr>\n",
       "<tr>\n",
       "  <th>Skew:</th>          <td> 0.517</td> <th>  Prob(JB):          </th> <td>1.98e-26</td>\n",
       "</tr>\n",
       "<tr>\n",
       "  <th>Kurtosis:</th>      <td> 7.368</td> <th>  Cond. No.          </th> <td>    752.</td>\n",
       "</tr>\n",
       "</table><br/><br/>Warnings:<br/>[1] Standard Errors assume that the covariance matrix of the errors is correctly specified."
      ],
      "text/plain": [
       "<class 'statsmodels.iolib.summary.Summary'>\n",
       "\"\"\"\n",
       "                               WLS Regression Results                              \n",
       "===================================================================================\n",
       "Dep. Variable:     school_closure_date_num   R-squared:                       0.234\n",
       "Model:                                 WLS   Adj. R-squared:                  0.200\n",
       "Method:                      Least Squares   F-statistic:                     6.840\n",
       "Date:                     Fri, 29 May 2020   Prob (F-statistic):           2.39e-06\n",
       "Time:                             10:00:39   Log-Likelihood:                -309.00\n",
       "No. Observations:                      141   AIC:                             632.0\n",
       "Df Residuals:                          134   BIC:                             652.7\n",
       "Df Model:                                6                                         \n",
       "Covariance Type:                 nonrobust                                         \n",
       "=================================================================================\n",
       "                    coef    std err          t      P>|t|      [0.025      0.975]\n",
       "---------------------------------------------------------------------------------\n",
       "cases             0.0464      0.022      2.103      0.037       0.003       0.090\n",
       "cases_pc         -0.0204      0.024     -0.857      0.393      -0.068       0.027\n",
       "log_cases_pc     -0.4775      0.280     -1.704      0.091      -1.032       0.077\n",
       "deaths            1.1235      0.670      1.676      0.096      -0.202       2.449\n",
       "deaths_pc        -4.7484      1.721     -2.760      0.007      -8.151      -1.345\n",
       "log_deaths_pc     6.0478      2.287      2.645      0.009       1.525      10.571\n",
       "const             4.5789      0.367     12.474      0.000       3.853       5.305\n",
       "==============================================================================\n",
       "Omnibus:                       27.141   Durbin-Watson:                   1.583\n",
       "Prob(Omnibus):                  0.000   Jarque-Bera (JB):              118.368\n",
       "Skew:                           0.517   Prob(JB):                     1.98e-26\n",
       "Kurtosis:                       7.368   Cond. No.                         752.\n",
       "==============================================================================\n",
       "\n",
       "Warnings:\n",
       "[1] Standard Errors assume that the covariance matrix of the errors is correctly specified.\n",
       "\"\"\""
      ]
     },
     "execution_count": 430,
     "metadata": {},
     "output_type": "execute_result"
    }
   ],
>>>>>>> 268b46f040d456086c7d7709ade9a8342855215a
   "source": [
    "sm.WLS(cases_covid_dt.school_closure_date_num,\n",
    "       cases_covid_dt[['cases', 'cases_pc', 'log_cases_pc',\n",
    "                       'deaths', 'deaths_pc', 'log_deaths_pc', 'const']],\n",
    "       cases_covid_dt.POPESTIMATE2019).fit().summary()"
   ]
  },
  {
   "cell_type": "code",
<<<<<<< HEAD
   "execution_count": null,
   "metadata": {
    "scrolled": true
   },
   "outputs": [],
=======
   "execution_count": 431,
   "metadata": {
    "scrolled": true
   },
   "outputs": [
    {
     "data": {
      "image/png": "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\n",
      "text/plain": [
       "<Figure size 1280x960 with 1 Axes>"
      ]
     },
     "metadata": {},
     "output_type": "display_data"
    }
   ],
>>>>>>> 268b46f040d456086c7d7709ade9a8342855215a
   "source": [
    "cases_covid_dt.plot.scatter(x='deaths_pc', y='school_closure_date')\n",
    "plt.title('First stage: School closure date ~ deaths per capita by county')\n",
    "plt.xlabel('Covid-19 deaths per million population as of 2020-03-11')\n",
    "plt.ylabel('School closure date')\n",
    "plt.show()"
   ]
  },
  {
   "cell_type": "markdown",
   "metadata": {},
   "source": [
    "Apply fixed effects by de-meaning, to be able to stay with `statsmodels` rather than\n",
    "`linearmodels` which doesn't work with `stargazer`.\n",
    "\n",
    "See https://stackoverflow.com/a/24196288/1840471:\n",
    "\n",
    "```\n",
    "   ybar = y.mean()\n",
    "    y = y -  y.groupby(data[absorb]).transform('mean') + ybar\n",
    "\n",
    "    Xbar = X.mean()\n",
    "    X = X - X.groupby(data[absorb]).transform('mean') + Xbar\n",
    "\n",
    "    reg = sm.OLS(y,X)\n",
    "    # Account for df loss from FE transform\n",
    "    reg.df_resid -= (data[absorb].nunique() - 1)\n",
    "```"
   ]
  },
  {
   "cell_type": "markdown",
   "metadata": {},
   "source": [
    "## Instrument\n",
    "\n",
    "Instrument for school closure using employment rate of mothers as of January 2020."
   ]
  },
  {
   "cell_type": "code",
<<<<<<< HEAD
   "execution_count": null,
=======
   "execution_count": 116,
>>>>>>> 268b46f040d456086c7d7709ade9a8342855215a
   "metadata": {},
   "outputs": [],
   "source": [
    "cps['mother'] = cps.female & cps.has_k6\n",
    "cps['emp_mother'] = cps.mother & cps.emp"
   ]
  },
  {
   "cell_type": "code",
<<<<<<< HEAD
   "execution_count": null,
=======
   "execution_count": 118,
>>>>>>> 268b46f040d456086c7d7709ade9a8342855215a
   "metadata": {},
   "outputs": [],
   "source": [
    "cps_jan2020_mothers = cps[(cps.YEAR == 2020) & (cps.MONTH == 1) & cps.mother]"
   ]
  },
  {
   "cell_type": "code",
<<<<<<< HEAD
   "execution_count": null,
=======
   "execution_count": 137,
>>>>>>> 268b46f040d456086c7d7709ade9a8342855215a
   "metadata": {},
   "outputs": [],
   "source": [
    "county_mother_emp_jan2020 = cps_jan2020_mothers.groupby('COUNTY').apply(\n",
    "    lambda x: mdf.weighted_mean(x, 'emp_mother', 'WTFINL')\n",
    ")"
   ]
  },
  {
   "cell_type": "code",
<<<<<<< HEAD
   "execution_count": null,
   "metadata": {},
   "outputs": [],
=======
   "execution_count": 138,
   "metadata": {},
   "outputs": [
    {
     "data": {
      "text/plain": [
       "COUNTY\n",
       "1081     0.628143\n",
       "1097     0.571985\n",
       "4013     0.684050\n",
       "4019     0.721787\n",
       "4021     0.697512\n",
       "           ...   \n",
       "51810    0.689221\n",
       "53033    0.793347\n",
       "53057    0.478584\n",
       "53061    0.655229\n",
       "55059    1.000000\n",
       "Length: 171, dtype: float64"
      ]
     },
     "execution_count": 138,
     "metadata": {},
     "output_type": "execute_result"
    }
   ],
>>>>>>> 268b46f040d456086c7d7709ade9a8342855215a
   "source": [
    "county_mother_emp_jan2020"
   ]
  },
  {
   "cell_type": "code",
<<<<<<< HEAD
   "execution_count": null,
=======
   "execution_count": 139,
>>>>>>> 268b46f040d456086c7d7709ade9a8342855215a
   "metadata": {},
   "outputs": [],
   "source": [
    "county_mother_emp_jan2020 = pd.DataFrame(county_mother_emp_jan2020)\n",
    "county_mother_emp_jan2020.columns = ['mother_emp_jan2020']"
   ]
  },
  {
   "cell_type": "code",
<<<<<<< HEAD
   "execution_count": null,
=======
   "execution_count": 141,
>>>>>>> 268b46f040d456086c7d7709ade9a8342855215a
   "metadata": {},
   "outputs": [],
   "source": [
    "closures_mother_emp = closures.merge(county_mother_emp_jan2020, on='COUNTY')"
   ]
  },
  {
   "cell_type": "code",
<<<<<<< HEAD
   "execution_count": null,
   "metadata": {},
   "outputs": [],
=======
   "execution_count": 165,
   "metadata": {},
   "outputs": [
    {
     "data": {
      "image/png": "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\n",
      "text/plain": [
       "<Figure size 1280x960 with 1 Axes>"
      ]
     },
     "metadata": {},
     "output_type": "display_data"
    }
   ],
>>>>>>> 268b46f040d456086c7d7709ade9a8342855215a
   "source": [
    "closures_mother_emp.plot.scatter(x='mother_emp_jan2020', y='school_closure_date')\n",
    "plt.title('First stage: School closure date ~ mother employment rate by county')\n",
    "plt.xlabel('Employment rate of mothers as of January 2020')\n",
    "plt.ylabel('School closure date')\n",
    "plt.show()"
   ]
  },
  {
   "cell_type": "code",
<<<<<<< HEAD
   "execution_count": null,
=======
   "execution_count": 163,
>>>>>>> 268b46f040d456086c7d7709ade9a8342855215a
   "metadata": {},
   "outputs": [],
   "source": [
    "closures_mother_emp['school_closure_date_num'] = (\n",
    "    closures_mother_emp.school_closure_date - first_closure_date).dt.days\n",
    "closures_mother_emp = sm.add_constant(closures_mother_emp)"
   ]
  },
  {
   "cell_type": "code",
<<<<<<< HEAD
   "execution_count": null,
   "metadata": {},
   "outputs": [],
=======
   "execution_count": 166,
   "metadata": {},
   "outputs": [
    {
     "data": {
      "text/html": [
       "<div>\n",
       "<style scoped>\n",
       "    .dataframe tbody tr th:only-of-type {\n",
       "        vertical-align: middle;\n",
       "    }\n",
       "\n",
       "    .dataframe tbody tr th {\n",
       "        vertical-align: top;\n",
       "    }\n",
       "\n",
       "    .dataframe thead th {\n",
       "        text-align: right;\n",
       "    }\n",
       "</style>\n",
       "<table border=\"1\" class=\"dataframe\">\n",
       "  <thead>\n",
       "    <tr style=\"text-align: right;\">\n",
       "      <th></th>\n",
       "      <th>const</th>\n",
       "      <th>COUNTY</th>\n",
       "      <th>mother_emp_jan2020</th>\n",
       "      <th>school_closure_date_num</th>\n",
       "    </tr>\n",
       "  </thead>\n",
       "  <tbody>\n",
       "    <tr>\n",
       "      <th>count</th>\n",
       "      <td>171.0</td>\n",
       "      <td>171.000000</td>\n",
       "      <td>171.000000</td>\n",
       "      <td>171.000000</td>\n",
       "    </tr>\n",
       "    <tr>\n",
       "      <th>mean</th>\n",
       "      <td>1.0</td>\n",
       "      <td>25665.409357</td>\n",
       "      <td>0.757952</td>\n",
       "      <td>4.339181</td>\n",
       "    </tr>\n",
       "    <tr>\n",
       "      <th>std</th>\n",
       "      <td>0.0</td>\n",
       "      <td>14431.194731</td>\n",
       "      <td>0.128465</td>\n",
       "      <td>2.371804</td>\n",
       "    </tr>\n",
       "    <tr>\n",
       "      <th>min</th>\n",
       "      <td>1.0</td>\n",
       "      <td>1081.000000</td>\n",
       "      <td>0.431955</td>\n",
       "      <td>0.000000</td>\n",
       "    </tr>\n",
       "    <tr>\n",
       "      <th>25%</th>\n",
       "      <td>1.0</td>\n",
       "      <td>12102.000000</td>\n",
       "      <td>0.666277</td>\n",
       "      <td>4.000000</td>\n",
       "    </tr>\n",
       "    <tr>\n",
       "      <th>50%</th>\n",
       "      <td>1.0</td>\n",
       "      <td>25015.000000</td>\n",
       "      <td>0.752391</td>\n",
       "      <td>4.000000</td>\n",
       "    </tr>\n",
       "    <tr>\n",
       "      <th>75%</th>\n",
       "      <td>1.0</td>\n",
       "      <td>36089.000000</td>\n",
       "      <td>0.845696</td>\n",
       "      <td>5.000000</td>\n",
       "    </tr>\n",
       "    <tr>\n",
       "      <th>max</th>\n",
       "      <td>1.0</td>\n",
       "      <td>55059.000000</td>\n",
       "      <td>1.000000</td>\n",
       "      <td>21.000000</td>\n",
       "    </tr>\n",
       "  </tbody>\n",
       "</table>\n",
       "</div>"
      ],
      "text/plain": [
       "       const        COUNTY  mother_emp_jan2020  school_closure_date_num\n",
       "count  171.0    171.000000          171.000000               171.000000\n",
       "mean     1.0  25665.409357            0.757952                 4.339181\n",
       "std      0.0  14431.194731            0.128465                 2.371804\n",
       "min      1.0   1081.000000            0.431955                 0.000000\n",
       "25%      1.0  12102.000000            0.666277                 4.000000\n",
       "50%      1.0  25015.000000            0.752391                 4.000000\n",
       "75%      1.0  36089.000000            0.845696                 5.000000\n",
       "max      1.0  55059.000000            1.000000                21.000000"
      ]
     },
     "execution_count": 166,
     "metadata": {},
     "output_type": "execute_result"
    }
   ],
>>>>>>> 268b46f040d456086c7d7709ade9a8342855215a
   "source": [
    "closures_mother_emp.describe()"
   ]
  },
  {
   "cell_type": "code",
<<<<<<< HEAD
   "execution_count": null,
   "metadata": {},
   "outputs": [],
=======
   "execution_count": 164,
   "metadata": {},
   "outputs": [
    {
     "data": {
      "text/html": [
       "<table class=\"simpletable\">\n",
       "<caption>OLS Regression Results</caption>\n",
       "<tr>\n",
       "  <th>Dep. Variable:</th>    <td>school_closure_date_num</td> <th>  R-squared:         </th> <td>   0.004</td>\n",
       "</tr>\n",
       "<tr>\n",
       "  <th>Model:</th>                      <td>OLS</td>           <th>  Adj. R-squared:    </th> <td>  -0.002</td>\n",
       "</tr>\n",
       "<tr>\n",
       "  <th>Method:</th>                <td>Least Squares</td>      <th>  F-statistic:       </th> <td>  0.7248</td>\n",
       "</tr>\n",
       "<tr>\n",
       "  <th>Date:</th>                <td>Thu, 28 May 2020</td>     <th>  Prob (F-statistic):</th>  <td> 0.396</td> \n",
       "</tr>\n",
       "<tr>\n",
       "  <th>Time:</th>                    <td>17:19:49</td>         <th>  Log-Likelihood:    </th> <td> -389.46</td>\n",
       "</tr>\n",
       "<tr>\n",
       "  <th>No. Observations:</th>         <td>   171</td>          <th>  AIC:               </th> <td>   782.9</td>\n",
       "</tr>\n",
       "<tr>\n",
       "  <th>Df Residuals:</th>             <td>   169</td>          <th>  BIC:               </th> <td>   789.2</td>\n",
       "</tr>\n",
       "<tr>\n",
       "  <th>Df Model:</th>                 <td>     1</td>          <th>                     </th>     <td> </td>   \n",
       "</tr>\n",
       "<tr>\n",
       "  <th>Covariance Type:</th>         <td>nonrobust</td>        <th>                     </th>     <td> </td>   \n",
       "</tr>\n",
       "</table>\n",
       "<table class=\"simpletable\">\n",
       "<tr>\n",
       "           <td></td>             <th>coef</th>     <th>std err</th>      <th>t</th>      <th>P>|t|</th>  <th>[0.025</th>    <th>0.975]</th>  \n",
       "</tr>\n",
       "<tr>\n",
       "  <th>mother_emp_jan2020</th> <td>    1.2065</td> <td>    1.417</td> <td>    0.851</td> <td> 0.396</td> <td>   -1.591</td> <td>    4.004</td>\n",
       "</tr>\n",
       "<tr>\n",
       "  <th>const</th>              <td>    3.4247</td> <td>    1.089</td> <td>    3.144</td> <td> 0.002</td> <td>    1.274</td> <td>    5.575</td>\n",
       "</tr>\n",
       "</table>\n",
       "<table class=\"simpletable\">\n",
       "<tr>\n",
       "  <th>Omnibus:</th>       <td>119.172</td> <th>  Durbin-Watson:     </th> <td>   1.652</td>\n",
       "</tr>\n",
       "<tr>\n",
       "  <th>Prob(Omnibus):</th> <td> 0.000</td>  <th>  Jarque-Bera (JB):  </th> <td>1491.287</td>\n",
       "</tr>\n",
       "<tr>\n",
       "  <th>Skew:</th>          <td> 2.354</td>  <th>  Prob(JB):          </th> <td>    0.00</td>\n",
       "</tr>\n",
       "<tr>\n",
       "  <th>Kurtosis:</th>      <td>16.680</td>  <th>  Cond. No.          </th> <td>    12.3</td>\n",
       "</tr>\n",
       "</table><br/><br/>Warnings:<br/>[1] Standard Errors assume that the covariance matrix of the errors is correctly specified."
      ],
      "text/plain": [
       "<class 'statsmodels.iolib.summary.Summary'>\n",
       "\"\"\"\n",
       "                               OLS Regression Results                              \n",
       "===================================================================================\n",
       "Dep. Variable:     school_closure_date_num   R-squared:                       0.004\n",
       "Model:                                 OLS   Adj. R-squared:                 -0.002\n",
       "Method:                      Least Squares   F-statistic:                    0.7248\n",
       "Date:                     Thu, 28 May 2020   Prob (F-statistic):              0.396\n",
       "Time:                             17:19:49   Log-Likelihood:                -389.46\n",
       "No. Observations:                      171   AIC:                             782.9\n",
       "Df Residuals:                          169   BIC:                             789.2\n",
       "Df Model:                                1                                         \n",
       "Covariance Type:                 nonrobust                                         \n",
       "======================================================================================\n",
       "                         coef    std err          t      P>|t|      [0.025      0.975]\n",
       "--------------------------------------------------------------------------------------\n",
       "mother_emp_jan2020     1.2065      1.417      0.851      0.396      -1.591       4.004\n",
       "const                  3.4247      1.089      3.144      0.002       1.274       5.575\n",
       "==============================================================================\n",
       "Omnibus:                      119.172   Durbin-Watson:                   1.652\n",
       "Prob(Omnibus):                  0.000   Jarque-Bera (JB):             1491.287\n",
       "Skew:                           2.354   Prob(JB):                         0.00\n",
       "Kurtosis:                      16.680   Cond. No.                         12.3\n",
       "==============================================================================\n",
       "\n",
       "Warnings:\n",
       "[1] Standard Errors assume that the covariance matrix of the errors is correctly specified.\n",
       "\"\"\""
      ]
     },
     "execution_count": 164,
     "metadata": {},
     "output_type": "execute_result"
    }
   ],
>>>>>>> 268b46f040d456086c7d7709ade9a8342855215a
   "source": [
    "sm.OLS(closures_mother_emp.school_closure_date_num,\n",
    "       closures_mother_emp[['mother_emp_jan2020', 'const']]).fit().summary()"
   ]
  },
  {
   "cell_type": "code",
<<<<<<< HEAD
   "execution_count": null,
   "metadata": {},
   "outputs": [],
=======
   "execution_count": 153,
   "metadata": {},
   "outputs": [
    {
     "data": {
      "text/html": [
       "<div>\n",
       "<style scoped>\n",
       "    .dataframe tbody tr th:only-of-type {\n",
       "        vertical-align: middle;\n",
       "    }\n",
       "\n",
       "    .dataframe tbody tr th {\n",
       "        vertical-align: top;\n",
       "    }\n",
       "\n",
       "    .dataframe thead th {\n",
       "        text-align: right;\n",
       "    }\n",
       "</style>\n",
       "<table border=\"1\" class=\"dataframe\">\n",
       "  <thead>\n",
       "    <tr style=\"text-align: right;\">\n",
       "      <th></th>\n",
       "      <th>COUNTY</th>\n",
       "      <th>mother_emp_jan2020</th>\n",
       "    </tr>\n",
       "  </thead>\n",
       "  <tbody>\n",
       "    <tr>\n",
       "      <th>COUNTY</th>\n",
       "      <td>1.000000</td>\n",
       "      <td>0.106512</td>\n",
       "    </tr>\n",
       "    <tr>\n",
       "      <th>mother_emp_jan2020</th>\n",
       "      <td>0.106512</td>\n",
       "      <td>1.000000</td>\n",
       "    </tr>\n",
       "  </tbody>\n",
       "</table>\n",
       "</div>"
      ],
      "text/plain": [
       "                      COUNTY  mother_emp_jan2020\n",
       "COUNTY              1.000000            0.106512\n",
       "mother_emp_jan2020  0.106512            1.000000"
      ]
     },
     "execution_count": 153,
     "metadata": {},
     "output_type": "execute_result"
    }
   ],
>>>>>>> 268b46f040d456086c7d7709ade9a8342855215a
   "source": [
    "closures_mother_emp.corr()"
   ]
  },
  {
   "cell_type": "code",
   "execution_count": null,
   "metadata": {},
   "outputs": [],
   "source": []
  },
  {
   "cell_type": "markdown",
   "metadata": {},
   "source": [
    "## Regressions"
   ]
  },
  {
   "cell_type": "code",
<<<<<<< HEAD
   "execution_count": null,
   "metadata": {},
   "outputs": [],
=======
   "execution_count": 93,
   "metadata": {},
   "outputs": [
    {
     "data": {
      "text/plain": [
       "2020-04-18    12623\n",
       "2020-03-14     1479\n",
       "Name: cps_date, dtype: int64"
      ]
     },
     "execution_count": 93,
     "metadata": {},
     "output_type": "execute_result"
    }
   ],
>>>>>>> 268b46f040d456086c7d7709ade9a8342855215a
   "source": [
    "cps[cps.post].cps_date.value_counts()"
   ]
  },
  {
   "cell_type": "code",
<<<<<<< HEAD
   "execution_count": null,
   "metadata": {},
   "outputs": [],
=======
   "execution_count": 96,
   "metadata": {},
   "outputs": [
    {
     "data": {
      "text/plain": [
       "0"
      ]
     },
     "execution_count": 96,
     "metadata": {},
     "output_type": "execute_result"
    }
   ],
>>>>>>> 268b46f040d456086c7d7709ade9a8342855215a
   "source": [
    "cps.COUNTY.isna().sum()"
   ]
  },
  {
   "cell_type": "code",
<<<<<<< HEAD
   "execution_count": null,
   "metadata": {},
   "outputs": [],
=======
   "execution_count": 94,
   "metadata": {},
   "outputs": [
    {
     "data": {
      "text/plain": [
       "6037     27892\n",
       "11001    20158\n",
       "4013     11089\n",
       "32003    11082\n",
       "15003    10560\n",
       "         ...  \n",
       "13045      297\n",
       "53061      296\n",
       "24017      279\n",
       "34019      265\n",
       "13015      244\n",
       "Name: COUNTY, Length: 171, dtype: int64"
      ]
     },
     "execution_count": 94,
     "metadata": {},
     "output_type": "execute_result"
    }
   ],
>>>>>>> 268b46f040d456086c7d7709ade9a8342855215a
   "source": [
    "cps.COUNTY.value_counts()"
   ]
  },
  {
   "cell_type": "code",
<<<<<<< HEAD
   "execution_count": null,
   "metadata": {},
   "outputs": [],
=======
   "execution_count": 89,
   "metadata": {},
   "outputs": [
    {
     "data": {
      "text/plain": [
       "has_k6  post \n",
       "False   False    195480\n",
       "        True       7852\n",
       "True    False    154186\n",
       "        True       6250\n",
       "dtype: int64"
      ]
     },
     "execution_count": 89,
     "metadata": {},
     "output_type": "execute_result"
    }
   ],
>>>>>>> 268b46f040d456086c7d7709ade9a8342855215a
   "source": [
    "cps.groupby(['has_k6', 'post']).size()"
   ]
  },
  {
   "cell_type": "code",
<<<<<<< HEAD
   "execution_count": null,
   "metadata": {},
   "outputs": [],
=======
   "execution_count": 102,
   "metadata": {},
   "outputs": [
    {
     "data": {
      "text/plain": [
       "Index(['const', 'YEAR', 'SERIAL', 'MONTH', 'HWTFINL', 'CPSID', 'COUNTY',\n",
       "       'FAMINC', 'WTFINL', 'CPSIDP', 'AGE', 'SEX', 'MARST', 'NCHILD', 'NCHLT5',\n",
       "       'EMPSTAT', 'AHRSWORKT', 'EARNWEEK', 'school_closure_date', 'female',\n",
       "       'cps_date', 'unemp', 'emp', 'lf', 'post', 'has_k6', 'post_has_k6',\n",
       "       'cps_date_float'],\n",
       "      dtype='object')"
      ]
     },
     "execution_count": 102,
     "metadata": {},
     "output_type": "execute_result"
    }
   ],
>>>>>>> 268b46f040d456086c7d7709ade9a8342855215a
   "source": [
    "cps.columns"
   ]
  },
  {
   "cell_type": "code",
<<<<<<< HEAD
   "execution_count": null,
   "metadata": {},
   "outputs": [],
=======
   "execution_count": 105,
   "metadata": {},
   "outputs": [
    {
     "data": {
      "text/plain": [
       "0.9588984655624679"
      ]
     },
     "execution_count": 105,
     "metadata": {},
     "output_type": "execute_result"
    }
   ],
>>>>>>> 268b46f040d456086c7d7709ade9a8342855215a
   "source": [
    "mdf.weighted_mean(cps[cps.lf & (cps.YEAR == 2020) & (cps.MONTH == 3)], 'emp', 'WTFINL')"
   ]
  },
  {
   "cell_type": "code",
<<<<<<< HEAD
   "execution_count": null,
   "metadata": {},
   "outputs": [],
=======
   "execution_count": 106,
   "metadata": {},
   "outputs": [
    {
     "data": {
      "text/plain": [
       "0.8645516588420674"
      ]
     },
     "execution_count": 106,
     "metadata": {},
     "output_type": "execute_result"
    }
   ],
>>>>>>> 268b46f040d456086c7d7709ade9a8342855215a
   "source": [
    "mdf.weighted_mean(cps[cps.lf & (cps.YEAR == 2020) & (cps.MONTH == 4)], 'emp', 'WTFINL')"
   ]
  },
  {
   "cell_type": "code",
<<<<<<< HEAD
   "execution_count": null,
   "metadata": {},
   "outputs": [],
=======
   "execution_count": 107,
   "metadata": {},
   "outputs": [
    {
     "data": {
      "text/html": [
       "<table class=\"simpletable\">\n",
       "<caption>WLS Regression Results</caption>\n",
       "<tr>\n",
       "  <th>Dep. Variable:</th>        <td>EARNWEEK</td>     <th>  R-squared:         </th>  <td>  -0.001</td>  \n",
       "</tr>\n",
       "<tr>\n",
       "  <th>Model:</th>                   <td>WLS</td>       <th>  Adj. R-squared:    </th>  <td>  -0.001</td>  \n",
       "</tr>\n",
       "<tr>\n",
       "  <th>Method:</th>             <td>Least Squares</td>  <th>  F-statistic:       </th>  <td>     nan</td>  \n",
       "</tr>\n",
       "<tr>\n",
       "  <th>Date:</th>             <td>Thu, 28 May 2020</td> <th>  Prob (F-statistic):</th>   <td>   nan</td>   \n",
       "</tr>\n",
       "<tr>\n",
       "  <th>Time:</th>                 <td>15:48:02</td>     <th>  Log-Likelihood:    </th> <td>-3.5098e+06</td>\n",
       "</tr>\n",
       "<tr>\n",
       "  <th>No. Observations:</th>      <td>363768</td>      <th>  AIC:               </th>  <td>7.020e+06</td> \n",
       "</tr>\n",
       "<tr>\n",
       "  <th>Df Residuals:</th>          <td>363767</td>      <th>  BIC:               </th>  <td>7.020e+06</td> \n",
       "</tr>\n",
       "<tr>\n",
       "  <th>Df Model:</th>              <td>     0</td>      <th>                     </th>      <td> </td>     \n",
       "</tr>\n",
       "<tr>\n",
       "  <th>Covariance Type:</th>      <td>nonrobust</td>    <th>                     </th>      <td> </td>     \n",
       "</tr>\n",
       "</table>\n",
       "<table class=\"simpletable\">\n",
       "<tr>\n",
       "         <td></td>           <th>coef</th>     <th>std err</th>      <th>t</th>      <th>P>|t|</th>  <th>[0.025</th>    <th>0.975]</th>  \n",
       "</tr>\n",
       "<tr>\n",
       "  <th>has_k6</th>         <td> 3.462e-33</td> <td> 2.35e-36</td> <td> 1474.345</td> <td> 0.000</td> <td> 3.46e-33</td> <td> 3.47e-33</td>\n",
       "</tr>\n",
       "<tr>\n",
       "  <th>post</th>           <td>         0</td> <td>        0</td> <td>      nan</td> <td>   nan</td> <td>        0</td> <td>        0</td>\n",
       "</tr>\n",
       "<tr>\n",
       "  <th>post_has_k6</th>    <td> 1.588e-34</td> <td> 1.08e-37</td> <td> 1474.345</td> <td> 0.000</td> <td> 1.59e-34</td> <td> 1.59e-34</td>\n",
       "</tr>\n",
       "<tr>\n",
       "  <th>female</th>         <td> 1.981e-33</td> <td> 1.34e-36</td> <td> 1474.345</td> <td> 0.000</td> <td> 1.98e-33</td> <td> 1.98e-33</td>\n",
       "</tr>\n",
       "<tr>\n",
       "  <th>const</th>          <td> 3.462e-33</td> <td> 2.35e-36</td> <td> 1474.345</td> <td> 0.000</td> <td> 3.46e-33</td> <td> 3.47e-33</td>\n",
       "</tr>\n",
       "<tr>\n",
       "  <th>cps_date_float</th> <td> 5.389e-15</td> <td> 3.66e-18</td> <td> 1474.345</td> <td> 0.000</td> <td> 5.38e-15</td> <td>  5.4e-15</td>\n",
       "</tr>\n",
       "</table>\n",
       "<table class=\"simpletable\">\n",
       "<tr>\n",
       "  <th>Omnibus:</th>       <td>107105.922</td> <th>  Durbin-Watson:     </th>  <td>   1.467</td> \n",
       "</tr>\n",
       "<tr>\n",
       "  <th>Prob(Omnibus):</th>   <td> 0.000</td>   <th>  Jarque-Bera (JB):  </th> <td>232856.933</td>\n",
       "</tr>\n",
       "<tr>\n",
       "  <th>Skew:</th>            <td>-1.790</td>   <th>  Prob(JB):          </th>  <td>    0.00</td> \n",
       "</tr>\n",
       "<tr>\n",
       "  <th>Kurtosis:</th>        <td> 4.595</td>   <th>  Cond. No.          </th>  <td>     inf</td> \n",
       "</tr>\n",
       "</table><br/><br/>Warnings:<br/>[1] Standard Errors assume that the covariance matrix of the errors is correctly specified.<br/>[2] The smallest eigenvalue is      0. This might indicate that there are<br/>strong multicollinearity problems or that the design matrix is singular."
      ],
      "text/plain": [
       "<class 'statsmodels.iolib.summary.Summary'>\n",
       "\"\"\"\n",
       "                            WLS Regression Results                            \n",
       "==============================================================================\n",
       "Dep. Variable:               EARNWEEK   R-squared:                      -0.001\n",
       "Model:                            WLS   Adj. R-squared:                 -0.001\n",
       "Method:                 Least Squares   F-statistic:                       nan\n",
       "Date:                Thu, 28 May 2020   Prob (F-statistic):                nan\n",
       "Time:                        15:48:02   Log-Likelihood:            -3.5098e+06\n",
       "No. Observations:              363768   AIC:                         7.020e+06\n",
       "Df Residuals:                  363767   BIC:                         7.020e+06\n",
       "Df Model:                           0                                         \n",
       "Covariance Type:            nonrobust                                         \n",
       "==================================================================================\n",
       "                     coef    std err          t      P>|t|      [0.025      0.975]\n",
       "----------------------------------------------------------------------------------\n",
       "has_k6          3.462e-33   2.35e-36   1474.345      0.000    3.46e-33    3.47e-33\n",
       "post                    0          0        nan        nan           0           0\n",
       "post_has_k6     1.588e-34   1.08e-37   1474.345      0.000    1.59e-34    1.59e-34\n",
       "female          1.981e-33   1.34e-36   1474.345      0.000    1.98e-33    1.98e-33\n",
       "const           3.462e-33   2.35e-36   1474.345      0.000    3.46e-33    3.47e-33\n",
       "cps_date_float  5.389e-15   3.66e-18   1474.345      0.000    5.38e-15     5.4e-15\n",
       "==============================================================================\n",
       "Omnibus:                   107105.922   Durbin-Watson:                   1.467\n",
       "Prob(Omnibus):                  0.000   Jarque-Bera (JB):           232856.933\n",
       "Skew:                          -1.790   Prob(JB):                         0.00\n",
       "Kurtosis:                       4.595   Cond. No.                          inf\n",
       "==============================================================================\n",
       "\n",
       "Warnings:\n",
       "[1] Standard Errors assume that the covariance matrix of the errors is correctly specified.\n",
       "[2] The smallest eigenvalue is      0. This might indicate that there are\n",
       "strong multicollinearity problems or that the design matrix is singular.\n",
       "\"\"\""
      ]
     },
     "execution_count": 107,
     "metadata": {},
     "output_type": "execute_result"
    }
   ],
>>>>>>> 268b46f040d456086c7d7709ade9a8342855215a
   "source": [
    "XCOLS = ['has_k6', 'post', 'post_has_k6', 'female', 'const', 'cps_date_float']\n",
    "sm.WLS(cps.EARNWEEK, cps[XCOLS].astype('float'), weights=cps.WTFINL).fit().summary()"
   ]
  },
  {
   "cell_type": "code",
<<<<<<< HEAD
   "execution_count": null,
   "metadata": {},
   "outputs": [],
=======
   "execution_count": 103,
   "metadata": {},
   "outputs": [
    {
     "name": "stderr",
     "output_type": "stream",
     "text": [
      "/home/mghenis/anaconda3/lib/python3.7/site-packages/statsmodels/regression/linear_model.py:1830: RuntimeWarning: divide by zero encountered in double_scalars\n",
      "  return np.sqrt(eigvals[0]/eigvals[-1])\n",
      "/home/mghenis/anaconda3/lib/python3.7/site-packages/statsmodels/base/model.py:1832: ValueWarning: covariance of constraints does not have full rank. The number of constraints is 5, but rank is 1\n",
      "  'rank is %d' % (J, J_), ValueWarning)\n",
      "/home/mghenis/anaconda3/lib/python3.7/site-packages/statsmodels/base/model.py:1362: RuntimeWarning: invalid value encountered in true_divide\n",
      "  return self.params / self.bse\n",
      "/home/mghenis/anaconda3/lib/python3.7/site-packages/scipy/stats/_distn_infrastructure.py:903: RuntimeWarning: invalid value encountered in greater\n",
      "  return (a < x) & (x < b)\n",
      "/home/mghenis/anaconda3/lib/python3.7/site-packages/scipy/stats/_distn_infrastructure.py:903: RuntimeWarning: invalid value encountered in less\n",
      "  return (a < x) & (x < b)\n",
      "/home/mghenis/anaconda3/lib/python3.7/site-packages/scipy/stats/_distn_infrastructure.py:1912: RuntimeWarning: invalid value encountered in less_equal\n",
      "  cond2 = cond0 & (x <= _a)\n"
     ]
    },
    {
     "data": {
      "text/html": [
       "<table class=\"simpletable\">\n",
       "<caption>WLS Regression Results</caption>\n",
       "<tr>\n",
       "  <th>Dep. Variable:</th>        <td>EARNWEEK</td>     <th>  R-squared:         </th>  <td>  -0.001</td>  \n",
       "</tr>\n",
       "<tr>\n",
       "  <th>Model:</th>                   <td>WLS</td>       <th>  Adj. R-squared:    </th>  <td>  -0.001</td>  \n",
       "</tr>\n",
       "<tr>\n",
       "  <th>Method:</th>             <td>Least Squares</td>  <th>  F-statistic:       </th>  <td>3.787e+05</td> \n",
       "</tr>\n",
       "<tr>\n",
       "  <th>Date:</th>             <td>Thu, 28 May 2020</td> <th>  Prob (F-statistic):</th>  <td>1.60e-286</td> \n",
       "</tr>\n",
       "<tr>\n",
       "  <th>Time:</th>                 <td>15:32:58</td>     <th>  Log-Likelihood:    </th> <td>-3.5098e+06</td>\n",
       "</tr>\n",
       "<tr>\n",
       "  <th>No. Observations:</th>      <td>363768</td>      <th>  AIC:               </th>  <td>7.020e+06</td> \n",
       "</tr>\n",
       "<tr>\n",
       "  <th>Df Residuals:</th>          <td>363767</td>      <th>  BIC:               </th>  <td>7.020e+06</td> \n",
       "</tr>\n",
       "<tr>\n",
       "  <th>Df Model:</th>              <td>     0</td>      <th>                     </th>      <td> </td>     \n",
       "</tr>\n",
       "<tr>\n",
       "  <th>Covariance Type:</th>       <td>cluster</td>     <th>                     </th>      <td> </td>     \n",
       "</tr>\n",
       "</table>\n",
       "<table class=\"simpletable\">\n",
       "<tr>\n",
       "         <td></td>           <th>coef</th>     <th>std err</th>      <th>z</th>      <th>P>|z|</th>  <th>[0.025</th>    <th>0.975]</th>  \n",
       "</tr>\n",
       "<tr>\n",
       "  <th>has_k6</th>         <td> 3.462e-33</td> <td> 5.63e-36</td> <td>  615.381</td> <td> 0.000</td> <td> 3.45e-33</td> <td> 3.47e-33</td>\n",
       "</tr>\n",
       "<tr>\n",
       "  <th>post</th>           <td>         0</td> <td>        0</td> <td>      nan</td> <td>   nan</td> <td>        0</td> <td>        0</td>\n",
       "</tr>\n",
       "<tr>\n",
       "  <th>post_has_k6</th>    <td> 1.588e-34</td> <td> 2.58e-37</td> <td>  615.381</td> <td> 0.000</td> <td> 1.58e-34</td> <td> 1.59e-34</td>\n",
       "</tr>\n",
       "<tr>\n",
       "  <th>female</th>         <td> 1.981e-33</td> <td> 3.22e-36</td> <td>  615.381</td> <td> 0.000</td> <td> 1.97e-33</td> <td> 1.99e-33</td>\n",
       "</tr>\n",
       "<tr>\n",
       "  <th>const</th>          <td> 3.462e-33</td> <td> 5.63e-36</td> <td>  615.381</td> <td> 0.000</td> <td> 3.45e-33</td> <td> 3.47e-33</td>\n",
       "</tr>\n",
       "<tr>\n",
       "  <th>cps_date_float</th> <td> 5.389e-15</td> <td> 8.76e-18</td> <td>  615.381</td> <td> 0.000</td> <td> 5.37e-15</td> <td> 5.41e-15</td>\n",
       "</tr>\n",
       "</table>\n",
       "<table class=\"simpletable\">\n",
       "<tr>\n",
       "  <th>Omnibus:</th>       <td>107105.922</td> <th>  Durbin-Watson:     </th>  <td>   1.467</td> \n",
       "</tr>\n",
       "<tr>\n",
       "  <th>Prob(Omnibus):</th>   <td> 0.000</td>   <th>  Jarque-Bera (JB):  </th> <td>232856.933</td>\n",
       "</tr>\n",
       "<tr>\n",
       "  <th>Skew:</th>            <td>-1.790</td>   <th>  Prob(JB):          </th>  <td>    0.00</td> \n",
       "</tr>\n",
       "<tr>\n",
       "  <th>Kurtosis:</th>        <td> 4.595</td>   <th>  Cond. No.          </th>  <td>     inf</td> \n",
       "</tr>\n",
       "</table><br/><br/>Warnings:<br/>[1] Standard Errors are robust to cluster correlation (cluster)<br/>[2] The smallest eigenvalue is      0. This might indicate that there are<br/>strong multicollinearity problems or that the design matrix is singular."
      ],
      "text/plain": [
       "<class 'statsmodels.iolib.summary.Summary'>\n",
       "\"\"\"\n",
       "                            WLS Regression Results                            \n",
       "==============================================================================\n",
       "Dep. Variable:               EARNWEEK   R-squared:                      -0.001\n",
       "Model:                            WLS   Adj. R-squared:                 -0.001\n",
       "Method:                 Least Squares   F-statistic:                 3.787e+05\n",
       "Date:                Thu, 28 May 2020   Prob (F-statistic):          1.60e-286\n",
       "Time:                        15:32:58   Log-Likelihood:            -3.5098e+06\n",
       "No. Observations:              363768   AIC:                         7.020e+06\n",
       "Df Residuals:                  363767   BIC:                         7.020e+06\n",
       "Df Model:                           0                                         \n",
       "Covariance Type:              cluster                                         \n",
       "==================================================================================\n",
       "                     coef    std err          z      P>|z|      [0.025      0.975]\n",
       "----------------------------------------------------------------------------------\n",
       "has_k6          3.462e-33   5.63e-36    615.381      0.000    3.45e-33    3.47e-33\n",
       "post                    0          0        nan        nan           0           0\n",
       "post_has_k6     1.588e-34   2.58e-37    615.381      0.000    1.58e-34    1.59e-34\n",
       "female          1.981e-33   3.22e-36    615.381      0.000    1.97e-33    1.99e-33\n",
       "const           3.462e-33   5.63e-36    615.381      0.000    3.45e-33    3.47e-33\n",
       "cps_date_float  5.389e-15   8.76e-18    615.381      0.000    5.37e-15    5.41e-15\n",
       "==============================================================================\n",
       "Omnibus:                   107105.922   Durbin-Watson:                   1.467\n",
       "Prob(Omnibus):                  0.000   Jarque-Bera (JB):           232856.933\n",
       "Skew:                          -1.790   Prob(JB):                         0.00\n",
       "Kurtosis:                       4.595   Cond. No.                          inf\n",
       "==============================================================================\n",
       "\n",
       "Warnings:\n",
       "[1] Standard Errors are robust to cluster correlation (cluster)\n",
       "[2] The smallest eigenvalue is      0. This might indicate that there are\n",
       "strong multicollinearity problems or that the design matrix is singular.\n",
       "\"\"\""
      ]
     },
     "execution_count": 103,
     "metadata": {},
     "output_type": "execute_result"
    }
   ],
>>>>>>> 268b46f040d456086c7d7709ade9a8342855215a
   "source": [
    "XCOLS = ['has_k6', 'post', 'post_has_k6', 'female', 'const', 'cps_date_float']\n",
    "sm.WLS(cps.EARNWEEK, cps[XCOLS].astype('float'), weights=cps.WTFINL).fit(\n",
    "    cov_type='cluster', cov_kwds={'groups': cps.COUNTY}).summary()"
   ]
  },
  {
   "cell_type": "code",
   "execution_count": null,
   "metadata": {},
   "outputs": [],
   "source": []
  }
 ],
 "metadata": {
  "kernelspec": {
   "display_name": "Python 3",
   "language": "python",
   "name": "python3"
  },
  "language_info": {
   "codemirror_mode": {
    "name": "ipython",
    "version": 3
   },
   "file_extension": ".py",
   "mimetype": "text/x-python",
   "name": "python",
   "nbconvert_exporter": "python",
   "pygments_lexer": "ipython3",
   "version": "3.7.7"
  }
 },
 "nbformat": 4,
 "nbformat_minor": 4
}
