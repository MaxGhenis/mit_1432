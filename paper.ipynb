{
 "cells": [
  {
   "cell_type": "markdown",
   "metadata": {},
   "source": [
    "# 14.32 final paper\n",
    "\n",
    "## Setup"
   ]
  },
  {
   "cell_type": "code",
   "execution_count": 1,
   "metadata": {},
   "outputs": [],
   "source": [
    "import pandas as pd\n",
    "import numpy as np\n",
    "import microdf as mdf"
   ]
  },
  {
   "cell_type": "code",
   "execution_count": 2,
   "metadata": {},
   "outputs": [],
   "source": [
    "mdf.set_plot_style()"
   ]
  },
  {
   "cell_type": "markdown",
   "metadata": {},
   "source": [
    "## Load data"
   ]
  },
  {
   "cell_type": "code",
   "execution_count": 3,
   "metadata": {},
   "outputs": [],
   "source": [
    "cases_raw = pd.read_csv('https://github.com/nytimes/covid-19-data/raw/master/us-counties.csv')"
   ]
  },
  {
   "cell_type": "code",
   "execution_count": 4,
   "metadata": {},
   "outputs": [],
   "source": [
    "closures_raw = pd.read_csv('https://raw.githubusercontent.com/Keystone-Strategy/covid19-intervention-data/master/complete_npis_inherited_policies.csv')"
   ]
  },
  {
   "cell_type": "code",
   "execution_count": 5,
   "metadata": {},
   "outputs": [],
   "source": [
    "pop_raw = pd.read_csv('https://www2.census.gov/programs-surveys/popest/datasets/2010-2019/counties/totals/co-est2019-alldata.csv',\n",
    "                      usecols=['STATE', 'COUNTY', 'POPESTIMATE2019'])"
   ]
  },
  {
   "cell_type": "code",
   "execution_count": 6,
   "metadata": {},
   "outputs": [],
   "source": [
    "cps_raw = pd.read_csv('cps.csv.gz')"
   ]
  },
  {
   "cell_type": "markdown",
   "metadata": {},
   "source": [
    "## Preprocess"
   ]
  },
  {
   "cell_type": "markdown",
   "metadata": {},
   "source": [
    "### Population"
   ]
  },
  {
   "cell_type": "code",
   "execution_count": 7,
   "metadata": {},
   "outputs": [],
   "source": [
    "pop = pop_raw.copy(deep=True)\n",
    "pop['county_padded'] = pop.COUNTY.apply(lambda x: str(x).zfill(3))\n",
    "pop['fips'] = (pop.STATE.astype(str) + pop.county_padded).astype(int)"
   ]
  },
  {
   "cell_type": "code",
   "execution_count": 8,
   "metadata": {},
   "outputs": [],
   "source": [
    "county_pop = pop[pop.COUNTY > 0][['fips', 'POPESTIMATE2019']]\n",
    "state_pop = pop[pop.COUNTY == 0][['STATE', 'POPESTIMATE2019']]\n",
    "state_pop.rename({'STATE': 'fips'}, axis=1, inplace=True)"
   ]
  },
  {
   "cell_type": "markdown",
   "metadata": {},
   "source": [
    "### School closures"
   ]
  },
  {
   "cell_type": "code",
   "execution_count": 9,
   "metadata": {},
   "outputs": [],
   "source": [
    "closures = closures_raw[\n",
    "    (closures_raw.npi == 'school_closure') & ~closures_raw.county.isna()][\n",
    "    ['fip_code', 'start_date']]"
   ]
  },
  {
   "cell_type": "code",
   "execution_count": 10,
   "metadata": {},
   "outputs": [],
   "source": [
    "closures.start_date = pd.to_datetime(closures.start_date)\n",
    "closures.columns = ['fips', 'school_closure_date']"
   ]
  },
  {
   "cell_type": "code",
   "execution_count": 11,
   "metadata": {},
   "outputs": [
    {
     "name": "stdout",
     "output_type": "stream",
     "text": [
      "Schools closed between 2020-03-12 00:00:00 and 2020-04-02 00:00:00\n"
     ]
    }
   ],
   "source": [
    "first_closure_date = closures.school_closure_date.min()\n",
    "last_closure_date = closures.school_closure_date.max()\n",
    "print(\"Schools closed between \" + str(first_closure_date) + \" and \" + \n",
    "      str(last_closure_date))"
   ]
  },
  {
   "cell_type": "code",
   "execution_count": 12,
   "metadata": {},
   "outputs": [],
   "source": [
    "county = county_pop.merge(closures, how='left', on='fips')"
   ]
  },
  {
   "cell_type": "code",
   "execution_count": 13,
   "metadata": {},
   "outputs": [],
   "source": [
    "county.to_csv('data/county.csv', index=False)"
   ]
  },
  {
   "cell_type": "markdown",
   "metadata": {},
   "source": [
    "### Cases"
   ]
  },
  {
   "cell_type": "code",
   "execution_count": 14,
   "metadata": {},
   "outputs": [],
   "source": [
    "cases = cases_raw[cases_raw.date >= '2020-03-01'][\n",
    "    ['date', 'fips', 'cases', 'deaths']].copy(deep=True)"
   ]
  },
  {
   "cell_type": "code",
   "execution_count": 15,
   "metadata": {},
   "outputs": [],
   "source": [
    "cases.date = pd.to_datetime(cases.date)"
   ]
  },
  {
   "cell_type": "code",
   "execution_count": 16,
   "metadata": {},
   "outputs": [],
   "source": [
    "county_date = cases.merge(county, on='fips')"
   ]
  },
  {
   "cell_type": "code",
   "execution_count": 17,
   "metadata": {},
   "outputs": [],
   "source": [
    "county_date['cases_pc'] = (1e6 * county_date.cases /\n",
    "                           county_date.POPESTIMATE2019)\n",
    "county_date['deaths_pc'] = (1e6 * county_date.deaths /\n",
    "                            county_date.POPESTIMATE2019)"
   ]
  },
  {
   "cell_type": "markdown",
   "metadata": {},
   "source": [
    "Add 1 since deaths are zero sometimes, and multiply by 1 million for variation in the feature."
   ]
  },
  {
   "cell_type": "code",
   "execution_count": 18,
   "metadata": {},
   "outputs": [],
   "source": [
    "county_date['log_cases_pc'] = np.log(county_date.cases_pc + 1)\n",
    "county_date['log_deaths_pc'] = np.log(county_date.deaths_pc + 1)"
   ]
  },
  {
   "cell_type": "code",
   "execution_count": 19,
   "metadata": {},
   "outputs": [],
   "source": [
    "county_date.to_csv('data/county_date.csv', index=False)"
   ]
  },
  {
   "cell_type": "markdown",
   "metadata": {},
   "source": [
    "### Merge"
   ]
  },
  {
   "cell_type": "code",
   "execution_count": 20,
   "metadata": {},
   "outputs": [],
   "source": [
    "cps = cps_raw.merge(county.rename({'fips': 'COUNTY'}, axis=1),\n",
    "                    how='left', on='COUNTY')"
   ]
  },
  {
   "cell_type": "code",
   "execution_count": 21,
   "metadata": {},
   "outputs": [],
   "source": [
    "cps['female'] = cps.SEX == 2"
   ]
  },
  {
   "cell_type": "markdown",
   "metadata": {},
   "source": [
    "Add date corresponding to the end of each month's survey week."
   ]
  },
  {
   "cell_type": "code",
   "execution_count": 22,
   "metadata": {},
   "outputs": [],
   "source": [
    "cps['day'] = 12\n",
    "cps['cps_date'] = pd.to_datetime(cps[['YEAR', 'MONTH', 'day']])\n",
    "# Day of the week to find the following Saturday.\n",
    "# Series.dt.weekday is 0 for Monday, 6 for Sunday.\n",
    "cps['cps_weekday'] = cps.cps_date.dt.weekday\n",
    "cps['days_to_sat'] = np.where(cps.cps_weekday == 6, 12, 5) - cps.cps_weekday\n",
    "cps['cps_end_date'] = cps.cps_date + cps.days_to_sat.astype('timedelta64[D]')\n",
    "cps['cps_start_date'] = cps.cps_end_date - pd.DateOffset(days=6)\n",
    "# Drop unnecessary intermediate columns.\n",
    "cps.drop(['day', 'cps_date', 'cps_weekday', 'days_to_sat'], axis=1, inplace=True)"
   ]
  },
  {
   "cell_type": "markdown",
   "metadata": {},
   "source": [
    "Find two most recent CPS survey weeks."
   ]
  },
  {
   "cell_type": "code",
   "execution_count": 23,
   "metadata": {},
   "outputs": [
    {
     "data": {
      "text/html": [
       "<div>\n",
       "<style scoped>\n",
       "    .dataframe tbody tr th:only-of-type {\n",
       "        vertical-align: middle;\n",
       "    }\n",
       "\n",
       "    .dataframe tbody tr th {\n",
       "        vertical-align: top;\n",
       "    }\n",
       "\n",
       "    .dataframe thead th {\n",
       "        text-align: right;\n",
       "    }\n",
       "</style>\n",
       "<table border=\"1\" class=\"dataframe\">\n",
       "  <thead>\n",
       "    <tr style=\"text-align: right;\">\n",
       "      <th></th>\n",
       "      <th>cps_start_date</th>\n",
       "      <th>cps_end_date</th>\n",
       "    </tr>\n",
       "  </thead>\n",
       "  <tbody>\n",
       "    <tr>\n",
       "      <th>1001950</th>\n",
       "      <td>2020-03-08</td>\n",
       "      <td>2020-03-14</td>\n",
       "    </tr>\n",
       "    <tr>\n",
       "      <th>1040952</th>\n",
       "      <td>2020-04-12</td>\n",
       "      <td>2020-04-18</td>\n",
       "    </tr>\n",
       "  </tbody>\n",
       "</table>\n",
       "</div>"
      ],
      "text/plain": [
       "        cps_start_date cps_end_date\n",
       "1001950     2020-03-08   2020-03-14\n",
       "1040952     2020-04-12   2020-04-18"
      ]
     },
     "execution_count": 23,
     "metadata": {},
     "output_type": "execute_result"
    }
   ],
   "source": [
    "cps.drop_duplicates('cps_end_date').sort_values('cps_end_date').tail(\n",
    "    2)[['cps_start_date', 'cps_end_date']]"
   ]
  },
  {
   "cell_type": "markdown",
   "metadata": {},
   "source": [
    "https://cps.ipums.org/cps-action/variables/EMPSTAT#codes_section"
   ]
  },
  {
   "cell_type": "code",
   "execution_count": 24,
   "metadata": {},
   "outputs": [],
   "source": [
    "cps['unemp'] = cps.EMPSTAT.isin([20, 21, 22])\n",
    "cps['emp'] = cps.EMPSTAT.isin([10, 12])\n",
    "cps['lf'] = cps.unemp | cps.emp"
   ]
  },
  {
   "cell_type": "markdown",
   "metadata": {},
   "source": [
    "Some oversampled people have zero weight."
   ]
  },
  {
   "cell_type": "code",
   "execution_count": 25,
   "metadata": {},
   "outputs": [],
   "source": [
    "cps = cps[cps.WTFINL > 0]"
   ]
  },
  {
   "cell_type": "markdown",
   "metadata": {},
   "source": [
    "Define kids age 6 to 18."
   ]
  },
  {
   "cell_type": "code",
   "execution_count": 26,
   "metadata": {},
   "outputs": [],
   "source": [
    "cps['has_k6'] = cps.NCHILD > cps.NCHLT5"
   ]
  },
  {
   "cell_type": "markdown",
   "metadata": {},
   "source": [
    "Define days since schools closed (based on the end of the period) and post\n",
    "flag from that.\n",
    "\n",
    "*NB: This will not be the `post` flag used for the simple DDs, where the only\n",
    "flag is April and all CPS persons are included, not only those with valid counties.*"
   ]
  },
  {
   "cell_type": "code",
   "execution_count": 27,
   "metadata": {},
   "outputs": [],
   "source": [
    "cps['days_sc'] = np.maximum(\n",
    "    (cps.cps_end_date - cps.school_closure_date).dt.days, 0)\n",
    "cps['days_sc_has_k6'] = cps.days_sc * cps.has_k6"
   ]
  },
  {
   "cell_type": "code",
   "execution_count": 28,
   "metadata": {},
   "outputs": [],
   "source": [
    "cps['post'] = cps.days_sc > 0\n",
    "cps['post_has_k6'] = cps.post & cps.has_k6"
   ]
  },
  {
   "cell_type": "code",
   "execution_count": 29,
   "metadata": {},
   "outputs": [],
   "source": [
    "cps['days_since_2000'] = (\n",
    "    cps.cps_end_date - pd.to_datetime('2000-01-01')).dt.days"
   ]
  },
  {
   "cell_type": "markdown",
   "metadata": {},
   "source": [
    "Needs to be mapped per\n",
    "https://cps.ipums.org/cps-action/variables/FAMINC#codes_section."
   ]
  },
  {
   "cell_type": "code",
   "execution_count": 30,
   "metadata": {},
   "outputs": [],
   "source": [
    "#cps['other_faminc'] = cps.FAMINC - cps.EARNWEEK * 52 # * UHRSWORKT / AHRSWORKT\n",
    "#cps['log_other_faminc'] = "
   ]
  },
  {
   "cell_type": "code",
   "execution_count": 31,
   "metadata": {},
   "outputs": [
    {
     "data": {
      "text/plain": [
       "842    184392\n",
       "843    174936\n",
       "841    155480\n",
       "830    117775\n",
       "820     87045\n",
       "740     76839\n",
       "720     49796\n",
       "730     49559\n",
       "710     38010\n",
       "600     37382\n",
       "500     25751\n",
       "100     20133\n",
       "430     16837\n",
       "470     15062\n",
       "300     12252\n",
       "210      9422\n",
       "Name: FAMINC, dtype: int64"
      ]
     },
     "execution_count": 31,
     "metadata": {},
     "output_type": "execute_result"
    }
   ],
   "source": [
    "cps.FAMINC.value_counts()"
   ]
  },
  {
   "cell_type": "markdown",
   "metadata": {},
   "source": [
    "For easier analysis."
   ]
  },
  {
   "cell_type": "code",
   "execution_count": 33,
   "metadata": {},
   "outputs": [],
   "source": [
    "cps.rename({'WTFINL': 'w', 'AHRSWORKT': 'hours', 'AGE': 'age'}, \n",
    "           axis=1, inplace=True)"
   ]
  },
  {
   "cell_type": "markdown",
   "metadata": {},
   "source": [
    "Set NIUs to null."
   ]
  },
  {
   "cell_type": "code",
   "execution_count": 34,
   "metadata": {},
   "outputs": [],
   "source": [
    "cps.EARNWEEK = np.where(cps.EARNWEEK == 9999.99, np.nan, cps.EARNWEEK)\n",
    "cps.hours = np.where(cps.hours == 999, np.nan, cps.hours)\n",
    "# If excluding NILF.\n",
    "cps['emp_of_lf'] = np.where(cps.lf, cps.emp, np.nan)"
   ]
  },
  {
   "cell_type": "markdown",
   "metadata": {},
   "source": [
    "Log weekly earnings."
   ]
  },
  {
   "cell_type": "code",
   "execution_count": 35,
   "metadata": {},
   "outputs": [],
   "source": [
    "cps['lwe'] = np.log(cps.EARNWEEK)"
   ]
  },
  {
   "cell_type": "markdown",
   "metadata": {},
   "source": [
    "Flags for simple unclustered regression."
   ]
  },
  {
   "cell_type": "code",
   "execution_count": 36,
   "metadata": {},
   "outputs": [],
   "source": [
    "cps['apr2020'] = (cps.YEAR == 2020) & (cps.MONTH == 4)\n",
    "cps['apr2020_has_k6'] = cps.apr2020 & cps.has_k6"
   ]
  },
  {
   "cell_type": "markdown",
   "metadata": {},
   "source": [
    "Triple difference fields and associated sub-interactions."
   ]
  },
  {
   "cell_type": "code",
   "execution_count": 40,
   "metadata": {},
   "outputs": [],
   "source": [
    "cps['apr2020_has_k6_female'] = cps.apr2020_has_k6 & cps.female\n",
    "cps['apr2020_female'] = cps.apr2020 & cps.female\n",
    "cps['has_k6_female'] = cps.has_k6 & cps.female\n",
    "\n",
    "cps['days_sc_has_k6_female'] = cps.days_sc_has_k6 * cps.female\n",
    "cps['days_sc_female'] = cps.days_sc * cps.female"
   ]
  },
  {
   "cell_type": "code",
   "execution_count": 38,
   "metadata": {},
   "outputs": [],
   "source": [
    "# Do with other_faminc\n",
    "\n",
    "# cps['apr2020_has_k6_female'] = cps.apr2020_has_k6 * cps.female\n",
    "# cps['apr2020_female'] = cps.apr2020 * cps.female\n",
    "# cps['has_k6_female'] = cps.has_k6 * cps.female\n",
    "\n",
    "# cps['days_sc_has_k6_female'] = cps.days_sc_has_k6 * cps.female\n",
    "# cps['days_sc_female'] = cps.days_sc * cps.female"
   ]
  },
  {
   "cell_type": "markdown",
   "metadata": {},
   "source": [
    "Age squared."
   ]
  },
  {
   "cell_type": "code",
   "execution_count": 41,
   "metadata": {},
   "outputs": [],
   "source": [
    "cps['age2'] = cps.age * cps.age"
   ]
  },
  {
   "cell_type": "markdown",
   "metadata": {},
   "source": [
    "Set married flag per https://cps.ipums.org/cps-action/variables/MARST#codes_section."
   ]
  },
  {
   "cell_type": "code",
   "execution_count": 42,
   "metadata": {},
   "outputs": [],
   "source": [
    "cps['married'] = cps.MARST.isin([1, 2])"
   ]
  },
  {
   "cell_type": "markdown",
   "metadata": {},
   "source": [
    "Export."
   ]
  },
  {
   "cell_type": "code",
   "execution_count": 45,
   "metadata": {},
   "outputs": [],
   "source": [
    "OUTCOLS = ['YEAR', 'MONTH', 'COUNTY', 'w', 'age', 'age2', 'female', 'married',\n",
    "           'hours', 'POPESTIMATE2019', 'school_closure_date', \n",
    "           'cps_start_date', 'cps_end_date', 'unemp', 'emp', 'lf', 'emp_of_lf',\n",
    "           'has_k6', 'days_sc', 'post', 'post_has_k6', 'lwe',\n",
    "           'days_since_2000', 'apr2020', 'apr2020_has_k6', 'days_sc_has_k6',\n",
    "           'apr2020_has_k6_female', 'apr2020_female', 'has_k6_female',\n",
    "           'days_sc_has_k6_female', 'days_sc_female']"
   ]
  },
  {
   "cell_type": "code",
   "execution_count": 46,
   "metadata": {},
   "outputs": [],
   "source": [
    "cps[OUTCOLS].to_csv('data/cps.csv', index=False)"
   ]
  },
  {
   "cell_type": "markdown",
   "metadata": {},
   "source": [
    "## First stage"
   ]
  },
  {
   "cell_type": "code",
   "execution_count": null,
   "metadata": {},
   "outputs": [],
   "source": [
    "cases['school_closure_date_num'] = (\n",
    "    cases.school_closure_date - first_closure_date).dt.days\n",
    "cases = sm.add_constant(cases)"
   ]
  },
  {
   "cell_type": "code",
   "execution_count": null,
   "metadata": {},
   "outputs": [],
   "source": [
    "def get_t(cases, var):\n",
    "    regs = sm.WLS(cases.school_closure_date_num,\n",
    "                  cases[[var, 'const']],\n",
    "                  weights=cases.POPESTIMATE2019).fit().summary()\n",
    "    return float(regs.tables[1][1].data[3])"
   ]
  },
  {
   "cell_type": "code",
   "execution_count": null,
   "metadata": {},
   "outputs": [],
   "source": [
    "def get_ts(cases):\n",
    "    return pd.Series([get_t(cases, 'cases'), get_t(cases, 'deaths'),\n",
    "                      get_t(cases, 'cases_pc'), get_t(cases, 'deaths_pc'),\n",
    "                      get_t(cases, 'log_cases_pc'),\n",
    "                      get_t(cases, 'log_deaths_pc')],\n",
    "                     index=['cases', 'deaths', 'cases_pc', 'deaths_pc',\n",
    "                            'log_cases_pc', 'log_deaths_pc'])"
   ]
  },
  {
   "cell_type": "code",
   "execution_count": null,
   "metadata": {},
   "outputs": [],
   "source": [
    "fs_df = cases[cases.date.between('2020-03-01', '2020-03-31')].groupby(\n",
    "    'date').apply(get_ts)"
   ]
  },
  {
   "cell_type": "code",
   "execution_count": null,
   "metadata": {},
   "outputs": [],
   "source": [
    "fs_df"
   ]
  },
  {
   "cell_type": "code",
   "execution_count": null,
   "metadata": {
    "scrolled": false
   },
   "outputs": [],
   "source": [
    "ax = fs_df.plot()\n",
    "plt.title('t statistic of county regressions of Covid-19 on school closure date')\n",
    "ax.axvline('2020-03-12', c='lightgray')\n",
    "plt.xlabel('Date of cumulative Covid-19 cases and deaths')\n",
    "plt.ylabel('t statistic of county regressions on school closure date')\n",
    "plt.legend(['Covid-19 cases', 'Covid-19 deaths',\n",
    "            'Cases per capita', 'Deaths per capita',\n",
    "            'Log cases per capita', 'Log deaths per capita'])\n",
    "plt.show()"
   ]
  },
  {
   "cell_type": "code",
   "execution_count": null,
   "metadata": {},
   "outputs": [],
   "source": [
    "fs_df.loc[:first_closure_date].iloc[:-1]"
   ]
  },
  {
   "cell_type": "markdown",
   "metadata": {},
   "source": [
    "Use Covid-19 deaths per capita on the date before the first school closure."
   ]
  },
  {
   "cell_type": "code",
   "execution_count": null,
   "metadata": {},
   "outputs": [],
   "source": [
    "COVID_DT = '2020-03-11'"
   ]
  },
  {
   "cell_type": "code",
   "execution_count": null,
   "metadata": {},
   "outputs": [],
   "source": [
    "cases_covid_dt = cases[cases.date == COVID_DT]"
   ]
  },
  {
   "cell_type": "code",
   "execution_count": null,
   "metadata": {},
   "outputs": [],
   "source": [
    "sm.WLS(cases_covid_dt.school_closure_date_num,\n",
    "       cases_covid_dt[['deaths_pc', 'const']],\n",
    "       cases_covid_dt.POPESTIMATE2019).fit().summary()"
   ]
  },
  {
   "cell_type": "markdown",
   "metadata": {},
   "source": [
    "That is, each Covid-19 death per million population as of 2020-03-11 is\n",
    "associated with schools being closed 0.35 days earlier."
   ]
  },
  {
   "cell_type": "markdown",
   "metadata": {},
   "source": [
    "Look at full set of Covid features to consider multiple instruments."
   ]
  },
  {
   "cell_type": "code",
   "execution_count": null,
   "metadata": {},
   "outputs": [],
   "source": [
    "sm.WLS(cases_covid_dt.school_closure_date_num,\n",
    "       cases_covid_dt[['cases', 'cases_pc', 'log_cases_pc',\n",
    "                       'deaths', 'deaths_pc', 'log_deaths_pc', 'const']],\n",
    "       cases_covid_dt.POPESTIMATE2019).fit().summary()"
   ]
  },
  {
   "cell_type": "code",
   "execution_count": null,
   "metadata": {
    "scrolled": true
   },
   "outputs": [],
   "source": [
    "cases_covid_dt.plot.scatter(x='deaths_pc', y='school_closure_date')\n",
    "plt.title('First stage: School closure date ~ deaths per capita by county')\n",
    "plt.xlabel('Covid-19 deaths per million population as of 2020-03-11')\n",
    "plt.ylabel('School closure date')\n",
    "plt.show()"
   ]
  },
  {
   "cell_type": "markdown",
   "metadata": {},
   "source": [
    "Apply fixed effects by de-meaning, to be able to stay with `statsmodels` rather than\n",
    "`linearmodels` which doesn't work with `stargazer`.\n",
    "\n",
    "See https://stackoverflow.com/a/24196288/1840471:\n",
    "\n",
    "```\n",
    "   ybar = y.mean()\n",
    "    y = y -  y.groupby(data[absorb]).transform('mean') + ybar\n",
    "\n",
    "    Xbar = X.mean()\n",
    "    X = X - X.groupby(data[absorb]).transform('mean') + Xbar\n",
    "\n",
    "    reg = sm.OLS(y,X)\n",
    "    # Account for df loss from FE transform\n",
    "    reg.df_resid -= (data[absorb].nunique() - 1)\n",
    "```"
   ]
  },
  {
   "cell_type": "markdown",
   "metadata": {},
   "source": [
    "## Instrument\n",
    "\n",
    "Instrument for school closure using employment rate of mothers as of January 2020."
   ]
  },
  {
   "cell_type": "code",
   "execution_count": null,
   "metadata": {},
   "outputs": [],
   "source": [
    "cps['mother'] = cps.female & cps.has_k6\n",
    "cps['emp_mother'] = cps.mother & cps.emp"
   ]
  },
  {
   "cell_type": "code",
   "execution_count": null,
   "metadata": {},
   "outputs": [],
   "source": [
    "cps_jan2020_mothers = cps[(cps.YEAR == 2020) & (cps.MONTH == 1) & cps.mother]"
   ]
  },
  {
   "cell_type": "code",
   "execution_count": null,
   "metadata": {},
   "outputs": [],
   "source": [
    "county_mother_emp_jan2020 = cps_jan2020_mothers.groupby('COUNTY').apply(\n",
    "    lambda x: mdf.weighted_mean(x, 'emp_mother', 'WTFINL')\n",
    ")"
   ]
  },
  {
   "cell_type": "code",
   "execution_count": null,
   "metadata": {},
   "outputs": [],
   "source": [
    "county_mother_emp_jan2020"
   ]
  },
  {
   "cell_type": "code",
   "execution_count": null,
   "metadata": {},
   "outputs": [],
   "source": [
    "county_mother_emp_jan2020 = pd.DataFrame(county_mother_emp_jan2020)\n",
    "county_mother_emp_jan2020.columns = ['mother_emp_jan2020']"
   ]
  },
  {
   "cell_type": "code",
   "execution_count": null,
   "metadata": {},
   "outputs": [],
   "source": [
    "closures_mother_emp = closures.merge(county_mother_emp_jan2020, on='COUNTY')"
   ]
  },
  {
   "cell_type": "code",
   "execution_count": null,
   "metadata": {},
   "outputs": [],
   "source": [
    "closures_mother_emp.plot.scatter(x='mother_emp_jan2020', y='school_closure_date')\n",
    "plt.title('First stage: School closure date ~ mother employment rate by county')\n",
    "plt.xlabel('Employment rate of mothers as of January 2020')\n",
    "plt.ylabel('School closure date')\n",
    "plt.show()"
   ]
  },
  {
   "cell_type": "code",
   "execution_count": null,
   "metadata": {},
   "outputs": [],
   "source": [
    "closures_mother_emp['school_closure_date_num'] = (\n",
    "    closures_mother_emp.school_closure_date - first_closure_date).dt.days\n",
    "closures_mother_emp = sm.add_constant(closures_mother_emp)"
   ]
  },
  {
   "cell_type": "code",
   "execution_count": null,
   "metadata": {},
   "outputs": [],
   "source": [
    "closures_mother_emp.describe()"
   ]
  },
  {
   "cell_type": "code",
   "execution_count": null,
   "metadata": {},
   "outputs": [],
   "source": [
    "sm.OLS(closures_mother_emp.school_closure_date_num,\n",
    "       closures_mother_emp[['mother_emp_jan2020', 'const']]).fit().summary()"
   ]
  },
  {
   "cell_type": "code",
   "execution_count": null,
   "metadata": {},
   "outputs": [],
   "source": [
    "closures_mother_emp.corr()"
   ]
  },
  {
   "cell_type": "code",
   "execution_count": null,
   "metadata": {},
   "outputs": [],
   "source": []
  },
  {
   "cell_type": "markdown",
   "metadata": {},
   "source": [
    "## Regressions"
   ]
  },
  {
   "cell_type": "code",
   "execution_count": null,
   "metadata": {},
   "outputs": [],
   "source": [
    "cps[cps.post].cps_date.value_counts()"
   ]
  },
  {
   "cell_type": "code",
   "execution_count": null,
   "metadata": {},
   "outputs": [],
   "source": [
    "cps.COUNTY.isna().sum()"
   ]
  },
  {
   "cell_type": "code",
   "execution_count": null,
   "metadata": {},
   "outputs": [],
   "source": [
    "cps.COUNTY.value_counts()"
   ]
  },
  {
   "cell_type": "code",
   "execution_count": null,
   "metadata": {},
   "outputs": [],
   "source": [
    "cps.groupby(['has_k6', 'post']).size()"
   ]
  },
  {
   "cell_type": "code",
   "execution_count": null,
   "metadata": {},
   "outputs": [],
   "source": [
    "cps.columns"
   ]
  },
  {
   "cell_type": "code",
   "execution_count": null,
   "metadata": {},
   "outputs": [],
   "source": [
    "mdf.weighted_mean(cps[cps.lf & (cps.YEAR == 2020) & (cps.MONTH == 3)], 'emp', 'WTFINL')"
   ]
  },
  {
   "cell_type": "code",
   "execution_count": null,
   "metadata": {},
   "outputs": [],
   "source": [
    "mdf.weighted_mean(cps[cps.lf & (cps.YEAR == 2020) & (cps.MONTH == 4)], 'emp', 'WTFINL')"
   ]
  },
  {
   "cell_type": "code",
   "execution_count": null,
   "metadata": {},
   "outputs": [],
   "source": [
    "XCOLS = ['has_k6', 'post', 'post_has_k6', 'female', 'const', 'cps_date_float']\n",
    "sm.WLS(cps.EARNWEEK, cps[XCOLS].astype('float'), weights=cps.WTFINL).fit().summary()"
   ]
  },
  {
   "cell_type": "code",
   "execution_count": null,
   "metadata": {},
   "outputs": [],
   "source": [
    "XCOLS = ['has_k6', 'post', 'post_has_k6', 'female', 'const', 'cps_date_float']\n",
    "sm.WLS(cps.EARNWEEK, cps[XCOLS].astype('float'), weights=cps.WTFINL).fit(\n",
    "    cov_type='cluster', cov_kwds={'groups': cps.COUNTY}).summary()"
   ]
  },
  {
   "cell_type": "code",
   "execution_count": null,
   "metadata": {},
   "outputs": [],
   "source": []
  }
 ],
 "metadata": {
  "kernelspec": {
   "display_name": "Python 3",
   "language": "python",
   "name": "python3"
  },
  "language_info": {
   "codemirror_mode": {
    "name": "ipython",
    "version": 3
   },
   "file_extension": ".py",
   "mimetype": "text/x-python",
   "name": "python",
   "nbconvert_exporter": "python",
   "pygments_lexer": "ipython3",
   "version": "3.7.7"
  }
 },
 "nbformat": 4,
 "nbformat_minor": 4
}
