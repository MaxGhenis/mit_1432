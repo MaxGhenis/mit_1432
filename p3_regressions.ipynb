{
 "cells": [
  {
   "cell_type": "markdown",
   "metadata": {},
   "source": [
    "# 14.32 final paper - step 3, regressions\n",
    "\n",
    "Start with simple DD, then add complexity."
   ]
  },
  {
   "cell_type": "code",
   "execution_count": 1,
   "metadata": {},
   "outputs": [],
   "source": [
    "# For multiple dependent variables.\n",
    "# !pip uninstall -y stargazer\n",
    "# !pip install git+https://github.com/toobaz/stargazer.git@fix_show_dep_var"
   ]
  },
  {
   "cell_type": "code",
   "execution_count": 2,
   "metadata": {},
   "outputs": [],
   "source": [
    "import pandas as pd\n",
    "import numpy as np\n",
    "import microdf as mdf\n",
    "import statsmodels.api as sm\n",
    "from linearmodels.panel import PanelOLS\n",
    "from statsmodels.stats.weightstats import DescrStatsW\n",
    "from stargazer.stargazer import Stargazer\n",
    "from IPython.core.display import HTML  # For examining Stargazer output."
   ]
  },
  {
   "cell_type": "markdown",
   "metadata": {},
   "source": [
    "## Data"
   ]
  },
  {
   "cell_type": "code",
   "execution_count": 3,
   "metadata": {},
   "outputs": [],
   "source": [
    "cps = pd.read_csv('data/cps.csv.gz')"
   ]
  },
  {
   "cell_type": "markdown",
   "metadata": {},
   "source": [
    "Change bools to numbers for regressions\n",
    "(do here to save space when storing between notebooks)."
   ]
  },
  {
   "cell_type": "code",
   "execution_count": 4,
   "metadata": {},
   "outputs": [],
   "source": [
    "cps.replace(False, 0, inplace=True)"
   ]
  },
  {
   "cell_type": "markdown",
   "metadata": {},
   "source": [
    "Make employment rate out of 100 for easier to read regression results."
   ]
  },
  {
   "cell_type": "code",
   "execution_count": 5,
   "metadata": {},
   "outputs": [],
   "source": [
    "cps.emp *= 100"
   ]
  },
  {
   "cell_type": "code",
   "execution_count": 6,
   "metadata": {},
   "outputs": [],
   "source": [
    "DATE_COLS = ['cps_start_date', 'cps_end_date', 'school_closure_date']\n",
    "cps.drop(DATE_COLS, axis=1, inplace=True)  # If needed, change to dates."
   ]
  },
  {
   "cell_type": "code",
   "execution_count": 7,
   "metadata": {},
   "outputs": [],
   "source": [
    "cps = sm.add_constant(cps)"
   ]
  },
  {
   "cell_type": "markdown",
   "metadata": {},
   "source": [
    "## Common"
   ]
  },
  {
   "cell_type": "code",
   "execution_count": 8,
   "metadata": {},
   "outputs": [
    {
     "data": {
      "text/plain": [
       "Index(['const', 'YEAR', 'MONTH', 'COUNTY', 'w', 'age', 'age2', 'female',\n",
       "       'married', 'hours', 'POPESTIMATE2019', 'unemp', 'emp', 'lf',\n",
       "       'emp_of_lf', 'has_k5', 'days_sc', 'post', 'post_has_k5', 'lwe',\n",
       "       'days_since_2000', 'apr2020', 'apr2020_has_k5', 'days_sc_has_k5',\n",
       "       'apr2020_has_k5_female', 'apr2020_female', 'has_k5_female',\n",
       "       'days_sc_has_k5_female', 'days_sc_female'],\n",
       "      dtype='object')"
      ]
     },
     "execution_count": 8,
     "metadata": {},
     "output_type": "execute_result"
    }
   ],
   "source": [
    "cps.columns"
   ]
  },
  {
   "cell_type": "code",
   "execution_count": 9,
   "metadata": {},
   "outputs": [],
   "source": [
    "OUTCOMES = ['emp', 'hours', 'lwe']"
   ]
  },
  {
   "cell_type": "code",
   "execution_count": 10,
   "metadata": {},
   "outputs": [],
   "source": [
    "def reg(df, y, x, cluster=False):\n",
    "    \"\"\" Run WLS regression. Also drops all incomplete rows across x and y.\n",
    "    \n",
    "    Args:\n",
    "        df: DataFrame.\n",
    "        y: Name of y column.\n",
    "        x: List of x column names (const is added).\n",
    "        cluster: Whether to cluster by county. Defaults to False.\n",
    "    \"\"\"\n",
    "    cols = x + [y, 'w', 'const']\n",
    "    if cluster:\n",
    "        cols += ['COUNTY']\n",
    "    tmp = df[cols].dropna()\n",
    "    m = sm.WLS(tmp[y], tmp[x + ['const']], weights=tmp['w'], missing='drop')\n",
    "    if cluster:\n",
    "        return m.fit(cov_type='cluster', cov_kwds={'groups': tmp['COUNTY']})\n",
    "    return m.fit()"
   ]
  },
  {
   "cell_type": "code",
   "execution_count": 11,
   "metadata": {},
   "outputs": [],
   "source": [
    "def reg_all(df, x, cluster=False, quiet=False):\n",
    "    \"\"\" Run and print summaries of all regressions: emp, hours, lwe.\n",
    "    \n",
    "    Returns dict where each model is identified by its outcome.\n",
    "    \"\"\"\n",
    "    res = {}\n",
    "    for outcome in OUTCOMES:\n",
    "        m = reg(df, outcome, x, cluster)\n",
    "        res[outcome] = m\n",
    "        if ~quiet:\n",
    "            print(m.summary())\n",
    "    return res"
   ]
  },
  {
   "cell_type": "markdown",
   "metadata": {},
   "source": [
    "Columns for use in different regressions.\n",
    "\n",
    "Beta of interest is the first element of `DD_COLS`, `DD_REG_COLS`, and\n",
    "`DDD_COLS`."
   ]
  },
  {
   "cell_type": "code",
   "execution_count": 12,
   "metadata": {},
   "outputs": [],
   "source": [
    "DD_COLS = ['apr2020_has_k5', 'apr2020', 'has_k5']\n",
    "DD_REG_COLS = ['days_sc_has_k5', 'days_sc', 'has_k5']\n",
    "DDD_COLS = ['apr2020_has_k5_female', 'apr2020_female',\n",
    "            'has_k5_female'] + DD_COLS\n",
    "DDD_REG_COLS = ['days_sc_has_k5_female', 'days_sc_female',\n",
    "                'has_k5_female'] + DD_REG_COLS\n",
    "CONTROLS = ['days_since_2000', 'female', 'age', 'age2', 'married']"
   ]
  },
  {
   "cell_type": "markdown",
   "metadata": {},
   "source": [
    "## DD\n",
    "\n",
    "First version: only compare February and April"
   ]
  },
  {
   "cell_type": "code",
   "execution_count": 13,
   "metadata": {},
   "outputs": [],
   "source": [
    "dd0 = cps[(cps.YEAR == 2020) & cps.MONTH.isin([2, 4])][\n",
    "    OUTCOMES + ['apr2020', 'has_k5', 'apr2020_has_k5', 'w', 'const']]"
   ]
  },
  {
   "cell_type": "code",
   "execution_count": 14,
   "metadata": {},
   "outputs": [
    {
     "data": {
      "text/plain": [
       "0.00011043335582375969"
      ]
     },
     "execution_count": 14,
     "metadata": {},
     "output_type": "execute_result"
    }
   ],
   "source": [
    "weighted_stats = DescrStatsW(dd0.lwe[~dd0.lwe.isna()], \n",
    "                             weights=dd0.w[~dd0.lwe.isna()], ddof=0)\n",
    "weighted_stats.std_mean"
   ]
  },
  {
   "cell_type": "code",
   "execution_count": 15,
   "metadata": {},
   "outputs": [
    {
     "name": "stdout",
     "output_type": "stream",
     "text": [
      "                            WLS Regression Results                            \n",
      "==============================================================================\n",
      "Dep. Variable:                    emp   R-squared:                       0.015\n",
      "Model:                            WLS   Adj. R-squared:                  0.015\n",
      "Method:                 Least Squares   F-statistic:                     420.4\n",
      "Date:                Sun, 31 May 2020   Prob (F-statistic):          4.89e-271\n",
      "Time:                        13:28:31   Log-Likelihood:            -4.3175e+05\n",
      "No. Observations:               81467   AIC:                         8.635e+05\n",
      "Df Residuals:                   81463   BIC:                         8.635e+05\n",
      "Df Model:                           3                                         \n",
      "Covariance Type:            nonrobust                                         \n",
      "==================================================================================\n",
      "                     coef    std err          t      P>|t|      [0.025      0.975]\n",
      "----------------------------------------------------------------------------------\n",
      "apr2020_has_k5     1.1179      0.606      1.845      0.065      -0.069       2.305\n",
      "apr2020          -11.1727      0.408    -27.397      0.000     -11.972     -10.373\n",
      "has_k5             0.2771      0.429      0.647      0.518      -0.563       1.117\n",
      "const             80.0948      0.288    278.364      0.000      79.531      80.659\n",
      "==============================================================================\n",
      "Omnibus:                    13915.774   Durbin-Watson:                   1.903\n",
      "Prob(Omnibus):                  0.000   Jarque-Bera (JB):            22558.412\n",
      "Skew:                          -1.286   Prob(JB):                         0.00\n",
      "Kurtosis:                       3.181   Cond. No.                         6.61\n",
      "==============================================================================\n",
      "\n",
      "Warnings:\n",
      "[1] Standard Errors assume that the covariance matrix of the errors is correctly specified.\n",
      "                            WLS Regression Results                            \n",
      "==============================================================================\n",
      "Dep. Variable:                  hours   R-squared:                       0.004\n",
      "Model:                            WLS   Adj. R-squared:                  0.004\n",
      "Method:                 Least Squares   F-statistic:                     88.97\n",
      "Date:                Sun, 31 May 2020   Prob (F-statistic):           1.94e-57\n",
      "Time:                        13:28:31   Log-Likelihood:            -2.3740e+05\n",
      "No. Observations:               59107   AIC:                         4.748e+05\n",
      "Df Residuals:                   59103   BIC:                         4.748e+05\n",
      "Df Model:                           3                                         \n",
      "Covariance Type:            nonrobust                                         \n",
      "==================================================================================\n",
      "                     coef    std err          t      P>|t|      [0.025      0.975]\n",
      "----------------------------------------------------------------------------------\n",
      "apr2020_has_k5     0.0949      0.198      0.480      0.631      -0.292       0.482\n",
      "apr2020           -1.6426      0.134    -12.301      0.000      -1.904      -1.381\n",
      "has_k5            -0.1920      0.133     -1.447      0.148      -0.452       0.068\n",
      "const             40.4259      0.089    452.550      0.000      40.251      40.601\n",
      "==============================================================================\n",
      "Omnibus:                     7951.259   Durbin-Watson:                   1.945\n",
      "Prob(Omnibus):                  0.000   Jarque-Bera (JB):            99058.005\n",
      "Skew:                           0.160   Prob(JB):                         0.00\n",
      "Kurtosis:                       9.334   Cond. No.                         6.37\n",
      "==============================================================================\n",
      "\n",
      "Warnings:\n",
      "[1] Standard Errors assume that the covariance matrix of the errors is correctly specified.\n",
      "                            WLS Regression Results                            \n",
      "==============================================================================\n",
      "Dep. Variable:                    lwe   R-squared:                       0.002\n",
      "Model:                            WLS   Adj. R-squared:                  0.002\n",
      "Method:                 Least Squares   F-statistic:                     12.03\n",
      "Date:                Sun, 31 May 2020   Prob (F-statistic):           7.34e-08\n",
      "Time:                        13:28:31   Log-Likelihood:                -17711.\n",
      "No. Observations:               14642   AIC:                         3.543e+04\n",
      "Df Residuals:                   14638   BIC:                         3.546e+04\n",
      "Df Model:                           3                                         \n",
      "Covariance Type:            nonrobust                                         \n",
      "==================================================================================\n",
      "                     coef    std err          t      P>|t|      [0.025      0.975]\n",
      "----------------------------------------------------------------------------------\n",
      "apr2020_has_k5    -0.0205      0.024     -0.851      0.395      -0.068       0.027\n",
      "apr2020            0.0551      0.016      3.420      0.001       0.024       0.087\n",
      "has_k5             0.0639      0.016      3.893      0.000       0.032       0.096\n",
      "const              6.7826      0.011    620.129      0.000       6.761       6.804\n",
      "==============================================================================\n",
      "Omnibus:                     6359.500   Durbin-Watson:                   1.812\n",
      "Prob(Omnibus):                  0.000   Jarque-Bera (JB):           101414.636\n",
      "Skew:                          -1.669   Prob(JB):                         0.00\n",
      "Kurtosis:                      15.454   Cond. No.                         6.38\n",
      "==============================================================================\n",
      "\n",
      "Warnings:\n",
      "[1] Standard Errors assume that the covariance matrix of the errors is correctly specified.\n"
     ]
    }
   ],
   "source": [
    "m_dd0 = reg_all(dd0, DD_COLS)"
   ]
  },
  {
   "cell_type": "markdown",
   "metadata": {},
   "source": [
    "### Simple with more history\n",
    "\n",
    "Can do the same with `cps` instead of `dd0`, after dropping March 2020,\n",
    "since treatment wasn't the same then (requires clustering)."
   ]
  },
  {
   "cell_type": "code",
   "execution_count": 16,
   "metadata": {},
   "outputs": [],
   "source": [
    "cps_no_mar2020 = cps[~((cps.YEAR == 2020) & (cps.MONTH == 3))]"
   ]
  },
  {
   "cell_type": "code",
   "execution_count": 17,
   "metadata": {},
   "outputs": [
    {
     "name": "stdout",
     "output_type": "stream",
     "text": [
      "                            WLS Regression Results                            \n",
      "==============================================================================\n",
      "Dep. Variable:                    emp   R-squared:                       0.003\n",
      "Model:                            WLS   Adj. R-squared:                  0.003\n",
      "Method:                 Least Squares   F-statistic:                     980.1\n",
      "Date:                Sun, 31 May 2020   Prob (F-statistic):               0.00\n",
      "Time:                        13:28:32   Log-Likelihood:            -5.3933e+06\n",
      "No. Observations:             1031956   AIC:                         1.079e+07\n",
      "Df Residuals:                 1031952   BIC:                         1.079e+07\n",
      "Df Model:                           3                                         \n",
      "Covariance Type:            nonrobust                                         \n",
      "==================================================================================\n",
      "                     coef    std err          t      P>|t|      [0.025      0.975]\n",
      "----------------------------------------------------------------------------------\n",
      "apr2020_has_k5     0.8440      0.391      2.159      0.031       0.078       1.610\n",
      "apr2020          -10.8298      0.264    -41.040      0.000     -11.347     -10.313\n",
      "has_k5             0.5510      0.081      6.776      0.000       0.392       0.710\n",
      "const             79.7519      0.055   1444.944      0.000      79.644      79.860\n",
      "==============================================================================\n",
      "Omnibus:                   259810.840   Durbin-Watson:                   1.935\n",
      "Prob(Omnibus):                  0.000   Jarque-Bera (JB):           504690.806\n",
      "Skew:                          -1.627   Prob(JB):                         0.00\n",
      "Kurtosis:                       4.072   Cond. No.                         12.5\n",
      "==============================================================================\n",
      "\n",
      "Warnings:\n",
      "[1] Standard Errors assume that the covariance matrix of the errors is correctly specified.\n",
      "                            WLS Regression Results                            \n",
      "==============================================================================\n",
      "Dep. Variable:                  hours   R-squared:                       0.001\n",
      "Model:                            WLS   Adj. R-squared:                  0.001\n",
      "Method:                 Least Squares   F-statistic:                     247.0\n",
      "Date:                Sun, 31 May 2020   Prob (F-statistic):          3.00e-160\n",
      "Time:                        13:28:32   Log-Likelihood:            -3.1752e+06\n",
      "No. Observations:              795760   AIC:                         6.350e+06\n",
      "Df Residuals:                  795756   BIC:                         6.350e+06\n",
      "Df Model:                           3                                         \n",
      "Covariance Type:            nonrobust                                         \n",
      "==================================================================================\n",
      "                     coef    std err          t      P>|t|      [0.025      0.975]\n",
      "----------------------------------------------------------------------------------\n",
      "apr2020_has_k5     0.1040      0.141      0.739      0.460      -0.172       0.380\n",
      "apr2020           -1.8834      0.095    -19.730      0.000      -2.070      -1.696\n",
      "has_k5            -0.2011      0.027     -7.515      0.000      -0.254      -0.149\n",
      "const             40.6667      0.018   2236.004      0.000      40.631      40.702\n",
      "==============================================================================\n",
      "Omnibus:                   129636.743   Durbin-Watson:                   1.944\n",
      "Prob(Omnibus):                  0.000   Jarque-Bera (JB):          1593134.783\n",
      "Skew:                           0.403   Prob(JB):                         0.00\n",
      "Kurtosis:                       9.885   Cond. No.                         13.6\n",
      "==============================================================================\n",
      "\n",
      "Warnings:\n",
      "[1] Standard Errors assume that the covariance matrix of the errors is correctly specified.\n",
      "                            WLS Regression Results                            \n",
      "==============================================================================\n",
      "Dep. Variable:                    lwe   R-squared:                       0.001\n",
      "Model:                            WLS   Adj. R-squared:                  0.001\n",
      "Method:                 Least Squares   F-statistic:                     55.62\n",
      "Date:                Sun, 31 May 2020   Prob (F-statistic):           6.27e-36\n",
      "Time:                        13:28:32   Log-Likelihood:            -2.3253e+05\n",
      "No. Observations:              189752   AIC:                         4.651e+05\n",
      "Df Residuals:                  189748   BIC:                         4.651e+05\n",
      "Df Model:                           3                                         \n",
      "Covariance Type:            nonrobust                                         \n",
      "==================================================================================\n",
      "                     coef    std err          t      P>|t|      [0.025      0.975]\n",
      "----------------------------------------------------------------------------------\n",
      "apr2020_has_k5     0.0222      0.018      1.250      0.211      -0.013       0.057\n",
      "apr2020            0.0885      0.012      7.413      0.000       0.065       0.112\n",
      "has_k5             0.0212      0.003      6.114      0.000       0.014       0.028\n",
      "const              6.7493      0.002   2886.611      0.000       6.745       6.754\n",
      "==============================================================================\n",
      "Omnibus:                   100453.189   Durbin-Watson:                   1.829\n",
      "Prob(Omnibus):                  0.000   Jarque-Bera (JB):          3332784.734\n",
      "Skew:                          -1.949   Prob(JB):                         0.00\n",
      "Kurtosis:                      23.158   Cond. No.                         13.2\n",
      "==============================================================================\n",
      "\n",
      "Warnings:\n",
      "[1] Standard Errors assume that the covariance matrix of the errors is correctly specified.\n"
     ]
    }
   ],
   "source": [
    "m_no_mar2020 = reg_all(cps_no_mar2020, DD_COLS)"
   ]
  },
  {
   "cell_type": "markdown",
   "metadata": {},
   "source": [
    "### History plus more controls"
   ]
  },
  {
   "cell_type": "code",
   "execution_count": 18,
   "metadata": {},
   "outputs": [
    {
     "name": "stdout",
     "output_type": "stream",
     "text": [
      "                            WLS Regression Results                            \n",
      "==============================================================================\n",
      "Dep. Variable:                    emp   R-squared:                       0.030\n",
      "Model:                            WLS   Adj. R-squared:                  0.030\n",
      "Method:                 Least Squares   F-statistic:                     3994.\n",
      "Date:                Sun, 31 May 2020   Prob (F-statistic):               0.00\n",
      "Time:                        13:28:33   Log-Likelihood:            -5.3790e+06\n",
      "No. Observations:             1031956   AIC:                         1.076e+07\n",
      "Df Residuals:                 1031947   BIC:                         1.076e+07\n",
      "Df Model:                           8                                         \n",
      "Covariance Type:            nonrobust                                         \n",
      "===================================================================================\n",
      "                      coef    std err          t      P>|t|      [0.025      0.975]\n",
      "-----------------------------------------------------------------------------------\n",
      "apr2020_has_k5      0.7059      0.385      1.831      0.067      -0.050       1.461\n",
      "apr2020           -11.4383      0.272    -42.046      0.000     -11.972     -10.905\n",
      "has_k5              0.7805      0.090      8.698      0.000       0.605       0.956\n",
      "days_since_2000     0.0017      0.000      8.031      0.000       0.001       0.002\n",
      "female            -12.6970      0.079   -161.152      0.000     -12.851     -12.543\n",
      "age                 0.9770      0.048     20.293      0.000       0.883       1.071\n",
      "age2               -0.0134      0.001    -22.252      0.000      -0.015      -0.012\n",
      "married             3.4130      0.086     39.858      0.000       3.245       3.581\n",
      "const              55.8162      1.712     32.612      0.000      52.462      59.171\n",
      "==============================================================================\n",
      "Omnibus:                   247952.702   Durbin-Watson:                   1.909\n",
      "Prob(Omnibus):                  0.000   Jarque-Bera (JB):           469006.626\n",
      "Skew:                          -1.561   Prob(JB):                         0.00\n",
      "Kurtosis:                       4.076   Cond. No.                     3.17e+05\n",
      "==============================================================================\n",
      "\n",
      "Warnings:\n",
      "[1] Standard Errors assume that the covariance matrix of the errors is correctly specified.\n",
      "[2] The condition number is large, 3.17e+05. This might indicate that there are\n",
      "strong multicollinearity or other numerical problems.\n",
      "                            WLS Regression Results                            \n",
      "==============================================================================\n",
      "Dep. Variable:                  hours   R-squared:                       0.041\n",
      "Model:                            WLS   Adj. R-squared:                  0.041\n",
      "Method:                 Least Squares   F-statistic:                     4241.\n",
      "Date:                Sun, 31 May 2020   Prob (F-statistic):               0.00\n",
      "Time:                        13:28:34   Log-Likelihood:            -3.1590e+06\n",
      "No. Observations:              795760   AIC:                         6.318e+06\n",
      "Df Residuals:                  795751   BIC:                         6.318e+06\n",
      "Df Model:                           8                                         \n",
      "Covariance Type:            nonrobust                                         \n",
      "===================================================================================\n",
      "                      coef    std err          t      P>|t|      [0.025      0.975]\n",
      "-----------------------------------------------------------------------------------\n",
      "apr2020_has_k5     -0.0537      0.138     -0.389      0.697      -0.324       0.217\n",
      "apr2020            -1.8972      0.097    -19.555      0.000      -2.087      -1.707\n",
      "has_k5             -0.4156      0.029    -14.102      0.000      -0.473      -0.358\n",
      "days_since_2000  9.219e-05   6.76e-05      1.364      0.172   -4.02e-05       0.000\n",
      "female             -4.4840      0.026   -173.211      0.000      -4.535      -4.433\n",
      "age                 0.3415      0.016     21.434      0.000       0.310       0.373\n",
      "age2               -0.0035      0.000    -17.648      0.000      -0.004      -0.003\n",
      "married             0.3567      0.028     12.607      0.000       0.301       0.412\n",
      "const              34.2868      0.562     61.057      0.000      33.186      35.387\n",
      "==============================================================================\n",
      "Omnibus:                   132802.860   Durbin-Watson:                   1.912\n",
      "Prob(Omnibus):                  0.000   Jarque-Bera (JB):          1669320.900\n",
      "Skew:                           0.419   Prob(JB):                         0.00\n",
      "Kurtosis:                      10.046   Cond. No.                     3.17e+05\n",
      "==============================================================================\n",
      "\n",
      "Warnings:\n",
      "[1] Standard Errors assume that the covariance matrix of the errors is correctly specified.\n",
      "[2] The condition number is large, 3.17e+05. This might indicate that there are\n",
      "strong multicollinearity or other numerical problems.\n",
      "                            WLS Regression Results                            \n",
      "==============================================================================\n",
      "Dep. Variable:                    lwe   R-squared:                       0.072\n",
      "Model:                            WLS   Adj. R-squared:                  0.072\n",
      "Method:                 Least Squares   F-statistic:                     1849.\n",
      "Date:                Sun, 31 May 2020   Prob (F-statistic):               0.00\n",
      "Time:                        13:28:34   Log-Likelihood:            -2.2549e+05\n",
      "No. Observations:              189752   AIC:                         4.510e+05\n",
      "Df Residuals:                  189743   BIC:                         4.511e+05\n",
      "Df Model:                           8                                         \n",
      "Covariance Type:            nonrobust                                         \n",
      "===================================================================================\n",
      "                      coef    std err          t      P>|t|      [0.025      0.975]\n",
      "-----------------------------------------------------------------------------------\n",
      "apr2020_has_k5      0.0102      0.017      0.593      0.553      -0.023       0.044\n",
      "apr2020             0.0370      0.012      3.092      0.002       0.014       0.060\n",
      "has_k5             -0.1000      0.004    -26.658      0.000      -0.107      -0.093\n",
      "days_since_2000     0.0001   8.59e-06     15.640      0.000       0.000       0.000\n",
      "female             -0.2584      0.003    -78.703      0.000      -0.265      -0.252\n",
      "age                 0.0751      0.002     37.198      0.000       0.071       0.079\n",
      "age2               -0.0008   2.53e-05    -32.584      0.000      -0.001      -0.001\n",
      "married             0.1826      0.004     50.991      0.000       0.176       0.190\n",
      "const               4.2708      0.071     59.996      0.000       4.131       4.410\n",
      "==============================================================================\n",
      "Omnibus:                   109594.829   Durbin-Watson:                   1.814\n",
      "Prob(Omnibus):                  0.000   Jarque-Bera (JB):          4528610.321\n",
      "Skew:                          -2.145   Prob(JB):                         0.00\n",
      "Kurtosis:                      26.545   Cond. No.                     3.16e+05\n",
      "==============================================================================\n",
      "\n",
      "Warnings:\n",
      "[1] Standard Errors assume that the covariance matrix of the errors is correctly specified.\n",
      "[2] The condition number is large, 3.16e+05. This might indicate that there are\n",
      "strong multicollinearity or other numerical problems.\n"
     ]
    }
   ],
   "source": [
    "m_no_mar2020_controls = reg_all(cps_no_mar2020, DD_COLS + CONTROLS)"
   ]
  },
  {
   "cell_type": "markdown",
   "metadata": {},
   "source": [
    "## Intensity DD with fixed effects and clustering\n",
    "\n",
    "Only a few observations from the March CPS were in counties with closed schools. Any signal they might contribute would likely be offset by the need to cluster by county.\n",
    "\n",
    "Instead, apply a different signal: days since school closure. This is effectively a DD where treatment varies in intensity. Pair this with county fixed effects and standard error clustering at the county level. We can now include March 2020 data.\n",
    "\n",
    "### "
   ]
  },
  {
   "cell_type": "code",
   "execution_count": 19,
   "metadata": {},
   "outputs": [
    {
     "name": "stdout",
     "output_type": "stream",
     "text": [
      "                            WLS Regression Results                            \n",
      "==============================================================================\n",
      "Dep. Variable:                    emp   R-squared:                       0.029\n",
      "Model:                            WLS   Adj. R-squared:                  0.029\n",
      "Method:                 Least Squares   F-statistic:                     213.5\n",
      "Date:                Sun, 31 May 2020   Prob (F-statistic):           1.76e-84\n",
      "Time:                        13:28:34   Log-Likelihood:            -1.8834e+06\n",
      "No. Observations:              363768   AIC:                         3.767e+06\n",
      "Df Residuals:                  363759   BIC:                         3.767e+06\n",
      "Df Model:                           8                                         \n",
      "Covariance Type:              cluster                                         \n",
      "===================================================================================\n",
      "                      coef    std err          z      P>|z|      [0.025      0.975]\n",
      "-----------------------------------------------------------------------------------\n",
      "days_sc_has_k5      0.0309      0.035      0.883      0.377      -0.038       0.099\n",
      "days_sc            -0.3971      0.031    -12.908      0.000      -0.457      -0.337\n",
      "has_k5              0.2646      0.410      0.645      0.519      -0.539       1.068\n",
      "days_since_2000     0.0016      0.001      2.499      0.012       0.000       0.003\n",
      "female            -12.2309      0.465    -26.321      0.000     -13.142     -11.320\n",
      "age                 0.9020      0.181      4.992      0.000       0.548       1.256\n",
      "age2               -0.0124      0.002     -5.469      0.000      -0.017      -0.008\n",
      "married             2.4340      0.520      4.683      0.000       1.415       3.453\n",
      "const              58.7528      5.221     11.253      0.000      48.520      68.986\n",
      "==============================================================================\n",
      "Omnibus:                    89912.428   Durbin-Watson:                   1.910\n",
      "Prob(Omnibus):                  0.000   Jarque-Bera (JB):           172816.462\n",
      "Skew:                          -1.599   Prob(JB):                         0.00\n",
      "Kurtosis:                       4.084   Cond. No.                     3.08e+05\n",
      "==============================================================================\n",
      "\n",
      "Warnings:\n",
      "[1] Standard Errors are robust to cluster correlation (cluster)\n",
      "[2] The condition number is large, 3.08e+05. This might indicate that there are\n",
      "strong multicollinearity or other numerical problems.\n",
      "                            WLS Regression Results                            \n",
      "==============================================================================\n",
      "Dep. Variable:                  hours   R-squared:                       0.036\n",
      "Model:                            WLS   Adj. R-squared:                  0.036\n",
      "Method:                 Least Squares   F-statistic:                     163.9\n",
      "Date:                Sun, 31 May 2020   Prob (F-statistic):           9.21e-76\n",
      "Time:                        13:28:35   Log-Likelihood:            -1.1120e+06\n",
      "No. Observations:              283593   AIC:                         2.224e+06\n",
      "Df Residuals:                  283584   BIC:                         2.224e+06\n",
      "Df Model:                           8                                         \n",
      "Covariance Type:              cluster                                         \n",
      "===================================================================================\n",
      "                      coef    std err          z      P>|z|      [0.025      0.975]\n",
      "-----------------------------------------------------------------------------------\n",
      "days_sc_has_k5     -0.0087      0.009     -0.940      0.347      -0.027       0.009\n",
      "days_sc            -0.0479      0.007     -7.328      0.000      -0.061      -0.035\n",
      "has_k5             -0.5889      0.118     -4.994      0.000      -0.820      -0.358\n",
      "days_since_2000     0.0001      0.000      0.846      0.397      -0.000       0.000\n",
      "female             -4.0460      0.136    -29.858      0.000      -4.312      -3.780\n",
      "age                 0.4142      0.051      8.153      0.000       0.315       0.514\n",
      "age2               -0.0044      0.001     -7.005      0.000      -0.006      -0.003\n",
      "married             0.1736      0.103      1.678      0.093      -0.029       0.376\n",
      "const              32.4215      1.332     24.349      0.000      29.812      35.031\n",
      "==============================================================================\n",
      "Omnibus:                    43627.476   Durbin-Watson:                   1.904\n",
      "Prob(Omnibus):                  0.000   Jarque-Bera (JB):           546209.979\n",
      "Skew:                           0.334   Prob(JB):                         0.00\n",
      "Kurtosis:                       9.766   Cond. No.                     3.08e+05\n",
      "==============================================================================\n",
      "\n",
      "Warnings:\n",
      "[1] Standard Errors are robust to cluster correlation (cluster)\n",
      "[2] The condition number is large, 3.08e+05. This might indicate that there are\n",
      "strong multicollinearity or other numerical problems.\n",
      "                            WLS Regression Results                            \n",
      "==============================================================================\n",
      "Dep. Variable:                    lwe   R-squared:                       0.067\n",
      "Model:                            WLS   Adj. R-squared:                  0.067\n",
      "Method:                 Least Squares   F-statistic:                     226.4\n",
      "Date:                Sun, 31 May 2020   Prob (F-statistic):           1.89e-86\n",
      "Time:                        13:28:35   Log-Likelihood:                -80069.\n",
      "No. Observations:               68086   AIC:                         1.602e+05\n",
      "Df Residuals:                   68077   BIC:                         1.602e+05\n",
      "Df Model:                           8                                         \n",
      "Covariance Type:              cluster                                         \n",
      "===================================================================================\n",
      "                      coef    std err          z      P>|z|      [0.025      0.975]\n",
      "-----------------------------------------------------------------------------------\n",
      "days_sc_has_k5      0.0004      0.001      0.368      0.713      -0.002       0.003\n",
      "days_sc             0.0009      0.001      1.241      0.214      -0.001       0.002\n",
      "has_k5             -0.1340      0.015     -9.219      0.000      -0.162      -0.106\n",
      "days_since_2000     0.0002   1.79e-05      8.728      0.000       0.000       0.000\n",
      "female             -0.2316      0.010    -22.959      0.000      -0.251      -0.212\n",
      "age                 0.0802      0.005     17.302      0.000       0.071       0.089\n",
      "age2               -0.0009   5.71e-05    -15.418      0.000      -0.001      -0.001\n",
      "married             0.1729      0.009     20.248      0.000       0.156       0.190\n",
      "const               4.0678      0.166     24.503      0.000       3.742       4.393\n",
      "==============================================================================\n",
      "Omnibus:                    33680.589   Durbin-Watson:                   1.804\n",
      "Prob(Omnibus):                  0.000   Jarque-Bera (JB):           886820.236\n",
      "Skew:                          -1.833   Prob(JB):                         0.00\n",
      "Kurtosis:                      20.296   Cond. No.                     3.07e+05\n",
      "==============================================================================\n",
      "\n",
      "Warnings:\n",
      "[1] Standard Errors are robust to cluster correlation (cluster)\n",
      "[2] The condition number is large, 3.07e+05. This might indicate that there are\n",
      "strong multicollinearity or other numerical problems.\n"
     ]
    }
   ],
   "source": [
    "m_intensity = reg_all(cps, DD_REG_COLS + CONTROLS, cluster=True)"
   ]
  },
  {
   "cell_type": "markdown",
   "metadata": {},
   "source": [
    "## Diff-in-diff-in-diff\n",
    "\n",
    "Add interactions by female.\n",
    "\n",
    "TODO: SES.\n",
    "\n",
    "### Simple DDD"
   ]
  },
  {
   "cell_type": "code",
   "execution_count": 20,
   "metadata": {
    "scrolled": false
   },
   "outputs": [
    {
     "name": "stdout",
     "output_type": "stream",
     "text": [
      "                            WLS Regression Results                            \n",
      "==============================================================================\n",
      "Dep. Variable:                    emp   R-squared:                       0.035\n",
      "Model:                            WLS   Adj. R-squared:                  0.035\n",
      "Method:                 Least Squares   F-statistic:                     3405.\n",
      "Date:                Sun, 31 May 2020   Prob (F-statistic):               0.00\n",
      "Time:                        13:28:36   Log-Likelihood:            -5.3763e+06\n",
      "No. Observations:             1031956   AIC:                         1.075e+07\n",
      "Df Residuals:                 1031944   BIC:                         1.075e+07\n",
      "Df Model:                          11                                         \n",
      "Covariance Type:            nonrobust                                         \n",
      "=========================================================================================\n",
      "                            coef    std err          t      P>|t|      [0.025      0.975]\n",
      "-----------------------------------------------------------------------------------------\n",
      "apr2020_has_k5_female    -1.9386      0.774     -2.506      0.012      -3.455      -0.422\n",
      "apr2020_female            1.1586      0.521      2.224      0.026       0.137       2.180\n",
      "has_k5_female           -11.5205      0.163    -70.883      0.000     -11.839     -11.202\n",
      "apr2020_has_k5            1.6954      0.556      3.051      0.002       0.606       2.785\n",
      "apr2020                 -11.9916      0.361    -33.175      0.000     -12.700     -11.283\n",
      "has_k5                    6.9978      0.125     55.899      0.000       6.752       7.243\n",
      "days_since_2000           0.0016      0.000      7.949      0.000       0.001       0.002\n",
      "female                   -7.4546      0.109    -68.171      0.000      -7.669      -7.240\n",
      "age                       1.0883      0.048     22.651      0.000       0.994       1.182\n",
      "age2                     -0.0149      0.001    -24.831      0.000      -0.016      -0.014\n",
      "married                   2.6397      0.086     30.671      0.000       2.471       2.808\n",
      "const                    51.9985      1.708     30.445      0.000      48.651      55.346\n",
      "==============================================================================\n",
      "Omnibus:                   244374.666   Durbin-Watson:                   1.906\n",
      "Prob(Omnibus):                  0.000   Jarque-Bera (JB):           458304.536\n",
      "Skew:                          -1.546   Prob(JB):                         0.00\n",
      "Kurtosis:                       4.050   Cond. No.                     3.17e+05\n",
      "==============================================================================\n",
      "\n",
      "Warnings:\n",
      "[1] Standard Errors assume that the covariance matrix of the errors is correctly specified.\n",
      "[2] The condition number is large, 3.17e+05. This might indicate that there are\n",
      "strong multicollinearity or other numerical problems.\n",
      "                            WLS Regression Results                            \n",
      "==============================================================================\n",
      "Dep. Variable:                  hours   R-squared:                       0.045\n",
      "Model:                            WLS   Adj. R-squared:                  0.045\n",
      "Method:                 Least Squares   F-statistic:                     3390.\n",
      "Date:                Sun, 31 May 2020   Prob (F-statistic):               0.00\n",
      "Time:                        13:28:37   Log-Likelihood:            -3.1574e+06\n",
      "No. Observations:              795760   AIC:                         6.315e+06\n",
      "Df Residuals:                  795748   BIC:                         6.315e+06\n",
      "Df Model:                          11                                         \n",
      "Covariance Type:            nonrobust                                         \n",
      "=========================================================================================\n",
      "                            coef    std err          t      P>|t|      [0.025      0.975]\n",
      "-----------------------------------------------------------------------------------------\n",
      "apr2020_has_k5_female     0.1159      0.277      0.419      0.675      -0.426       0.658\n",
      "apr2020_female            0.6970      0.188      3.700      0.000       0.328       1.066\n",
      "has_k5_female            -2.9458      0.053    -55.565      0.000      -3.050      -2.842\n",
      "apr2020_has_k5           -0.1649      0.188     -0.878      0.380      -0.533       0.203\n",
      "apr2020                  -2.2013      0.127    -17.383      0.000      -2.450      -1.953\n",
      "has_k5                    1.0286      0.039     26.240      0.000       0.952       1.105\n",
      "days_since_2000        8.325e-05   6.74e-05      1.235      0.217   -4.89e-05       0.000\n",
      "female                   -3.1471      0.036    -87.429      0.000      -3.218      -3.077\n",
      "age                       0.3757      0.016     23.605      0.000       0.344       0.407\n",
      "age2                     -0.0040      0.000    -19.905      0.000      -0.004      -0.004\n",
      "married                   0.1634      0.028      5.746      0.000       0.108       0.219\n",
      "const                    33.2429      0.561     59.285      0.000      32.144      34.342\n",
      "==============================================================================\n",
      "Omnibus:                   133915.872   Durbin-Watson:                   1.911\n",
      "Prob(Omnibus):                  0.000   Jarque-Bera (JB):          1685522.877\n",
      "Skew:                           0.427   Prob(JB):                         0.00\n",
      "Kurtosis:                      10.079   Cond. No.                     3.17e+05\n",
      "==============================================================================\n",
      "\n",
      "Warnings:\n",
      "[1] Standard Errors assume that the covariance matrix of the errors is correctly specified.\n",
      "[2] The condition number is large, 3.17e+05. This might indicate that there are\n",
      "strong multicollinearity or other numerical problems.\n",
      "                            WLS Regression Results                            \n",
      "==============================================================================\n",
      "Dep. Variable:                    lwe   R-squared:                       0.077\n",
      "Model:                            WLS   Adj. R-squared:                  0.077\n",
      "Method:                 Least Squares   F-statistic:                     1448.\n",
      "Date:                Sun, 31 May 2020   Prob (F-statistic):               0.00\n",
      "Time:                        13:28:37   Log-Likelihood:            -2.2496e+05\n",
      "No. Observations:              189752   AIC:                         4.500e+05\n",
      "Df Residuals:                  189740   BIC:                         4.501e+05\n",
      "Df Model:                          11                                         \n",
      "Covariance Type:            nonrobust                                         \n",
      "=========================================================================================\n",
      "                            coef    std err          t      P>|t|      [0.025      0.975]\n",
      "-----------------------------------------------------------------------------------------\n",
      "apr2020_has_k5_female     0.0139      0.034      0.405      0.686      -0.053       0.081\n",
      "apr2020_female            0.0024      0.023      0.104      0.917      -0.043       0.048\n",
      "has_k5_female            -0.2151      0.007    -31.930      0.000      -0.228      -0.202\n",
      "apr2020_has_k5            0.0019      0.024      0.078      0.938      -0.045       0.048\n",
      "apr2020                   0.0361      0.016      2.306      0.021       0.005       0.067\n",
      "has_k5                    0.0087      0.005      1.719      0.086      -0.001       0.019\n",
      "days_since_2000           0.0001   8.56e-06     15.619      0.000       0.000       0.000\n",
      "female                   -0.1608      0.005    -35.471      0.000      -0.170      -0.152\n",
      "age                       0.0775      0.002     38.470      0.000       0.074       0.081\n",
      "age2                     -0.0009   2.53e-05    -33.898      0.000      -0.001      -0.001\n",
      "married                   0.1680      0.004     46.668      0.000       0.161       0.175\n",
      "const                     4.1947      0.071     59.056      0.000       4.055       4.334\n",
      "==============================================================================\n",
      "Omnibus:                   109857.509   Durbin-Watson:                   1.813\n",
      "Prob(Omnibus):                  0.000   Jarque-Bera (JB):          4596965.772\n",
      "Skew:                          -2.149   Prob(JB):                         0.00\n",
      "Kurtosis:                      26.727   Cond. No.                     3.16e+05\n",
      "==============================================================================\n",
      "\n",
      "Warnings:\n",
      "[1] Standard Errors assume that the covariance matrix of the errors is correctly specified.\n",
      "[2] The condition number is large, 3.16e+05. This might indicate that there are\n",
      "strong multicollinearity or other numerical problems.\n"
     ]
    }
   ],
   "source": [
    "m_ddd = reg_all(cps_no_mar2020, DDD_COLS + CONTROLS)"
   ]
  },
  {
   "cell_type": "markdown",
   "metadata": {},
   "source": [
    "### Intensity DDD"
   ]
  },
  {
   "cell_type": "code",
   "execution_count": 21,
   "metadata": {},
   "outputs": [
    {
     "name": "stdout",
     "output_type": "stream",
     "text": [
      "                            WLS Regression Results                            \n",
      "==============================================================================\n",
      "Dep. Variable:                    emp   R-squared:                       0.034\n",
      "Model:                            WLS   Adj. R-squared:                  0.034\n",
      "Method:                 Least Squares   F-statistic:                     178.6\n",
      "Date:                Sun, 31 May 2020   Prob (F-statistic):           2.92e-87\n",
      "Time:                        13:28:38   Log-Likelihood:            -1.8823e+06\n",
      "No. Observations:              363768   AIC:                         3.765e+06\n",
      "Df Residuals:                  363756   BIC:                         3.765e+06\n",
      "Df Model:                          11                                         \n",
      "Covariance Type:              cluster                                         \n",
      "=========================================================================================\n",
      "                            coef    std err          z      P>|z|      [0.025      0.975]\n",
      "-----------------------------------------------------------------------------------------\n",
      "days_sc_has_k5_female    -0.0681      0.049     -1.399      0.162      -0.163       0.027\n",
      "days_sc_female            0.0469      0.037      1.265      0.206      -0.026       0.119\n",
      "has_k5_female           -11.8725      0.811    -14.641      0.000     -13.462     -10.283\n",
      "days_sc_has_k5            0.0642      0.040      1.624      0.104      -0.013       0.142\n",
      "days_sc                  -0.4189      0.034    -12.453      0.000      -0.485      -0.353\n",
      "has_k5                    6.7443      0.433     15.564      0.000       5.895       7.594\n",
      "days_since_2000           0.0016      0.001      2.416      0.016       0.000       0.003\n",
      "female                   -7.0811      0.412    -17.201      0.000      -7.888      -6.274\n",
      "age                       1.0527      0.182      5.782      0.000       0.696       1.410\n",
      "age2                     -0.0144      0.002     -6.301      0.000      -0.019      -0.010\n",
      "married                   1.6153      0.536      3.011      0.003       0.564       2.667\n",
      "const                    54.3470      5.160     10.533      0.000      44.234      64.460\n",
      "==============================================================================\n",
      "Omnibus:                    88691.907   Durbin-Watson:                   1.908\n",
      "Prob(Omnibus):                  0.000   Jarque-Bera (JB):           169090.831\n",
      "Skew:                          -1.583   Prob(JB):                         0.00\n",
      "Kurtosis:                       4.064   Cond. No.                     3.08e+05\n",
      "==============================================================================\n",
      "\n",
      "Warnings:\n",
      "[1] Standard Errors are robust to cluster correlation (cluster)\n",
      "[2] The condition number is large, 3.08e+05. This might indicate that there are\n",
      "strong multicollinearity or other numerical problems.\n",
      "                            WLS Regression Results                            \n",
      "==============================================================================\n",
      "Dep. Variable:                  hours   R-squared:                       0.040\n",
      "Model:                            WLS   Adj. R-squared:                  0.040\n",
      "Method:                 Least Squares   F-statistic:                     148.0\n",
      "Date:                Sun, 31 May 2020   Prob (F-statistic):           5.93e-81\n",
      "Time:                        13:28:38   Log-Likelihood:            -1.1114e+06\n",
      "No. Observations:              283593   AIC:                         2.223e+06\n",
      "Df Residuals:                  283581   BIC:                         2.223e+06\n",
      "Df Model:                          11                                         \n",
      "Covariance Type:              cluster                                         \n",
      "=========================================================================================\n",
      "                            coef    std err          z      P>|z|      [0.025      0.975]\n",
      "-----------------------------------------------------------------------------------------\n",
      "days_sc_has_k5_female     0.0313      0.016      1.930      0.054      -0.000       0.063\n",
      "days_sc_female            0.0039      0.012      0.320      0.749      -0.020       0.028\n",
      "has_k5_female            -2.9041      0.191    -15.177      0.000      -3.279      -2.529\n",
      "days_sc_has_k5           -0.0249      0.012     -2.118      0.034      -0.048      -0.002\n",
      "days_sc                  -0.0497      0.009     -5.567      0.000      -0.067      -0.032\n",
      "has_k5                    0.8491      0.135      6.278      0.000       0.584       1.114\n",
      "days_since_2000           0.0001      0.000      0.738      0.461      -0.000       0.000\n",
      "female                   -2.7872      0.116    -23.954      0.000      -3.015      -2.559\n",
      "age                       0.4570      0.051      8.901      0.000       0.356       0.558\n",
      "age2                     -0.0050      0.001     -7.780      0.000      -0.006      -0.004\n",
      "married                  -0.0198      0.106     -0.186      0.853      -0.228       0.189\n",
      "const                    31.2629      1.338     23.357      0.000      28.640      33.886\n",
      "==============================================================================\n",
      "Omnibus:                    44061.150   Durbin-Watson:                   1.903\n",
      "Prob(Omnibus):                  0.000   Jarque-Bera (JB):           554507.073\n",
      "Skew:                           0.342   Prob(JB):                         0.00\n",
      "Kurtosis:                       9.816   Cond. No.                     3.08e+05\n",
      "==============================================================================\n",
      "\n",
      "Warnings:\n",
      "[1] Standard Errors are robust to cluster correlation (cluster)\n",
      "[2] The condition number is large, 3.08e+05. This might indicate that there are\n",
      "strong multicollinearity or other numerical problems.\n",
      "                            WLS Regression Results                            \n",
      "==============================================================================\n",
      "Dep. Variable:                    lwe   R-squared:                       0.074\n",
      "Model:                            WLS   Adj. R-squared:                  0.073\n",
      "Method:                 Least Squares   F-statistic:                     205.2\n",
      "Date:                Sun, 31 May 2020   Prob (F-statistic):           5.40e-92\n",
      "Time:                        13:28:38   Log-Likelihood:                -79835.\n",
      "No. Observations:               68086   AIC:                         1.597e+05\n",
      "Df Residuals:                   68074   BIC:                         1.598e+05\n",
      "Df Model:                          11                                         \n",
      "Covariance Type:              cluster                                         \n",
      "=========================================================================================\n",
      "                            coef    std err          z      P>|z|      [0.025      0.975]\n",
      "-----------------------------------------------------------------------------------------\n",
      "days_sc_has_k5_female -5.116e-05      0.002     -0.027      0.979      -0.004       0.004\n",
      "days_sc_female            0.0007      0.001      0.542      0.588      -0.002       0.003\n",
      "has_k5_female            -0.2417      0.015    -16.295      0.000      -0.271      -0.213\n",
      "days_sc_has_k5            0.0003      0.002      0.192      0.848      -0.003       0.003\n",
      "days_sc                   0.0007      0.001      0.709      0.478      -0.001       0.003\n",
      "has_k5                   -0.0102      0.016     -0.646      0.518      -0.041       0.021\n",
      "days_since_2000           0.0002   1.77e-05      8.763      0.000       0.000       0.000\n",
      "female                   -0.1277      0.011    -11.976      0.000      -0.149      -0.107\n",
      "age                       0.0835      0.005     17.764      0.000       0.074       0.093\n",
      "age2                     -0.0009   5.81e-05    -15.891      0.000      -0.001      -0.001\n",
      "married                   0.1563      0.008     18.462      0.000       0.140       0.173\n",
      "const                     3.9726      0.166     23.968      0.000       3.648       4.297\n",
      "==============================================================================\n",
      "Omnibus:                    33761.553   Durbin-Watson:                   1.803\n",
      "Prob(Omnibus):                  0.000   Jarque-Bera (JB):           902205.140\n",
      "Skew:                          -1.835   Prob(JB):                         0.00\n",
      "Kurtosis:                      20.452   Cond. No.                     3.07e+05\n",
      "==============================================================================\n",
      "\n",
      "Warnings:\n",
      "[1] Standard Errors are robust to cluster correlation (cluster)\n",
      "[2] The condition number is large, 3.07e+05. This might indicate that there are\n",
      "strong multicollinearity or other numerical problems.\n"
     ]
    }
   ],
   "source": [
    "m_intensity_ddd = reg_all(cps, DDD_REG_COLS + CONTROLS, True)"
   ]
  },
  {
   "cell_type": "markdown",
   "metadata": {},
   "source": [
    "## Create TeX tables"
   ]
  },
  {
   "cell_type": "code",
   "execution_count": 22,
   "metadata": {},
   "outputs": [
    {
     "data": {
      "text/plain": [
       "['days_since_2000', 'female', 'age', 'age2', 'married']"
      ]
     },
     "execution_count": 22,
     "metadata": {},
     "output_type": "execute_result"
    }
   ],
   "source": [
    "CONTROLS"
   ]
  },
  {
   "cell_type": "code",
   "execution_count": 23,
   "metadata": {},
   "outputs": [],
   "source": [
    "COV_NAMES = {\n",
    "    'apr2020_has_k5': 'April 2020 * Children age 5+',\n",
    "    'apr2020': 'April 2020',\n",
    "    'has_k5': 'Children age 5+',\n",
    "    'const': 'Constant',\n",
    "    'apr2020_has_k5_female': 'April 2020 * Children age 5+ * Female',\n",
    "    'apr2020_female': 'April 2020 * Female',\n",
    "    'has_k5_female': 'Children age 5+ * Female',\n",
    "    'days_sc_has_k5_female':\n",
    "        'Days since school closure * Children age 5+ * Female',\n",
    "    'days_sc_has_k5': 'Days since school closure * Children age 5+',\n",
    "    'days_sc_has_k5': 'Days since school closure * Children age 5+',\n",
    "    'days_sc': 'Days since school closure',\n",
    "    'days_since_2000': 'Time (days since 2000-01-01)',\n",
    "    'female': 'Female',\n",
    "    'age': 'Age',\n",
    "    'age2': 'Age^2',\n",
    "    'married': 'Married'\n",
    "}"
   ]
  },
  {
   "cell_type": "code",
   "execution_count": 29,
   "metadata": {},
   "outputs": [],
   "source": [
    "OUTCOME_NAMES = ['Employment', 'Hours', 'Log earnings']"
   ]
  },
  {
   "cell_type": "code",
   "execution_count": 24,
   "metadata": {},
   "outputs": [],
   "source": [
    "def sg(models, covariate_order, column_names, tex_out, quiet=False):\n",
    "    \"\"\" Performs common operations on Stargazer objects:\n",
    "        - Renames covariates\n",
    "        - Removes stars\n",
    "        - Removes degrees of freedom\n",
    "        \n",
    "    Args:\n",
    "        models: List of models.\n",
    "        covariate_order: List passed to Stargazer.covariate_order.\n",
    "        column_names: List passed to Stargazer.custom_columns.\n",
    "        tex_out: File to export tex to, in tex/ folder.\n",
    "        quiet: Whether to suppress \n",
    "    \"\"\"\n",
    "    sg.rename_covariates(COV_NAMES)\n",
    "    sg.significance_levels([1e-999, 1e-999, 1e-999])\n",
    "    sg.append_notes(False)\n",
    "    sg.show_degrees_of_freedom(False)\n",
    "    if three_outcomes:\n",
    "        sg.custom_columns(, [1, 1, 1])"
   ]
  },
  {
   "cell_type": "code",
   "execution_count": 25,
   "metadata": {},
   "outputs": [],
   "source": [
    "s_dd0 = Stargazer([m_dd0['emp'], m_dd0['hours'], m_dd0['lwe']])\n",
    "s_dd0.covariate_order(DD_COLS + ['const'])\n",
    "sg_common(s_dd0, True)\n",
    "HTML(s_dd0.render_html())"
   ]
  },
  {
   "cell_type": "code",
   "execution_count": 33,
   "metadata": {},
   "outputs": [],
   "source": [
    "f = open(\"dd0.tex\", \"w\")\n",
    "f.write(s_dd0.render_latex())\n",
    "f.close()"
   ]
  },
  {
   "cell_type": "code",
   "execution_count": 32,
   "metadata": {},
   "outputs": [
    {
     "data": {
      "text/plain": [
       "'\\\\begin{table}[!htbp] \\\\centering\\n  \\\\label{}\\n\\\\begin{tabular}{@{\\\\extracolsep{5pt}}lcc}\\n\\\\\\\\[-1.8ex]\\\\hline\\n\\\\hline \\\\\\\\[-1.8ex]\\n\\\\\\\\[-1.8ex] & \\\\multicolumn{1}{c}{Employment} & \\\\multicolumn{1}{c}{Hours} & \\\\multicolumn{1}{c}{Log earnings}  \\\\\\\\\\n\\\\\\\\[-1.8ex] & (1) & (2) & (3) \\\\\\\\\\n\\\\hline \\\\\\\\[-1.8ex]\\n April 2020 * Children age 5+ & 1.118$^{}$ & 0.095$^{}$ & -0.021$^{}$ \\\\\\\\\\n  & (0.606) & (0.198) & (0.024) \\\\\\\\\\n  & & & \\\\\\\\\\n April 2020 & -11.173$^{}$ & -1.643$^{}$ & 0.055$^{}$ \\\\\\\\\\n  & (0.408) & (0.134) & (0.016) \\\\\\\\\\n  & & & \\\\\\\\\\n Children age 5+ & 0.277$^{}$ & -0.192$^{}$ & 0.064$^{}$ \\\\\\\\\\n  & (0.429) & (0.133) & (0.016) \\\\\\\\\\n  & & & \\\\\\\\\\n Constant & 80.095$^{}$ & 40.426$^{}$ & 6.783$^{}$ \\\\\\\\\\n  & (0.288) & (0.089) & (0.011) \\\\\\\\\\n  & & & \\\\\\\\\\n\\\\hline \\\\\\\\[-1.8ex]\\n Observations & 81467.0 & 59107.0 & 14642.0 \\\\\\\\\\n R${2}$ & 0.015 & 0.004 & 0.002 \\\\\\\\\\n Adjusted R${2}$ & 0.015 & 0.004 & 0.002 \\\\\\\\\\n Residual Std. Error & 2393.309 & 655.855 & 39.232  \\\\\\\\\\n F Statistic & 420.388$^{}$  & 88.969$^{}$  & 12.028$^{}$  \\\\\\\\\\n\\\\hline\\n\\\\hline \\\\\\\\[-1.8ex]\\n\\\\textit{Note:}\\\\end{tabular}\\n\\\\end{table}'"
      ]
     },
     "execution_count": 32,
     "metadata": {},
     "output_type": "execute_result"
    }
   ],
   "source": [
    "s_dd0.render_latex()"
   ]
  },
  {
   "cell_type": "code",
   "execution_count": 27,
   "metadata": {},
   "outputs": [
    {
     "data": {
      "text/html": [
       "<table style=\"text-align:center\"><tr><td colspan=\"4\" style=\"border-bottom: 1px solid black\"></td></tr><tr><td style=\"text-align:left\"></td><td colspan=\"3\"><em>Dependent variable:emp</em></td></tr><tr><td style=\"text-align:left\"></td><tr><td></td><td colspan=\"1\">Two-period</td><td colspan=\"1\">Full series ex Mar2020</td><td colspan=\"1\">Full series ex Mar2020 + controls</td></tr><tr><td style=\"text-align:left\"></td><td>(1)</td><td>(2)</td><td>(3)</td></tr><tr><td colspan=\"4\" style=\"border-bottom: 1px solid black\"></td></tr><tr><td style=\"text-align:left\">April 2020 * Children age 5+</td><td>1.118<sup></sup></td><td>0.844<sup></sup></td><td>0.706<sup></sup></td></tr><tr><td style=\"text-align:left\"></td><td>(0.606)</td><td>(0.391)</td><td>(0.385)</td></tr><tr><td style=\"text-align:left\">April 2020</td><td>-11.173<sup></sup></td><td>-10.83<sup></sup></td><td>-11.438<sup></sup></td></tr><tr><td style=\"text-align:left\"></td><td>(0.408)</td><td>(0.264)</td><td>(0.272)</td></tr><tr><td style=\"text-align:left\">Children age 5+</td><td>0.277<sup></sup></td><td>0.551<sup></sup></td><td>0.78<sup></sup></td></tr><tr><td style=\"text-align:left\"></td><td>(0.429)</td><td>(0.081)</td><td>(0.09)</td></tr><tr><td style=\"text-align:left\">Constant</td><td>80.095<sup></sup></td><td>79.752<sup></sup></td><td>55.816<sup></sup></td></tr><tr><td style=\"text-align:left\"></td><td>(0.288)</td><td>(0.055)</td><td>(1.712)</td></tr><td colspan=\"4\" style=\"border-bottom: 1px solid black\"></td></tr><tr><td style=\"text-align: left\">Observations</td><td>81467.0</td><td>1031956.0</td><td>1031956.0</td></tr><tr><td style=\"text-align: left\">R<sup>2</sup></td><td>0.015</td><td>0.003</td><td>0.03</td></tr><tr><td style=\"text-align: left\">Adjusted R<sup>2</sup></td><td>0.015</td><td>0.003</td><td>0.03</td></tr><tr><td style=\"text-align: left\">Residual Std. Error</td><td>2393.309</td><td>2137.056</td><td>2107.719</td></tr><tr><td style=\"text-align: left\">F Statistic</td><td>420.388<sup></sup></td><td>980.073<sup></sup></td><td>3994.316<sup></sup></td></tr><tr><td colspan=\"4\" style=\"border-bottom: 1px solid black\"></td></tr><tr><td style=\"text-align: left\">Note:</td></tr></table>"
      ],
      "text/plain": [
       "<IPython.core.display.HTML object>"
      ]
     },
     "execution_count": 27,
     "metadata": {},
     "output_type": "execute_result"
    }
   ],
   "source": [
    "s_emp = Stargazer([m_dd0['emp'], m_no_mar2020['emp'],\n",
    "                   m_no_mar2020_controls['emp']])\n",
    "s_emp.custom_columns(['Two-period', 'Full series ex Mar2020',\n",
    "                      'Full series ex Mar2020 + controls'],\n",
    "                     [1, 1, 1])\n",
    "s_emp.covariate_order(DD_COLS + ['const'])\n",
    "# s_emp.dependent_variable_name('Employment')  # Broken.\n",
    "sg_common(s_emp)\n",
    "HTML(s_emp.render_html())"
   ]
  },
  {
   "cell_type": "code",
   "execution_count": 28,
   "metadata": {},
   "outputs": [
    {
     "data": {
      "text/html": [
       "<table style=\"text-align:center\"><tr><td colspan=\"4\" style=\"border-bottom: 1px solid black\"></td></tr><tr><td style=\"text-align:left\"></td><tr><td></td><td colspan=\"1\">Employment</td><td colspan=\"1\">Hours</td><td colspan=\"1\">Log earnings</td></tr><tr><td style=\"text-align:left\"></td><td>(1)</td><td>(2)</td><td>(3)</td></tr><tr><td colspan=\"4\" style=\"border-bottom: 1px solid black\"></td></tr><tr><td style=\"text-align:left\">Days since school closure * Children age 5+</td><td>0.031<sup></sup></td><td>-0.009<sup></sup></td><td>0.0<sup></sup></td></tr><tr><td style=\"text-align:left\"></td><td>(0.035)</td><td>(0.009)</td><td>(0.001)</td></tr><tr><td style=\"text-align:left\">Days since school closure</td><td>-0.397<sup></sup></td><td>-0.048<sup></sup></td><td>0.001<sup></sup></td></tr><tr><td style=\"text-align:left\"></td><td>(0.031)</td><td>(0.007)</td><td>(0.001)</td></tr><tr><td style=\"text-align:left\">Children age 5+</td><td>0.265<sup></sup></td><td>-0.589<sup></sup></td><td>-0.134<sup></sup></td></tr><tr><td style=\"text-align:left\"></td><td>(0.41)</td><td>(0.118)</td><td>(0.015)</td></tr><tr><td style=\"text-align:left\">Constant</td><td>58.753<sup></sup></td><td>32.421<sup></sup></td><td>4.068<sup></sup></td></tr><tr><td style=\"text-align:left\"></td><td>(5.221)</td><td>(1.332)</td><td>(0.166)</td></tr><td colspan=\"4\" style=\"border-bottom: 1px solid black\"></td></tr><tr><td style=\"text-align: left\">Observations</td><td>363768.0</td><td>283593.0</td><td>68086.0</td></tr><tr><td style=\"text-align: left\">R<sup>2</sup></td><td>0.029</td><td>0.036</td><td>0.067</td></tr><tr><td style=\"text-align: left\">Adjusted R<sup>2</sup></td><td>0.029</td><td>0.036</td><td>0.067</td></tr><tr><td style=\"text-align: left\">Residual Std. Error</td><td>2204.81</td><td>624.751</td><td>39.615</td></tr><tr><td style=\"text-align: left\">F Statistic</td><td>[[213.477]]<sup></sup></td><td>[[163.926]]<sup></sup></td><td>[[226.382]]<sup></sup></td></tr><tr><td colspan=\"4\" style=\"border-bottom: 1px solid black\"></td></tr><tr><td style=\"text-align: left\">Note:</td></tr></table>"
      ],
      "text/plain": [
       "<IPython.core.display.HTML object>"
      ]
     },
     "execution_count": 28,
     "metadata": {},
     "output_type": "execute_result"
    }
   ],
   "source": [
    "s_intensity = Stargazer([m_intensity['emp'], m_intensity['hours'],\n",
    "                         m_intensity['lwe']])\n",
    "s_intensity.covariate_order(DD_REG_COLS + ['const'])\n",
    "sg_common(s_intensity, True)\n",
    "HTML(s_intensity.render_html())"
   ]
  },
  {
   "cell_type": "code",
   "execution_count": null,
   "metadata": {},
   "outputs": [],
   "source": []
  }
 ],
 "metadata": {
  "kernelspec": {
   "display_name": "Python 3",
   "language": "python",
   "name": "python3"
  },
  "language_info": {
   "codemirror_mode": {
    "name": "ipython",
    "version": 3
   },
   "file_extension": ".py",
   "mimetype": "text/x-python",
   "name": "python",
   "nbconvert_exporter": "python",
   "pygments_lexer": "ipython3",
   "version": "3.7.7"
  }
 },
 "nbformat": 4,
 "nbformat_minor": 4
}
