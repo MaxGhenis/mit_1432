{
 "cells": [
  {
   "cell_type": "markdown",
   "metadata": {},
   "source": [
    "# 14.32 final paper - step 2, exploratory\n",
    "\n",
    "## Setup"
   ]
  },
  {
   "cell_type": "code",
   "execution_count": 1,
   "metadata": {},
   "outputs": [],
   "source": [
    "import pandas as pd\n",
    "import numpy as np\n",
    "import microdf as mdf\n",
    "import matplotlib as mpl\n",
    "import matplotlib.pyplot as plt"
   ]
  },
  {
   "cell_type": "code",
   "execution_count": 2,
   "metadata": {},
   "outputs": [],
   "source": [
    "mdf.set_plot_style()"
   ]
  },
  {
   "cell_type": "markdown",
   "metadata": {},
   "source": [
    "## Load"
   ]
  },
  {
   "cell_type": "code",
   "execution_count": 3,
   "metadata": {},
   "outputs": [
    {
     "name": "stderr",
     "output_type": "stream",
     "text": [
      "/home/mghenis/anaconda3/lib/python3.7/site-packages/IPython/core/interactiveshell.py:3063: DtypeWarning: Columns (5) have mixed types.Specify dtype option on import or set low_memory=False.\n",
      "  interactivity=interactivity, compiler=compiler, result=result)\n"
     ]
    }
   ],
   "source": [
    "county = pd.read_csv('data/county.csv')\n",
    "county_date = pd.read_csv('data/county_date.csv')"
   ]
  },
  {
   "cell_type": "code",
   "execution_count": 4,
   "metadata": {},
   "outputs": [],
   "source": [
    "closures_raw = pd.read_csv('https://github.com/Keystone-Strategy/covid19-intervention-data/raw/master/complete_npis_inherited_policies.csv')"
   ]
  },
  {
   "cell_type": "markdown",
   "metadata": {},
   "source": [
    "## Checks"
   ]
  },
  {
   "cell_type": "code",
   "execution_count": 5,
   "metadata": {},
   "outputs": [
    {
     "data": {
      "text/html": [
       "<div>\n",
       "<style scoped>\n",
       "    .dataframe tbody tr th:only-of-type {\n",
       "        vertical-align: middle;\n",
       "    }\n",
       "\n",
       "    .dataframe tbody tr th {\n",
       "        vertical-align: top;\n",
       "    }\n",
       "\n",
       "    .dataframe thead th {\n",
       "        text-align: right;\n",
       "    }\n",
       "</style>\n",
       "<table border=\"1\" class=\"dataframe\">\n",
       "  <thead>\n",
       "    <tr style=\"text-align: right;\">\n",
       "      <th></th>\n",
       "      <th>fip_code</th>\n",
       "      <th>county</th>\n",
       "      <th>state</th>\n",
       "      <th>npi</th>\n",
       "      <th>start_date</th>\n",
       "      <th>end_date</th>\n",
       "      <th>citation</th>\n",
       "      <th>note</th>\n",
       "    </tr>\n",
       "  </thead>\n",
       "  <tbody>\n",
       "    <tr>\n",
       "      <th>307</th>\n",
       "      <td>31</td>\n",
       "      <td>NaN</td>\n",
       "      <td>Nebraska</td>\n",
       "      <td>school_closure</td>\n",
       "      <td>2020-04-03</td>\n",
       "      <td>NaN</td>\n",
       "      <td>http://dhhs.ne.gov/Pages/Gov-Ricketts-Announce...</td>\n",
       "      <td>NaN</td>\n",
       "    </tr>\n",
       "    <tr>\n",
       "      <th>214</th>\n",
       "      <td>23</td>\n",
       "      <td>NaN</td>\n",
       "      <td>Maine</td>\n",
       "      <td>school_closure</td>\n",
       "      <td>2020-04-02</td>\n",
       "      <td>NaN</td>\n",
       "      <td>https://www.maine.gov/governor/mills/sites/mai...</td>\n",
       "      <td>*this is the only official order signifying sc...</td>\n",
       "    </tr>\n",
       "    <tr>\n",
       "      <th>2077</th>\n",
       "      <td>23031</td>\n",
       "      <td>York</td>\n",
       "      <td>Maine</td>\n",
       "      <td>school_closure</td>\n",
       "      <td>2020-04-02</td>\n",
       "      <td>NaN</td>\n",
       "      <td>https://www.maine.gov/governor/mills/sites/mai...</td>\n",
       "      <td>*this is the only official order signifying sc...</td>\n",
       "    </tr>\n",
       "    <tr>\n",
       "      <th>2066</th>\n",
       "      <td>23005</td>\n",
       "      <td>Cumberland</td>\n",
       "      <td>Maine</td>\n",
       "      <td>school_closure</td>\n",
       "      <td>2020-04-02</td>\n",
       "      <td>NaN</td>\n",
       "      <td>https://www.maine.gov/governor/mills/sites/mai...</td>\n",
       "      <td>*this is the only official order signifying sc...</td>\n",
       "    </tr>\n",
       "    <tr>\n",
       "      <th>1164</th>\n",
       "      <td>10003</td>\n",
       "      <td>New Castle</td>\n",
       "      <td>Delaware</td>\n",
       "      <td>school_closure</td>\n",
       "      <td>2020-03-23</td>\n",
       "      <td>NaN</td>\n",
       "      <td>https://news.delaware.gov/2020/03/23/governor-...</td>\n",
       "      <td>NaN</td>\n",
       "    </tr>\n",
       "    <tr>\n",
       "      <th>...</th>\n",
       "      <td>...</td>\n",
       "      <td>...</td>\n",
       "      <td>...</td>\n",
       "      <td>...</td>\n",
       "      <td>...</td>\n",
       "      <td>...</td>\n",
       "      <td>...</td>\n",
       "      <td>...</td>\n",
       "    </tr>\n",
       "    <tr>\n",
       "      <th>1769</th>\n",
       "      <td>19113</td>\n",
       "      <td>Linn</td>\n",
       "      <td>Iowa</td>\n",
       "      <td>school_closure</td>\n",
       "      <td>2020-03-12</td>\n",
       "      <td>NaN</td>\n",
       "      <td>https://www.thegazette.com/subject/news/educat...</td>\n",
       "      <td>NaN</td>\n",
       "    </tr>\n",
       "    <tr>\n",
       "      <th>4102</th>\n",
       "      <td>53033</td>\n",
       "      <td>King</td>\n",
       "      <td>Washington</td>\n",
       "      <td>school_closure</td>\n",
       "      <td>2020-03-12</td>\n",
       "      <td>NaN</td>\n",
       "      <td>https://www.seattletimes.com/educationlab/insl...</td>\n",
       "      <td>NaN</td>\n",
       "    </tr>\n",
       "    <tr>\n",
       "      <th>3662</th>\n",
       "      <td>47037</td>\n",
       "      <td>Davidson</td>\n",
       "      <td>Tennessee</td>\n",
       "      <td>school_closure</td>\n",
       "      <td>2020-03-12</td>\n",
       "      <td>NaN</td>\n",
       "      <td>https://www.tennessean.com/story/news/educatio...</td>\n",
       "      <td>NaN</td>\n",
       "    </tr>\n",
       "    <tr>\n",
       "      <th>3299</th>\n",
       "      <td>41047</td>\n",
       "      <td>Marion</td>\n",
       "      <td>Oregon</td>\n",
       "      <td>school_closure</td>\n",
       "      <td>2020-03-12</td>\n",
       "      <td>NaN</td>\n",
       "      <td>https://www.theindychannel.com/coronavirus/all...</td>\n",
       "      <td>NaN</td>\n",
       "    </tr>\n",
       "    <tr>\n",
       "      <th>4025</th>\n",
       "      <td>51107</td>\n",
       "      <td>Loudoun</td>\n",
       "      <td>Virginia</td>\n",
       "      <td>school_closure</td>\n",
       "      <td>2020-03-12</td>\n",
       "      <td>NaN</td>\n",
       "      <td>https://www.loudountimes.com/news/updateloudou...</td>\n",
       "      <td>NaN</td>\n",
       "    </tr>\n",
       "  </tbody>\n",
       "</table>\n",
       "<p>384 rows × 8 columns</p>\n",
       "</div>"
      ],
      "text/plain": [
       "      fip_code      county       state             npi  start_date  end_date  \\\n",
       "307         31         NaN    Nebraska  school_closure  2020-04-03       NaN   \n",
       "214         23         NaN       Maine  school_closure  2020-04-02       NaN   \n",
       "2077     23031        York       Maine  school_closure  2020-04-02       NaN   \n",
       "2066     23005  Cumberland       Maine  school_closure  2020-04-02       NaN   \n",
       "1164     10003  New Castle    Delaware  school_closure  2020-03-23       NaN   \n",
       "...        ...         ...         ...             ...         ...       ...   \n",
       "1769     19113        Linn        Iowa  school_closure  2020-03-12       NaN   \n",
       "4102     53033        King  Washington  school_closure  2020-03-12       NaN   \n",
       "3662     47037    Davidson   Tennessee  school_closure  2020-03-12       NaN   \n",
       "3299     41047      Marion      Oregon  school_closure  2020-03-12       NaN   \n",
       "4025     51107     Loudoun    Virginia  school_closure  2020-03-12       NaN   \n",
       "\n",
       "                                               citation  \\\n",
       "307   http://dhhs.ne.gov/Pages/Gov-Ricketts-Announce...   \n",
       "214   https://www.maine.gov/governor/mills/sites/mai...   \n",
       "2077  https://www.maine.gov/governor/mills/sites/mai...   \n",
       "2066  https://www.maine.gov/governor/mills/sites/mai...   \n",
       "1164  https://news.delaware.gov/2020/03/23/governor-...   \n",
       "...                                                 ...   \n",
       "1769  https://www.thegazette.com/subject/news/educat...   \n",
       "4102  https://www.seattletimes.com/educationlab/insl...   \n",
       "3662  https://www.tennessean.com/story/news/educatio...   \n",
       "3299  https://www.theindychannel.com/coronavirus/all...   \n",
       "4025  https://www.loudountimes.com/news/updateloudou...   \n",
       "\n",
       "                                                   note  \n",
       "307                                                 NaN  \n",
       "214   *this is the only official order signifying sc...  \n",
       "2077  *this is the only official order signifying sc...  \n",
       "2066  *this is the only official order signifying sc...  \n",
       "1164                                                NaN  \n",
       "...                                                 ...  \n",
       "1769                                                NaN  \n",
       "4102                                                NaN  \n",
       "3662                                                NaN  \n",
       "3299                                                NaN  \n",
       "4025                                                NaN  \n",
       "\n",
       "[384 rows x 8 columns]"
      ]
     },
     "execution_count": 5,
     "metadata": {},
     "output_type": "execute_result"
    }
   ],
   "source": [
    "closures_raw[closures_raw.npi == 'school_closure'].sort_values(\n",
    "    'start_date', ascending=False)"
   ]
  },
  {
   "cell_type": "markdown",
   "metadata": {},
   "source": [
    "## Analysis\n",
    "\n",
    "### Time series plot\n",
    "\n",
    "Plot of time, March to April, with cumulative deaths per capita and population share\n",
    "with school closures, and shaded vertical areas for CPS survey weeks."
   ]
  },
  {
   "cell_type": "code",
   "execution_count": 6,
   "metadata": {},
   "outputs": [],
   "source": [
    "county_pop_cum = county.groupby('school_closure_date',\n",
    "                                sort=True).POPESTIMATE2019.sum().cumsum()"
   ]
  },
  {
   "cell_type": "code",
   "execution_count": 7,
   "metadata": {},
   "outputs": [
    {
     "name": "stdout",
     "output_type": "stream",
     "text": [
      "205 million people are in counties with known school closure dates.\n"
     ]
    }
   ],
   "source": [
    "school_closure_total_pop = county[\n",
    "    ~county.school_closure_date.isna()].POPESTIMATE2019.sum()\n",
    "print(str(int(round(school_closure_total_pop / 1e6))) + \n",
    "      ' million people are in counties with known school closure dates.')"
   ]
  },
  {
   "cell_type": "code",
   "execution_count": 8,
   "metadata": {},
   "outputs": [],
   "source": [
    "county_pop_cum = pd.DataFrame(county_pop_cum)\n",
    "county_pop_cum['pct_pop'] = (\n",
    "    county_pop_cum.POPESTIMATE2019 / school_closure_total_pop)"
   ]
  },
  {
   "cell_type": "markdown",
   "metadata": {},
   "source": [
    "Now calculate the per capita death rate over time over affected counties."
   ]
  },
  {
   "cell_type": "code",
   "execution_count": 9,
   "metadata": {},
   "outputs": [
    {
     "data": {
      "text/plain": [
       "Index(['date', 'fips', 'cases', 'deaths', 'POPESTIMATE2019',\n",
       "       'school_closure_date', 'cases_pc', 'deaths_pc', 'log_cases_pc',\n",
       "       'log_deaths_pc'],\n",
       "      dtype='object')"
      ]
     },
     "execution_count": 9,
     "metadata": {},
     "output_type": "execute_result"
    }
   ],
   "source": [
    "county_date.columns"
   ]
  },
  {
   "cell_type": "code",
   "execution_count": 10,
   "metadata": {},
   "outputs": [],
   "source": [
    "pc_death_trend = county_date[~county_date.school_closure_date.isna()].groupby(\n",
    "    'date').deaths.sum().loc[:'2020-04-30']  # Only go through April."
   ]
  },
  {
   "cell_type": "code",
   "execution_count": 11,
   "metadata": {},
   "outputs": [
    {
     "data": {
      "text/html": [
       "<div>\n",
       "<style scoped>\n",
       "    .dataframe tbody tr th:only-of-type {\n",
       "        vertical-align: middle;\n",
       "    }\n",
       "\n",
       "    .dataframe tbody tr th {\n",
       "        vertical-align: top;\n",
       "    }\n",
       "\n",
       "    .dataframe thead th {\n",
       "        text-align: right;\n",
       "    }\n",
       "</style>\n",
       "<table border=\"1\" class=\"dataframe\">\n",
       "  <thead>\n",
       "    <tr style=\"text-align: right;\">\n",
       "      <th></th>\n",
       "      <th>deaths</th>\n",
       "      <th>deaths_pc</th>\n",
       "    </tr>\n",
       "    <tr>\n",
       "      <th>date</th>\n",
       "      <th></th>\n",
       "      <th></th>\n",
       "    </tr>\n",
       "  </thead>\n",
       "  <tbody>\n",
       "    <tr>\n",
       "      <th>2020-03-01</th>\n",
       "      <td>3</td>\n",
       "      <td>0.014661</td>\n",
       "    </tr>\n",
       "    <tr>\n",
       "      <th>2020-03-02</th>\n",
       "      <td>6</td>\n",
       "      <td>0.029322</td>\n",
       "    </tr>\n",
       "    <tr>\n",
       "      <th>2020-03-03</th>\n",
       "      <td>10</td>\n",
       "      <td>0.048870</td>\n",
       "    </tr>\n",
       "    <tr>\n",
       "      <th>2020-03-04</th>\n",
       "      <td>12</td>\n",
       "      <td>0.058644</td>\n",
       "    </tr>\n",
       "    <tr>\n",
       "      <th>2020-03-05</th>\n",
       "      <td>12</td>\n",
       "      <td>0.058644</td>\n",
       "    </tr>\n",
       "    <tr>\n",
       "      <th>...</th>\n",
       "      <td>...</td>\n",
       "      <td>...</td>\n",
       "    </tr>\n",
       "    <tr>\n",
       "      <th>2020-04-26</th>\n",
       "      <td>33507</td>\n",
       "      <td>163.748370</td>\n",
       "    </tr>\n",
       "    <tr>\n",
       "      <th>2020-04-27</th>\n",
       "      <td>34567</td>\n",
       "      <td>168.928579</td>\n",
       "    </tr>\n",
       "    <tr>\n",
       "      <th>2020-04-28</th>\n",
       "      <td>36312</td>\n",
       "      <td>177.456376</td>\n",
       "    </tr>\n",
       "    <tr>\n",
       "      <th>2020-04-29</th>\n",
       "      <td>38199</td>\n",
       "      <td>186.678126</td>\n",
       "    </tr>\n",
       "    <tr>\n",
       "      <th>2020-04-30</th>\n",
       "      <td>39975</td>\n",
       "      <td>195.357420</td>\n",
       "    </tr>\n",
       "  </tbody>\n",
       "</table>\n",
       "<p>61 rows × 2 columns</p>\n",
       "</div>"
      ],
      "text/plain": [
       "            deaths   deaths_pc\n",
       "date                          \n",
       "2020-03-01       3    0.014661\n",
       "2020-03-02       6    0.029322\n",
       "2020-03-03      10    0.048870\n",
       "2020-03-04      12    0.058644\n",
       "2020-03-05      12    0.058644\n",
       "...            ...         ...\n",
       "2020-04-26   33507  163.748370\n",
       "2020-04-27   34567  168.928579\n",
       "2020-04-28   36312  177.456376\n",
       "2020-04-29   38199  186.678126\n",
       "2020-04-30   39975  195.357420\n",
       "\n",
       "[61 rows x 2 columns]"
      ]
     },
     "execution_count": 11,
     "metadata": {},
     "output_type": "execute_result"
    }
   ],
   "source": [
    "pc_death_trend = pd.DataFrame(pc_death_trend)\n",
    "pc_death_trend['deaths_pc'] = (\n",
    "    1e6 * pc_death_trend.deaths / school_closure_total_pop)\n",
    "pc_death_trend"
   ]
  },
  {
   "cell_type": "code",
   "execution_count": 12,
   "metadata": {},
   "outputs": [],
   "source": [
    "school_closure_death_trend = pc_death_trend.merge(\n",
    "    county_pop_cum, left_index=True, right_index=True, how='left')"
   ]
  },
  {
   "cell_type": "markdown",
   "metadata": {},
   "source": [
    "Set the first value to 0 and then fill down."
   ]
  },
  {
   "cell_type": "code",
   "execution_count": 13,
   "metadata": {},
   "outputs": [],
   "source": [
    "school_closure_death_trend.at['2020-03-01', 'pct_pop'] = 0"
   ]
  },
  {
   "cell_type": "code",
   "execution_count": 14,
   "metadata": {},
   "outputs": [],
   "source": [
    "school_closure_death_trend.pct_pop = school_closure_death_trend.pct_pop.ffill()"
   ]
  },
  {
   "cell_type": "code",
   "execution_count": 15,
   "metadata": {},
   "outputs": [
    {
     "data": {
      "text/html": [
       "<div>\n",
       "<style scoped>\n",
       "    .dataframe tbody tr th:only-of-type {\n",
       "        vertical-align: middle;\n",
       "    }\n",
       "\n",
       "    .dataframe tbody tr th {\n",
       "        vertical-align: top;\n",
       "    }\n",
       "\n",
       "    .dataframe thead th {\n",
       "        text-align: right;\n",
       "    }\n",
       "</style>\n",
       "<table border=\"1\" class=\"dataframe\">\n",
       "  <thead>\n",
       "    <tr style=\"text-align: right;\">\n",
       "      <th></th>\n",
       "      <th>deaths</th>\n",
       "      <th>deaths_pc</th>\n",
       "      <th>POPESTIMATE2019</th>\n",
       "      <th>pct_pop</th>\n",
       "    </tr>\n",
       "    <tr>\n",
       "      <th>date</th>\n",
       "      <th></th>\n",
       "      <th></th>\n",
       "      <th></th>\n",
       "      <th></th>\n",
       "    </tr>\n",
       "  </thead>\n",
       "  <tbody>\n",
       "    <tr>\n",
       "      <th>2020-03-01</th>\n",
       "      <td>3</td>\n",
       "      <td>0.014661</td>\n",
       "      <td>NaN</td>\n",
       "      <td>0.0</td>\n",
       "    </tr>\n",
       "    <tr>\n",
       "      <th>2020-03-02</th>\n",
       "      <td>6</td>\n",
       "      <td>0.029322</td>\n",
       "      <td>NaN</td>\n",
       "      <td>0.0</td>\n",
       "    </tr>\n",
       "    <tr>\n",
       "      <th>2020-03-03</th>\n",
       "      <td>10</td>\n",
       "      <td>0.048870</td>\n",
       "      <td>NaN</td>\n",
       "      <td>0.0</td>\n",
       "    </tr>\n",
       "    <tr>\n",
       "      <th>2020-03-04</th>\n",
       "      <td>12</td>\n",
       "      <td>0.058644</td>\n",
       "      <td>NaN</td>\n",
       "      <td>0.0</td>\n",
       "    </tr>\n",
       "    <tr>\n",
       "      <th>2020-03-05</th>\n",
       "      <td>12</td>\n",
       "      <td>0.058644</td>\n",
       "      <td>NaN</td>\n",
       "      <td>0.0</td>\n",
       "    </tr>\n",
       "    <tr>\n",
       "      <th>...</th>\n",
       "      <td>...</td>\n",
       "      <td>...</td>\n",
       "      <td>...</td>\n",
       "      <td>...</td>\n",
       "    </tr>\n",
       "    <tr>\n",
       "      <th>2020-04-26</th>\n",
       "      <td>33507</td>\n",
       "      <td>163.748370</td>\n",
       "      <td>NaN</td>\n",
       "      <td>1.0</td>\n",
       "    </tr>\n",
       "    <tr>\n",
       "      <th>2020-04-27</th>\n",
       "      <td>34567</td>\n",
       "      <td>168.928579</td>\n",
       "      <td>NaN</td>\n",
       "      <td>1.0</td>\n",
       "    </tr>\n",
       "    <tr>\n",
       "      <th>2020-04-28</th>\n",
       "      <td>36312</td>\n",
       "      <td>177.456376</td>\n",
       "      <td>NaN</td>\n",
       "      <td>1.0</td>\n",
       "    </tr>\n",
       "    <tr>\n",
       "      <th>2020-04-29</th>\n",
       "      <td>38199</td>\n",
       "      <td>186.678126</td>\n",
       "      <td>NaN</td>\n",
       "      <td>1.0</td>\n",
       "    </tr>\n",
       "    <tr>\n",
       "      <th>2020-04-30</th>\n",
       "      <td>39975</td>\n",
       "      <td>195.357420</td>\n",
       "      <td>NaN</td>\n",
       "      <td>1.0</td>\n",
       "    </tr>\n",
       "  </tbody>\n",
       "</table>\n",
       "<p>61 rows × 4 columns</p>\n",
       "</div>"
      ],
      "text/plain": [
       "            deaths   deaths_pc  POPESTIMATE2019  pct_pop\n",
       "date                                                    \n",
       "2020-03-01       3    0.014661              NaN      0.0\n",
       "2020-03-02       6    0.029322              NaN      0.0\n",
       "2020-03-03      10    0.048870              NaN      0.0\n",
       "2020-03-04      12    0.058644              NaN      0.0\n",
       "2020-03-05      12    0.058644              NaN      0.0\n",
       "...            ...         ...              ...      ...\n",
       "2020-04-26   33507  163.748370              NaN      1.0\n",
       "2020-04-27   34567  168.928579              NaN      1.0\n",
       "2020-04-28   36312  177.456376              NaN      1.0\n",
       "2020-04-29   38199  186.678126              NaN      1.0\n",
       "2020-04-30   39975  195.357420              NaN      1.0\n",
       "\n",
       "[61 rows x 4 columns]"
      ]
     },
     "execution_count": 15,
     "metadata": {},
     "output_type": "execute_result"
    }
   ],
   "source": [
    "school_closure_death_trend"
   ]
  },
  {
   "cell_type": "code",
   "execution_count": 16,
   "metadata": {},
   "outputs": [],
   "source": [
    "school_closure_death_trend['rel_deaths_pc'] = (\n",
    "    school_closure_death_trend.deaths_pc / \n",
    "    school_closure_death_trend.deaths_pc.tail(1).values[0]\n",
    ")"
   ]
  },
  {
   "cell_type": "code",
   "execution_count": 17,
   "metadata": {},
   "outputs": [],
   "source": [
    "school_closure_death_trend.index = pd.to_datetime(school_closure_death_trend.index)"
   ]
  },
  {
   "cell_type": "code",
   "execution_count": 18,
   "metadata": {},
   "outputs": [
    {
     "data": {
      "image/png": "[encoded data removed]",
      "text/plain": [
       "<Figure size 1280x960 with 2 Axes>"
      ]
     },
     "metadata": {},
     "output_type": "display_data"
    }
   ],
   "source": [
    "# Colors for distinguishing series in dual axis.\n",
    "c1 = 'tab:blue'\n",
    "c2 = 'tab:red'\n",
    "# Plot first series: population share in areas with schools closed.\n",
    "ax1 = school_closure_death_trend.pct_pop.plot(c=c1)\n",
    "ax1.yaxis.set_major_formatter(mpl.ticker.PercentFormatter(xmax=1))\n",
    "ax1.set_ylabel('Share of population with school closed', color=c1)\n",
    "ax1.tick_params(axis='y', colors=c1)\n",
    "ax1.set_xlabel('')\n",
    "# Shade CPS survey weeks.\n",
    "ax1.fill_betweenx(y=[0, 1], x1=pd.to_datetime('2020-03-08'), \n",
    "                  x2=pd.to_datetime('2020-03-14'), alpha=0.2, color='gray')\n",
    "ax1.fill_betweenx(y=[0, 1], x1=pd.to_datetime('2020-04-12'),\n",
    "                  x2=pd.to_datetime('2020-04-18'), alpha=0.2, color='gray')\n",
    "plt.text(pd.to_datetime('2020-03-11'), 0.67, 'March\\nCPS',\n",
    "         horizontalalignment='center', zorder=10, c='gray')\n",
    "plt.text(pd.to_datetime('2020-04-15'), 0.67, 'April\\nCPS',\n",
    "         horizontalalignment='center', zorder=10, c='gray')\n",
    "# Plot second series: Covid-19 deaths per capita (in counties w/ school data).\n",
    "ax2 = ax1.twinx()\n",
    "ax2.set_axisbelow(True)\n",
    "school_closure_death_trend.deaths_pc.plot(ax=ax2, c=c2)\n",
    "ax2.set_ylabel('Covid-19 deaths per million population', color=c2)\n",
    "ax2.tick_params(axis='y', colors=c2)\n",
    "plt.savefig('charts/timeline.png')\n",
    "plt.title('School closures and Covid-19 deaths, March-April 2020', loc='left')\n",
    "plt.show()"
   ]
  },
  {
   "cell_type": "code",
   "execution_count": 19,
   "metadata": {},
   "outputs": [
    {
     "data": {
      "text/plain": [
       "115160235"
      ]
     },
     "execution_count": 19,
     "metadata": {},
     "output_type": "execute_result"
    }
   ],
   "source": [
    "county_date[county_date.school_closure_date.isna() & (county_date.date == '2020-05-01')].POPESTIMATE2019.sum()"
   ]
  },
  {
   "cell_type": "code",
   "execution_count": 20,
   "metadata": {},
   "outputs": [
    {
     "data": {
      "text/html": [
       "<div>\n",
       "<style scoped>\n",
       "    .dataframe tbody tr th:only-of-type {\n",
       "        vertical-align: middle;\n",
       "    }\n",
       "\n",
       "    .dataframe tbody tr th {\n",
       "        vertical-align: top;\n",
       "    }\n",
       "\n",
       "    .dataframe thead th {\n",
       "        text-align: right;\n",
       "    }\n",
       "</style>\n",
       "<table border=\"1\" class=\"dataframe\">\n",
       "  <thead>\n",
       "    <tr style=\"text-align: right;\">\n",
       "      <th></th>\n",
       "      <th>POPESTIMATE2019</th>\n",
       "      <th>pct_pop</th>\n",
       "    </tr>\n",
       "    <tr>\n",
       "      <th>school_closure_date</th>\n",
       "      <th></th>\n",
       "      <th></th>\n",
       "    </tr>\n",
       "  </thead>\n",
       "  <tbody>\n",
       "    <tr>\n",
       "      <th>2020-03-12</th>\n",
       "      <td>3934988</td>\n",
       "      <td>0.019230</td>\n",
       "    </tr>\n",
       "    <tr>\n",
       "      <th>2020-03-13</th>\n",
       "      <td>26624257</td>\n",
       "      <td>0.130112</td>\n",
       "    </tr>\n",
       "    <tr>\n",
       "      <th>2020-03-14</th>\n",
       "      <td>27685340</td>\n",
       "      <td>0.135298</td>\n",
       "    </tr>\n",
       "    <tr>\n",
       "      <th>2020-03-15</th>\n",
       "      <td>37936657</td>\n",
       "      <td>0.185396</td>\n",
       "    </tr>\n",
       "    <tr>\n",
       "      <th>2020-03-16</th>\n",
       "      <td>127612031</td>\n",
       "      <td>0.623639</td>\n",
       "    </tr>\n",
       "    <tr>\n",
       "      <th>2020-03-17</th>\n",
       "      <td>158972814</td>\n",
       "      <td>0.776899</td>\n",
       "    </tr>\n",
       "    <tr>\n",
       "      <th>2020-03-18</th>\n",
       "      <td>175042920</td>\n",
       "      <td>0.855433</td>\n",
       "    </tr>\n",
       "    <tr>\n",
       "      <th>2020-03-19</th>\n",
       "      <td>190312116</td>\n",
       "      <td>0.930053</td>\n",
       "    </tr>\n",
       "    <tr>\n",
       "      <th>2020-03-20</th>\n",
       "      <td>199969355</td>\n",
       "      <td>0.977248</td>\n",
       "    </tr>\n",
       "    <tr>\n",
       "      <th>2020-03-23</th>\n",
       "      <td>204122294</td>\n",
       "      <td>0.997544</td>\n",
       "    </tr>\n",
       "    <tr>\n",
       "      <th>2020-04-02</th>\n",
       "      <td>204624938</td>\n",
       "      <td>1.000000</td>\n",
       "    </tr>\n",
       "  </tbody>\n",
       "</table>\n",
       "</div>"
      ],
      "text/plain": [
       "                     POPESTIMATE2019   pct_pop\n",
       "school_closure_date                           \n",
       "2020-03-12                   3934988  0.019230\n",
       "2020-03-13                  26624257  0.130112\n",
       "2020-03-14                  27685340  0.135298\n",
       "2020-03-15                  37936657  0.185396\n",
       "2020-03-16                 127612031  0.623639\n",
       "2020-03-17                 158972814  0.776899\n",
       "2020-03-18                 175042920  0.855433\n",
       "2020-03-19                 190312116  0.930053\n",
       "2020-03-20                 199969355  0.977248\n",
       "2020-03-23                 204122294  0.997544\n",
       "2020-04-02                 204624938  1.000000"
      ]
     },
     "execution_count": 20,
     "metadata": {},
     "output_type": "execute_result"
    }
   ],
   "source": [
    "county_pop_cum"
   ]
  }
 ],
 "metadata": {
  "kernelspec": {
   "display_name": "Python 3",
   "language": "python",
   "name": "python3"
  },
  "language_info": {
   "codemirror_mode": {
    "name": "ipython",
    "version": 3
   },
   "file_extension": ".py",
   "mimetype": "text/x-python",
   "name": "python",
   "nbconvert_exporter": "python",
   "pygments_lexer": "ipython3",
   "version": "3.7.7"
  }
 },
 "nbformat": 4,
 "nbformat_minor": 4
}
